{
 "cells": [
  {
   "cell_type": "code",
   "execution_count": 1,
   "metadata": {},
   "outputs": [],
   "source": [
    "import numpy as np\n",
    "import pandas as pd\n",
    "from pandas.api.types import CategoricalDtype\n",
    "import matplotlib\n",
    "import matplotlib.pyplot as plt\n",
    "#import seaborn as sns\n",
    "import sklearn\n",
    "from sklearn.metrics import mean_squared_error, r2_score, roc_curve, roc_auc_score, accuracy_score\n",
    "from sklearn.model_selection import train_test_split\n",
    "\n",
    "from sklearn.linear_model import Lasso, Ridge\n",
    "\n",
    "from sklearn.pipeline import Pipeline\n",
    "from sklearn.preprocessing import StandardScaler \n",
    "\n",
    "from sklearn.impute import SimpleImputer\n",
    "\n",
    "from sklearn.svm import SVC\n",
    "from sklearn.linear_model import LinearRegression\n",
    "from sklearn.linear_model import LogisticRegression\n",
    "from sklearn.linear_model import SGDClassifier\n",
    "from sklearn.svm import LinearSVC\n",
    "\n",
    "from sklearn.metrics import classification_report, confusion_matrix\n",
    "\n",
    "from sklearn.model_selection import cross_val_score\n",
    "from sklearn.model_selection import cross_val_predict\n",
    "from sklearn.model_selection import GridSearchCV\n",
    "\n",
    "from sklearn.model_selection import learning_curve\n",
    "\n",
    "import warnings\n",
    "warnings.filterwarnings('ignore', category=DeprecationWarning)\n",
    "warnings.filterwarnings('ignore', category=FutureWarning)\n",
    "\n",
    "#pd.show_versions()\n",
    "#matplotlib.__version__\n",
    "#sklearn.__version__"
   ]
  },
  {
   "cell_type": "code",
   "execution_count": 2,
   "metadata": {},
   "outputs": [
    {
     "name": "stdout",
     "output_type": "stream",
     "text": [
      "Requirement already satisfied: seaborn in /Users/andrewmadison/Documents/University of Denver/COMP 4531 Deep Learning/venv/lib/python3.11/site-packages (0.13.0)\n",
      "Requirement already satisfied: numpy!=1.24.0,>=1.20 in /Users/andrewmadison/Documents/University of Denver/COMP 4531 Deep Learning/venv/lib/python3.11/site-packages (from seaborn) (1.25.2)\n",
      "Requirement already satisfied: pandas>=1.2 in /Users/andrewmadison/Documents/University of Denver/COMP 4531 Deep Learning/venv/lib/python3.11/site-packages (from seaborn) (2.1.0)\n",
      "Requirement already satisfied: matplotlib!=3.6.1,>=3.3 in /Users/andrewmadison/Documents/University of Denver/COMP 4531 Deep Learning/venv/lib/python3.11/site-packages (from seaborn) (3.6.2)\n",
      "Requirement already satisfied: contourpy>=1.0.1 in /Users/andrewmadison/Documents/University of Denver/COMP 4531 Deep Learning/venv/lib/python3.11/site-packages (from matplotlib!=3.6.1,>=3.3->seaborn) (1.0.6)\n",
      "Requirement already satisfied: cycler>=0.10 in /Users/andrewmadison/Documents/University of Denver/COMP 4531 Deep Learning/venv/lib/python3.11/site-packages (from matplotlib!=3.6.1,>=3.3->seaborn) (0.11.0)\n",
      "Requirement already satisfied: fonttools>=4.22.0 in /Users/andrewmadison/Documents/University of Denver/COMP 4531 Deep Learning/venv/lib/python3.11/site-packages (from matplotlib!=3.6.1,>=3.3->seaborn) (4.38.0)\n",
      "Requirement already satisfied: kiwisolver>=1.0.1 in /Users/andrewmadison/Documents/University of Denver/COMP 4531 Deep Learning/venv/lib/python3.11/site-packages (from matplotlib!=3.6.1,>=3.3->seaborn) (1.4.4)\n",
      "Requirement already satisfied: packaging>=20.0 in /Users/andrewmadison/Documents/University of Denver/COMP 4531 Deep Learning/venv/lib/python3.11/site-packages (from matplotlib!=3.6.1,>=3.3->seaborn) (22.0)\n",
      "Requirement already satisfied: pillow>=6.2.0 in /Users/andrewmadison/Documents/University of Denver/COMP 4531 Deep Learning/venv/lib/python3.11/site-packages (from matplotlib!=3.6.1,>=3.3->seaborn) (9.4.0)\n",
      "Requirement already satisfied: pyparsing>=2.2.1 in /Users/andrewmadison/Documents/University of Denver/COMP 4531 Deep Learning/venv/lib/python3.11/site-packages (from matplotlib!=3.6.1,>=3.3->seaborn) (3.0.9)\n",
      "Requirement already satisfied: python-dateutil>=2.7 in /Users/andrewmadison/Documents/University of Denver/COMP 4531 Deep Learning/venv/lib/python3.11/site-packages (from matplotlib!=3.6.1,>=3.3->seaborn) (2.8.2)\n",
      "Requirement already satisfied: pytz>=2020.1 in /Users/andrewmadison/Documents/University of Denver/COMP 4531 Deep Learning/venv/lib/python3.11/site-packages (from pandas>=1.2->seaborn) (2022.7)\n",
      "Requirement already satisfied: tzdata>=2022.1 in /Users/andrewmadison/Documents/University of Denver/COMP 4531 Deep Learning/venv/lib/python3.11/site-packages (from pandas>=1.2->seaborn) (2023.3)\n",
      "Requirement already satisfied: six>=1.5 in /Users/andrewmadison/Documents/University of Denver/COMP 4531 Deep Learning/venv/lib/python3.11/site-packages (from python-dateutil>=2.7->matplotlib!=3.6.1,>=3.3->seaborn) (1.16.0)\n",
      "\n",
      "\u001b[1m[\u001b[0m\u001b[34;49mnotice\u001b[0m\u001b[1;39;49m]\u001b[0m\u001b[39;49m A new release of pip is available: \u001b[0m\u001b[31;49m23.2.1\u001b[0m\u001b[39;49m -> \u001b[0m\u001b[32;49m23.3\u001b[0m\n",
      "\u001b[1m[\u001b[0m\u001b[34;49mnotice\u001b[0m\u001b[1;39;49m]\u001b[0m\u001b[39;49m To update, run: \u001b[0m\u001b[32;49mpip install --upgrade pip\u001b[0m\n"
     ]
    }
   ],
   "source": [
    "!pip install --upgrade seaborn\n",
    "import seaborn as sns"
   ]
  },
  {
   "cell_type": "markdown",
   "metadata": {},
   "source": [
    "## Load the titanic dataset from Seaborn by using the load_dataset(‘titanic’) method."
   ]
  },
  {
   "cell_type": "code",
   "execution_count": 3,
   "metadata": {
    "tags": []
   },
   "outputs": [
    {
     "name": "stdout",
     "output_type": "stream",
     "text": [
      "   survived  pclass     sex   age  sibsp  parch     fare embarked  class  \\\n",
      "0         0       3    male  22.0      1      0   7.2500        S  Third   \n",
      "1         1       1  female  38.0      1      0  71.2833        C  First   \n",
      "2         1       3  female  26.0      0      0   7.9250        S  Third   \n",
      "3         1       1  female  35.0      1      0  53.1000        S  First   \n",
      "4         0       3    male  35.0      0      0   8.0500        S  Third   \n",
      "\n",
      "     who  adult_male deck  embark_town alive  alone  \n",
      "0    man        True  NaN  Southampton    no  False  \n",
      "1  woman       False    C    Cherbourg   yes  False  \n",
      "2  woman       False  NaN  Southampton   yes   True  \n",
      "3  woman       False    C  Southampton   yes  False  \n",
      "4    man        True  NaN  Southampton    no   True  \n",
      "<class 'pandas.core.frame.DataFrame'>\n",
      "RangeIndex: 891 entries, 0 to 890\n",
      "Data columns (total 15 columns):\n",
      " #   Column       Non-Null Count  Dtype   \n",
      "---  ------       --------------  -----   \n",
      " 0   survived     891 non-null    int64   \n",
      " 1   pclass       891 non-null    int64   \n",
      " 2   sex          891 non-null    object  \n",
      " 3   age          714 non-null    float64 \n",
      " 4   sibsp        891 non-null    int64   \n",
      " 5   parch        891 non-null    int64   \n",
      " 6   fare         891 non-null    float64 \n",
      " 7   embarked     889 non-null    object  \n",
      " 8   class        891 non-null    category\n",
      " 9   who          891 non-null    object  \n",
      " 10  adult_male   891 non-null    bool    \n",
      " 11  deck         203 non-null    category\n",
      " 12  embark_town  889 non-null    object  \n",
      " 13  alive        891 non-null    object  \n",
      " 14  alone        891 non-null    bool    \n",
      "dtypes: bool(2), category(2), float64(2), int64(4), object(5)\n",
      "memory usage: 80.7+ KB\n"
     ]
    }
   ],
   "source": [
    "\n",
    "# Specify the path to your CSV file\n",
    "#csv_file_path = sns.load_dataset ('tips')\n",
    "\n",
    "# Read the CSV file into a pandas dataframe\n",
    "dfFileInput = sns.load_dataset ('titanic')\n",
    "\n",
    "# Now you can work with the dataframe 'df' as needed\n",
    "# For example, you can print the first few rows of the dataframe\n",
    "print(dfFileInput.head())\n",
    "dfFileInput.info()"
   ]
  },
  {
   "cell_type": "code",
   "execution_count": 4,
   "metadata": {},
   "outputs": [],
   "source": [
    "def Fn_missing_values(df):\n",
    "# df is generic process the data and deliver it to a named dataframe\n",
    "#df = dfTrain.copy()\n",
    "# check for nulls or other missing values\n",
    "\n",
    "    # Assuming 'df' is your pandas dataframe\n",
    "\n",
    "    # Check for missing values using isnull()\n",
    "    missing_values = df.isnull()\n",
    "\n",
    "    # Check for missing values using isna() - alternative method\n",
    "    missing_values2 = df.isna()\n",
    "    #print(missing_values2)\n",
    "\n",
    "    # Count the number of missing values in each column\n",
    "    missing_values_count = missing_values.sum()\n",
    "\n",
    "    # Print the result\n",
    "    print(\"MissingValues Is Null\\n\", missing_values.sum(), '\\n')\n",
    "    print(\"MissingValues2 isna\\n\", missing_values2.sum())\n",
    "\n",
    "    return missing_values"
   ]
  },
  {
   "cell_type": "markdown",
   "metadata": {},
   "source": [
    "## Document the columns that are missing data both numerically (via a count) and visually (via an sns heatmap)."
   ]
  },
  {
   "cell_type": "markdown",
   "metadata": {},
   "source": [
    "### Note age, deck, and embark_town columns have null or  isna values in them."
   ]
  },
  {
   "cell_type": "code",
   "execution_count": 5,
   "metadata": {},
   "outputs": [
    {
     "name": "stdout",
     "output_type": "stream",
     "text": [
      "MissingValues Is Null\n",
      " survived         0\n",
      "pclass           0\n",
      "sex              0\n",
      "age            177\n",
      "sibsp            0\n",
      "parch            0\n",
      "fare             0\n",
      "embarked         2\n",
      "class            0\n",
      "who              0\n",
      "adult_male       0\n",
      "deck           688\n",
      "embark_town      2\n",
      "alive            0\n",
      "alone            0\n",
      "dtype: int64 \n",
      "\n",
      "MissingValues2 isna\n",
      " survived         0\n",
      "pclass           0\n",
      "sex              0\n",
      "age            177\n",
      "sibsp            0\n",
      "parch            0\n",
      "fare             0\n",
      "embarked         2\n",
      "class            0\n",
      "who              0\n",
      "adult_male       0\n",
      "deck           688\n",
      "embark_town      2\n",
      "alive            0\n",
      "alone            0\n",
      "dtype: int64\n"
     ]
    },
    {
     "data": {
      "text/html": [
       "<div>\n",
       "<style scoped>\n",
       "    .dataframe tbody tr th:only-of-type {\n",
       "        vertical-align: middle;\n",
       "    }\n",
       "\n",
       "    .dataframe tbody tr th {\n",
       "        vertical-align: top;\n",
       "    }\n",
       "\n",
       "    .dataframe thead th {\n",
       "        text-align: right;\n",
       "    }\n",
       "</style>\n",
       "<table border=\"1\" class=\"dataframe\">\n",
       "  <thead>\n",
       "    <tr style=\"text-align: right;\">\n",
       "      <th></th>\n",
       "      <th>survived</th>\n",
       "      <th>pclass</th>\n",
       "      <th>sex</th>\n",
       "      <th>age</th>\n",
       "      <th>sibsp</th>\n",
       "      <th>parch</th>\n",
       "      <th>fare</th>\n",
       "      <th>embarked</th>\n",
       "      <th>class</th>\n",
       "      <th>who</th>\n",
       "      <th>adult_male</th>\n",
       "      <th>deck</th>\n",
       "      <th>embark_town</th>\n",
       "      <th>alive</th>\n",
       "      <th>alone</th>\n",
       "    </tr>\n",
       "  </thead>\n",
       "  <tbody>\n",
       "    <tr>\n",
       "      <th>648</th>\n",
       "      <td>0</td>\n",
       "      <td>3</td>\n",
       "      <td>male</td>\n",
       "      <td>NaN</td>\n",
       "      <td>0</td>\n",
       "      <td>0</td>\n",
       "      <td>7.550</td>\n",
       "      <td>S</td>\n",
       "      <td>Third</td>\n",
       "      <td>man</td>\n",
       "      <td>True</td>\n",
       "      <td>NaN</td>\n",
       "      <td>Southampton</td>\n",
       "      <td>no</td>\n",
       "      <td>True</td>\n",
       "    </tr>\n",
       "    <tr>\n",
       "      <th>696</th>\n",
       "      <td>0</td>\n",
       "      <td>3</td>\n",
       "      <td>male</td>\n",
       "      <td>44.0</td>\n",
       "      <td>0</td>\n",
       "      <td>0</td>\n",
       "      <td>8.050</td>\n",
       "      <td>S</td>\n",
       "      <td>Third</td>\n",
       "      <td>man</td>\n",
       "      <td>True</td>\n",
       "      <td>NaN</td>\n",
       "      <td>Southampton</td>\n",
       "      <td>no</td>\n",
       "      <td>True</td>\n",
       "    </tr>\n",
       "    <tr>\n",
       "      <th>183</th>\n",
       "      <td>1</td>\n",
       "      <td>2</td>\n",
       "      <td>male</td>\n",
       "      <td>1.0</td>\n",
       "      <td>2</td>\n",
       "      <td>1</td>\n",
       "      <td>39.000</td>\n",
       "      <td>S</td>\n",
       "      <td>Second</td>\n",
       "      <td>child</td>\n",
       "      <td>False</td>\n",
       "      <td>F</td>\n",
       "      <td>Southampton</td>\n",
       "      <td>yes</td>\n",
       "      <td>False</td>\n",
       "    </tr>\n",
       "    <tr>\n",
       "      <th>787</th>\n",
       "      <td>0</td>\n",
       "      <td>3</td>\n",
       "      <td>male</td>\n",
       "      <td>8.0</td>\n",
       "      <td>4</td>\n",
       "      <td>1</td>\n",
       "      <td>29.125</td>\n",
       "      <td>Q</td>\n",
       "      <td>Third</td>\n",
       "      <td>child</td>\n",
       "      <td>False</td>\n",
       "      <td>NaN</td>\n",
       "      <td>Queenstown</td>\n",
       "      <td>no</td>\n",
       "      <td>False</td>\n",
       "    </tr>\n",
       "    <tr>\n",
       "      <th>808</th>\n",
       "      <td>0</td>\n",
       "      <td>2</td>\n",
       "      <td>male</td>\n",
       "      <td>39.0</td>\n",
       "      <td>0</td>\n",
       "      <td>0</td>\n",
       "      <td>13.000</td>\n",
       "      <td>S</td>\n",
       "      <td>Second</td>\n",
       "      <td>man</td>\n",
       "      <td>True</td>\n",
       "      <td>NaN</td>\n",
       "      <td>Southampton</td>\n",
       "      <td>no</td>\n",
       "      <td>True</td>\n",
       "    </tr>\n",
       "  </tbody>\n",
       "</table>\n",
       "</div>"
      ],
      "text/plain": [
       "     survived  pclass   sex   age  sibsp  parch    fare embarked   class  \\\n",
       "648         0       3  male   NaN      0      0   7.550        S   Third   \n",
       "696         0       3  male  44.0      0      0   8.050        S   Third   \n",
       "183         1       2  male   1.0      2      1  39.000        S  Second   \n",
       "787         0       3  male   8.0      4      1  29.125        Q   Third   \n",
       "808         0       2  male  39.0      0      0  13.000        S  Second   \n",
       "\n",
       "       who  adult_male deck  embark_town alive  alone  \n",
       "648    man        True  NaN  Southampton    no   True  \n",
       "696    man        True  NaN  Southampton    no   True  \n",
       "183  child       False    F  Southampton   yes  False  \n",
       "787  child       False  NaN   Queenstown    no  False  \n",
       "808    man        True  NaN  Southampton    no   True  "
      ]
     },
     "execution_count": 5,
     "metadata": {},
     "output_type": "execute_result"
    }
   ],
   "source": [
    "missingValues = Fn_missing_values(dfFileInput)\n",
    "dfFileInput.sample(5)"
   ]
  },
  {
   "cell_type": "raw",
   "metadata": {},
   "source": [
    "correlation_matrix = dfFileInput.corr()\n",
    "\n",
    "correlation_matrix"
   ]
  },
  {
   "cell_type": "code",
   "execution_count": 6,
   "metadata": {},
   "outputs": [],
   "source": [
    "def find_categorical_columns(df):\n",
    "    categorical_columns = {}\n",
    "    for column_name in df.columns:\n",
    "        if isinstance(df[column_name].dtype, CategoricalDtype):\n",
    "            categorical_columns[column_name] = True\n",
    "        else:\n",
    "            categorical_columns[column_name] = False\n",
    "    return categorical_columns"
   ]
  },
  {
   "cell_type": "code",
   "execution_count": 7,
   "metadata": {},
   "outputs": [
    {
     "name": "stdout",
     "output_type": "stream",
     "text": [
      "Categorical Columns:\n",
      "survived: No\n",
      "pclass: No\n",
      "sex: No\n",
      "age: No\n",
      "sibsp: No\n",
      "parch: No\n",
      "fare: No\n",
      "embarked: No\n",
      "class: Yes\n",
      "who: No\n",
      "adult_male: No\n",
      "deck: Yes\n",
      "embark_town: No\n",
      "alive: No\n",
      "alone: No\n"
     ]
    }
   ],
   "source": [
    "categorical_info = find_categorical_columns(dfFileInput)\n",
    "print(\"Categorical Columns:\")\n",
    "for column, is_categorical in categorical_info.items():\n",
    "    if is_categorical:\n",
    "        print(f\"{column}: Yes\")\n",
    "    else:\n",
    "        print(f\"{column}: No\")"
   ]
  },
  {
   "cell_type": "markdown",
   "metadata": {},
   "source": [
    "### By Inspection deck and class are both redundant and has issues with its category type for the logistic regression model. So Drop them."
   ]
  },
  {
   "cell_type": "code",
   "execution_count": 8,
   "metadata": {},
   "outputs": [
    {
     "name": "stdout",
     "output_type": "stream",
     "text": [
      "MissingValues Is Null\n",
      " survived         0\n",
      "pclass           0\n",
      "sex              0\n",
      "age            177\n",
      "sibsp            0\n",
      "parch            0\n",
      "fare             0\n",
      "embarked         2\n",
      "who              0\n",
      "adult_male       0\n",
      "embark_town      2\n",
      "alive            0\n",
      "alone            0\n",
      "dtype: int64 \n",
      "\n",
      "MissingValues2 isna\n",
      " survived         0\n",
      "pclass           0\n",
      "sex              0\n",
      "age            177\n",
      "sibsp            0\n",
      "parch            0\n",
      "fare             0\n",
      "embarked         2\n",
      "who              0\n",
      "adult_male       0\n",
      "embark_town      2\n",
      "alive            0\n",
      "alone            0\n",
      "dtype: int64\n",
      "     survived  pclass    sex    age  sibsp  parch   fare  embarked    who  \\\n",
      "0       False   False  False  False  False  False  False     False  False   \n",
      "1       False   False  False  False  False  False  False     False  False   \n",
      "2       False   False  False  False  False  False  False     False  False   \n",
      "3       False   False  False  False  False  False  False     False  False   \n",
      "4       False   False  False  False  False  False  False     False  False   \n",
      "..        ...     ...    ...    ...    ...    ...    ...       ...    ...   \n",
      "886     False   False  False  False  False  False  False     False  False   \n",
      "887     False   False  False  False  False  False  False     False  False   \n",
      "888     False   False  False   True  False  False  False     False  False   \n",
      "889     False   False  False  False  False  False  False     False  False   \n",
      "890     False   False  False  False  False  False  False     False  False   \n",
      "\n",
      "     adult_male  embark_town  alive  alone  \n",
      "0         False        False  False  False  \n",
      "1         False        False  False  False  \n",
      "2         False        False  False  False  \n",
      "3         False        False  False  False  \n",
      "4         False        False  False  False  \n",
      "..          ...          ...    ...    ...  \n",
      "886       False        False  False  False  \n",
      "887       False        False  False  False  \n",
      "888       False        False  False  False  \n",
      "889       False        False  False  False  \n",
      "890       False        False  False  False  \n",
      "\n",
      "[891 rows x 13 columns]\n",
      "Categorical Columns:\n",
      "survived: No\n",
      "pclass: No\n",
      "sex: No\n",
      "age: No\n",
      "sibsp: No\n",
      "parch: No\n",
      "fare: No\n",
      "embarked: No\n",
      "who: No\n",
      "adult_male: No\n",
      "embark_town: No\n",
      "alive: No\n",
      "alone: No\n"
     ]
    }
   ],
   "source": [
    "dfFileInput = dfFileInput.drop(['deck', 'class'], axis=1)\n",
    "print(Fn_missing_values(dfFileInput))\n",
    "\n",
    "categorical_info = find_categorical_columns(dfFileInput)\n",
    "print(\"Categorical Columns:\")\n",
    "for column, is_categorical in categorical_info.items():\n",
    "    if is_categorical:\n",
    "        print(f\"{column}: Yes\")\n",
    "    else:\n",
    "        print(f\"{column}: No\")"
   ]
  },
  {
   "cell_type": "markdown",
   "metadata": {},
   "source": [
    "### Heatmap indicates that 'embarked' column also has missing values in addition to those found by isna or isnull."
   ]
  },
  {
   "cell_type": "code",
   "execution_count": 9,
   "metadata": {},
   "outputs": [
    {
     "data": {
      "image/png": "[encoded data removed]",
      "text/plain": [
       "<Figure size 1000x800 with 1 Axes>"
      ]
     },
     "metadata": {},
     "output_type": "display_data"
    }
   ],
   "source": [
    "# Create a heatmap\n",
    "plt.figure(figsize=(10, 8))\n",
    "#sns.heatmap(missingValues, annot=True, cmap='coolwarm', fmt=\".2f\", linewidths=0.5)\n",
    "sns.heatmap(missingValues, cmap='YlGnBu', cbar=False)\n",
    "plt.title('Correlation Heatmap - Titanic Dataset')\n",
    "plt.show()"
   ]
  },
  {
   "cell_type": "markdown",
   "metadata": {},
   "source": [
    "### Answer a series of questions\n",
    "- Did More Women or Men die on the Titanic?\n",
    "\n",
    "Answer: More Men died than Women. \n",
    "\n",
    "Who column was used instead of sex in order to avoid counting children in a question asking about male and female adults."
   ]
  },
  {
   "cell_type": "code",
   "execution_count": 10,
   "metadata": {},
   "outputs": [
    {
     "data": {
      "text/plain": [
       "<seaborn.axisgrid.FacetGrid at 0x1327cb250>"
      ]
     },
     "execution_count": 10,
     "metadata": {},
     "output_type": "execute_result"
    },
    {
     "data": {
      "image/png": "[encoded data removed]",
      "text/plain": [
       "<Figure size 570.486x500 with 1 Axes>"
      ]
     },
     "metadata": {},
     "output_type": "display_data"
    }
   ],
   "source": [
    "sns.catplot(x =\"who\", hue =\"survived\",\n",
    "kind =\"count\", data = dfFileInput)"
   ]
  },
  {
   "cell_type": "markdown",
   "metadata": {},
   "source": [
    "### The above graph indicates that many more men died on the Titanic"
   ]
  },
  {
   "cell_type": "markdown",
   "metadata": {},
   "source": [
    "### Which Passenger class was more likley to survive?\n",
    "\n",
    "- plotting class most likely to survive\n",
    "\n",
    "Show that first class passengers were most likely to survive."
   ]
  },
  {
   "cell_type": "code",
   "execution_count": 11,
   "metadata": {},
   "outputs": [
    {
     "data": {
      "image/png": "[encoded data removed]",
      "text/plain": [
       "<Figure size 640x480 with 1 Axes>"
      ]
     },
     "metadata": {},
     "output_type": "display_data"
    }
   ],
   "source": [
    "# Calculating the survival rate for each passenger class\n",
    "survival_rate_by_class = dfFileInput.groupby('pclass')['survived'].mean()\n",
    "\n",
    "# Creating a bar plot to visualize the survival rates\n",
    "plt.bar(survival_rate_by_class.index, survival_rate_by_class.values)\n",
    "plt.xlabel('Passenger Class')\n",
    "plt.ylabel('Survival Rate')\n",
    "plt.title('Survival Rate by Passenger Class')\n",
    "plt.xticks([1, 2, 3])\n",
    "plt.show()\n"
   ]
  },
  {
   "cell_type": "markdown",
   "metadata": {},
   "source": [
    "### What does the distribution of fare look like\n",
    "\n",
    "- plotting the distribution of fare using fare on the x-axis and distribution on the y."
   ]
  },
  {
   "cell_type": "code",
   "execution_count": 12,
   "metadata": {},
   "outputs": [
    {
     "data": {
      "image/png": "[encoded data removed]",
      "text/plain": [
       "<Figure size 640x480 with 1 Axes>"
      ]
     },
     "metadata": {},
     "output_type": "display_data"
    }
   ],
   "source": [
    "\n",
    "# Creating a histogram of fare distribution\n",
    "plt.hist(dfFileInput['fare'], bins=30, edgecolor='k')\n",
    "plt.xlabel('fare')\n",
    "plt.ylabel('frequency')\n",
    "plt.title('Distribution of Fares')\n",
    "plt.show()\n"
   ]
  },
  {
   "cell_type": "markdown",
   "metadata": {},
   "source": [
    "- used essentially the same plotting details but used kde plot to show smoothed curve suggesting a peak around 15."
   ]
  },
  {
   "cell_type": "code",
   "execution_count": 13,
   "metadata": {},
   "outputs": [
    {
     "data": {
      "image/png": "[encoded data removed]",
      "text/plain": [
       "<Figure size 640x480 with 1 Axes>"
      ]
     },
     "metadata": {},
     "output_type": "display_data"
    }
   ],
   "source": [
    "\n",
    "# Creating a kernel density plot of fare distribution\n",
    "sns.kdeplot(dfFileInput['fare'], fill=True)\n",
    "plt.xlabel('fare')\n",
    "plt.ylabel('density')\n",
    "plt.title('Distribution of Fares')\n",
    "plt.show()\n"
   ]
  },
  {
   "cell_type": "markdown",
   "metadata": {},
   "source": [
    "### What does the distribution of non-null age values look like.\n",
    "\n",
    "- density plot of non-null ages on the titanic"
   ]
  },
  {
   "cell_type": "code",
   "execution_count": 14,
   "metadata": {},
   "outputs": [
    {
     "data": {
      "image/png": "[encoded data removed]",
      "text/plain": [
       "<Figure size 640x480 with 1 Axes>"
      ]
     },
     "metadata": {},
     "output_type": "display_data"
    }
   ],
   "source": [
    "# Creating a kernel density plot of non-null age distribution\n",
    "sns.kdeplot(dfFileInput['age'].dropna(), fill=True)\n",
    "plt.xlabel('Age')\n",
    "plt.ylabel('Density')\n",
    "plt.title('Distribution of Ages')\n",
    "plt.show()\n"
   ]
  },
  {
   "cell_type": "markdown",
   "metadata": {},
   "source": [
    "### What is the median age of each passenger class (pclass)\n",
    "\n",
    "- Calculate and use box plot to display the median age of each passenger class"
   ]
  },
  {
   "cell_type": "code",
   "execution_count": 15,
   "metadata": {},
   "outputs": [
    {
     "name": "stdout",
     "output_type": "stream",
     "text": [
      "<class 'pandas.core.series.Series'> pclass\n",
      "1    37.0\n",
      "2    29.0\n",
      "3    24.0\n",
      "Name: age, dtype: float64\n"
     ]
    }
   ],
   "source": [
    "# Calculating the median age for each passenger class\n",
    "medianAgeByClass = dfFileInput.groupby('pclass')['age'].median()\n",
    "\n",
    "print(type(medianAgeByClass), medianAgeByClass)\n",
    "\n",
    "def Fn_get_median_age_by_class(pclass):\n",
    "    print(pclass)\n",
    "    print(dfFileInput['pclass'])\n",
    "    median_age = 1\n",
    "    median_age = dfFileInput[dfFileInput['pclass'] == pclass]['age'].median()\n",
    "    return median_age\n"
   ]
  },
  {
   "cell_type": "code",
   "execution_count": 16,
   "metadata": {},
   "outputs": [
    {
     "data": {
      "image/png": "[encoded data removed]",
      "text/plain": [
       "<Figure size 640x480 with 1 Axes>"
      ]
     },
     "metadata": {},
     "output_type": "display_data"
    }
   ],
   "source": [
    "\n",
    "# Creating a box plot to show the median age of each passenger class\n",
    "sns.boxplot(data=dfFileInput, x='pclass', y='age')\n",
    "plt.xlabel('Passenger Class')\n",
    "plt.ylabel('Age')\n",
    "plt.title('Median Age of Each Passenger Class')\n",
    "plt.show()\n"
   ]
  },
  {
   "cell_type": "markdown",
   "metadata": {},
   "source": [
    "## Midterm, Part 2: Data Cleansing. \n",
    "- Since there are so many missing values in Cabin, get rid of the cabin feature. \n",
    "- Define a function to impute age using the median of the passenger class you computed earlier.\n",
    "- Drop the remaining records containing null values. \n",
    "- Show there are no remaining null values. \n",
    "- Convert categorical variables to numeric dummies using pandas’ get_dummies() method. Add these to your training dataframe. \n",
    "- Drop the categorical columns you converted earlier as well as name, ticket, and passengerId. \n",
    "- Create a feature set by dropping “Survived.” Your resulting feature set should include pclass, age, sibsp, parch, fare, and the categorical dummy columns you created earlier. \n",
    "- Implement a label dataframe by copying the contents of the Survived column of your training set to a new dataframe. \n",
    "- Split your clean data into a training and test set.\n",
    "\n",
    "### Identify the Target Column: Survived is the target column\n"
   ]
  },
  {
   "cell_type": "code",
   "execution_count": 17,
   "metadata": {},
   "outputs": [],
   "source": [
    "def Fn_target_convert(df, new_target, target_column, one_str, zero_str):     \n",
    "#target_column = 'LoanStatus'\n",
    "    #df = df.dropna(subset=[target_column])\n",
    "\n",
    "    # Map \"On or Ones string\" to 1 and \"Off or Zeros string\" to 0\n",
    "    #dfTrain[target_column] = df['Loan_Status'].map({'Y': 1, 'N': 0})\n",
    "    df[new_target] = df[target_column].map({one_str: 1, zero_str: 0})\n",
    "\n",
    "    # Save the modified DataFrame back to the CSV file\n",
    "    df.to_csv('modifed'+'csv_file_path', index=False)\n",
    "\n",
    "    df[new_target].isna().sum()\n",
    "    return"
   ]
  },
  {
   "cell_type": "code",
   "execution_count": 18,
   "metadata": {},
   "outputs": [],
   "source": [
    "# create a target column varible to be used later\n",
    "targetColumn = 'survived'"
   ]
  },
  {
   "cell_type": "markdown",
   "metadata": {},
   "source": [
    "### Is the target balanced or not balanced?"
   ]
  },
  {
   "cell_type": "code",
   "execution_count": 19,
   "metadata": {},
   "outputs": [
    {
     "name": "stdout",
     "output_type": "stream",
     "text": [
      "survived\n",
      "0    549\n",
      "1    342\n",
      "Name: count, dtype: int64 <class 'pandas.core.series.Series'> 891 0.6161616161616161 0.3838383838383838\n"
     ]
    }
   ],
   "source": [
    "# Assuming your DataFrame is called df and the column name is 'column_name'\n",
    "counts = dfFileInput[targetColumn].value_counts()\n",
    "\n",
    "# Print the counts\n",
    "print(counts, type(counts), counts.sum(), counts[0]/counts.sum(), counts[1]/counts.sum())"
   ]
  },
  {
   "cell_type": "markdown",
   "metadata": {},
   "source": [
    "### Target is balanced"
   ]
  },
  {
   "cell_type": "code",
   "execution_count": 20,
   "metadata": {},
   "outputs": [
    {
     "name": "stdout",
     "output_type": "stream",
     "text": [
      "<class 'pandas.core.frame.DataFrame'>\n",
      "RangeIndex: 891 entries, 0 to 890\n",
      "Data columns (total 13 columns):\n",
      " #   Column       Non-Null Count  Dtype  \n",
      "---  ------       --------------  -----  \n",
      " 0   survived     891 non-null    int64  \n",
      " 1   pclass       891 non-null    int64  \n",
      " 2   sex          891 non-null    object \n",
      " 3   age          714 non-null    float64\n",
      " 4   sibsp        891 non-null    int64  \n",
      " 5   parch        891 non-null    int64  \n",
      " 6   fare         891 non-null    float64\n",
      " 7   embarked     889 non-null    object \n",
      " 8   who          891 non-null    object \n",
      " 9   adult_male   891 non-null    bool   \n",
      " 10  embark_town  889 non-null    object \n",
      " 11  alive        891 non-null    object \n",
      " 12  alone        891 non-null    bool   \n",
      "dtypes: bool(2), float64(2), int64(4), object(5)\n",
      "memory usage: 78.4+ KB\n"
     ]
    }
   ],
   "source": [
    "# output the makeup of the dataset\n",
    "\n",
    "dfFileInput.info()"
   ]
  },
  {
   "cell_type": "markdown",
   "metadata": {},
   "source": [
    "### Since there are so many missing values in Deck, drop that column."
   ]
  },
  {
   "cell_type": "markdown",
   "metadata": {},
   "source": [
    "### Define a function to impute age using the median of the passenger class you computed earlier.\n",
    "- To call it, use train[[‘age’, ‘pclass]].apply(impute_age,axis=1). "
   ]
  },
  {
   "cell_type": "markdown",
   "metadata": {},
   "source": [
    "### Define a function to impute age using the median of the passenger class computed earlier."
   ]
  },
  {
   "cell_type": "code",
   "execution_count": 21,
   "metadata": {},
   "outputs": [
    {
     "name": "stdout",
     "output_type": "stream",
     "text": [
      "0\n"
     ]
    },
    {
     "data": {
      "text/html": [
       "<div>\n",
       "<style scoped>\n",
       "    .dataframe tbody tr th:only-of-type {\n",
       "        vertical-align: middle;\n",
       "    }\n",
       "\n",
       "    .dataframe tbody tr th {\n",
       "        vertical-align: top;\n",
       "    }\n",
       "\n",
       "    .dataframe thead th {\n",
       "        text-align: right;\n",
       "    }\n",
       "</style>\n",
       "<table border=\"1\" class=\"dataframe\">\n",
       "  <thead>\n",
       "    <tr style=\"text-align: right;\">\n",
       "      <th></th>\n",
       "      <th>survived</th>\n",
       "      <th>pclass</th>\n",
       "      <th>sex</th>\n",
       "      <th>age</th>\n",
       "      <th>sibsp</th>\n",
       "      <th>parch</th>\n",
       "      <th>fare</th>\n",
       "      <th>embarked</th>\n",
       "      <th>who</th>\n",
       "      <th>adult_male</th>\n",
       "      <th>embark_town</th>\n",
       "      <th>alive</th>\n",
       "      <th>alone</th>\n",
       "    </tr>\n",
       "  </thead>\n",
       "  <tbody>\n",
       "    <tr>\n",
       "      <th>0</th>\n",
       "      <td>0</td>\n",
       "      <td>3</td>\n",
       "      <td>male</td>\n",
       "      <td>22.00000</td>\n",
       "      <td>1</td>\n",
       "      <td>0</td>\n",
       "      <td>7.2500</td>\n",
       "      <td>S</td>\n",
       "      <td>man</td>\n",
       "      <td>True</td>\n",
       "      <td>Southampton</td>\n",
       "      <td>no</td>\n",
       "      <td>False</td>\n",
       "    </tr>\n",
       "    <tr>\n",
       "      <th>1</th>\n",
       "      <td>1</td>\n",
       "      <td>1</td>\n",
       "      <td>female</td>\n",
       "      <td>38.00000</td>\n",
       "      <td>1</td>\n",
       "      <td>0</td>\n",
       "      <td>71.2833</td>\n",
       "      <td>C</td>\n",
       "      <td>woman</td>\n",
       "      <td>False</td>\n",
       "      <td>Cherbourg</td>\n",
       "      <td>yes</td>\n",
       "      <td>False</td>\n",
       "    </tr>\n",
       "    <tr>\n",
       "      <th>2</th>\n",
       "      <td>1</td>\n",
       "      <td>3</td>\n",
       "      <td>female</td>\n",
       "      <td>26.00000</td>\n",
       "      <td>0</td>\n",
       "      <td>0</td>\n",
       "      <td>7.9250</td>\n",
       "      <td>S</td>\n",
       "      <td>woman</td>\n",
       "      <td>False</td>\n",
       "      <td>Southampton</td>\n",
       "      <td>yes</td>\n",
       "      <td>True</td>\n",
       "    </tr>\n",
       "    <tr>\n",
       "      <th>3</th>\n",
       "      <td>1</td>\n",
       "      <td>1</td>\n",
       "      <td>female</td>\n",
       "      <td>35.00000</td>\n",
       "      <td>1</td>\n",
       "      <td>0</td>\n",
       "      <td>53.1000</td>\n",
       "      <td>S</td>\n",
       "      <td>woman</td>\n",
       "      <td>False</td>\n",
       "      <td>Southampton</td>\n",
       "      <td>yes</td>\n",
       "      <td>False</td>\n",
       "    </tr>\n",
       "    <tr>\n",
       "      <th>4</th>\n",
       "      <td>0</td>\n",
       "      <td>3</td>\n",
       "      <td>male</td>\n",
       "      <td>35.00000</td>\n",
       "      <td>0</td>\n",
       "      <td>0</td>\n",
       "      <td>8.0500</td>\n",
       "      <td>S</td>\n",
       "      <td>man</td>\n",
       "      <td>True</td>\n",
       "      <td>Southampton</td>\n",
       "      <td>no</td>\n",
       "      <td>True</td>\n",
       "    </tr>\n",
       "    <tr>\n",
       "      <th>5</th>\n",
       "      <td>0</td>\n",
       "      <td>3</td>\n",
       "      <td>male</td>\n",
       "      <td>25.14062</td>\n",
       "      <td>0</td>\n",
       "      <td>0</td>\n",
       "      <td>8.4583</td>\n",
       "      <td>Q</td>\n",
       "      <td>man</td>\n",
       "      <td>True</td>\n",
       "      <td>Queenstown</td>\n",
       "      <td>no</td>\n",
       "      <td>True</td>\n",
       "    </tr>\n",
       "    <tr>\n",
       "      <th>6</th>\n",
       "      <td>0</td>\n",
       "      <td>1</td>\n",
       "      <td>male</td>\n",
       "      <td>54.00000</td>\n",
       "      <td>0</td>\n",
       "      <td>0</td>\n",
       "      <td>51.8625</td>\n",
       "      <td>S</td>\n",
       "      <td>man</td>\n",
       "      <td>True</td>\n",
       "      <td>Southampton</td>\n",
       "      <td>no</td>\n",
       "      <td>True</td>\n",
       "    </tr>\n",
       "    <tr>\n",
       "      <th>7</th>\n",
       "      <td>0</td>\n",
       "      <td>3</td>\n",
       "      <td>male</td>\n",
       "      <td>2.00000</td>\n",
       "      <td>3</td>\n",
       "      <td>1</td>\n",
       "      <td>21.0750</td>\n",
       "      <td>S</td>\n",
       "      <td>child</td>\n",
       "      <td>False</td>\n",
       "      <td>Southampton</td>\n",
       "      <td>no</td>\n",
       "      <td>False</td>\n",
       "    </tr>\n",
       "    <tr>\n",
       "      <th>8</th>\n",
       "      <td>1</td>\n",
       "      <td>3</td>\n",
       "      <td>female</td>\n",
       "      <td>27.00000</td>\n",
       "      <td>0</td>\n",
       "      <td>2</td>\n",
       "      <td>11.1333</td>\n",
       "      <td>S</td>\n",
       "      <td>woman</td>\n",
       "      <td>False</td>\n",
       "      <td>Southampton</td>\n",
       "      <td>yes</td>\n",
       "      <td>False</td>\n",
       "    </tr>\n",
       "    <tr>\n",
       "      <th>9</th>\n",
       "      <td>1</td>\n",
       "      <td>2</td>\n",
       "      <td>female</td>\n",
       "      <td>14.00000</td>\n",
       "      <td>1</td>\n",
       "      <td>0</td>\n",
       "      <td>30.0708</td>\n",
       "      <td>C</td>\n",
       "      <td>child</td>\n",
       "      <td>False</td>\n",
       "      <td>Cherbourg</td>\n",
       "      <td>yes</td>\n",
       "      <td>False</td>\n",
       "    </tr>\n",
       "  </tbody>\n",
       "</table>\n",
       "</div>"
      ],
      "text/plain": [
       "   survived  pclass     sex       age  sibsp  parch     fare embarked    who  \\\n",
       "0         0       3    male  22.00000      1      0   7.2500        S    man   \n",
       "1         1       1  female  38.00000      1      0  71.2833        C  woman   \n",
       "2         1       3  female  26.00000      0      0   7.9250        S  woman   \n",
       "3         1       1  female  35.00000      1      0  53.1000        S  woman   \n",
       "4         0       3    male  35.00000      0      0   8.0500        S    man   \n",
       "5         0       3    male  25.14062      0      0   8.4583        Q    man   \n",
       "6         0       1    male  54.00000      0      0  51.8625        S    man   \n",
       "7         0       3    male   2.00000      3      1  21.0750        S  child   \n",
       "8         1       3  female  27.00000      0      2  11.1333        S  woman   \n",
       "9         1       2  female  14.00000      1      0  30.0708        C  child   \n",
       "\n",
       "   adult_male  embark_town alive  alone  \n",
       "0        True  Southampton    no  False  \n",
       "1       False    Cherbourg   yes  False  \n",
       "2       False  Southampton   yes   True  \n",
       "3       False  Southampton   yes  False  \n",
       "4        True  Southampton    no   True  \n",
       "5        True   Queenstown    no   True  \n",
       "6        True  Southampton    no   True  \n",
       "7       False  Southampton    no  False  \n",
       "8       False  Southampton   yes  False  \n",
       "9       False    Cherbourg   yes  False  "
      ]
     },
     "execution_count": 21,
     "metadata": {},
     "output_type": "execute_result"
    }
   ],
   "source": [
    "# Calculating the mean age for each passenger by class whether null or not\n",
    "mean_age_by_class = dfFileInput.groupby('pclass')['age'].transform('mean')\n",
    "#print(mean_age_by_class)\n",
    "\n",
    "# Filling NaN values in the 'Age' column with the corresponding passenger class mean age\n",
    "dfFileInput['age'] = dfFileInput['age'].fillna(mean_age_by_class)\n",
    "\n",
    "# Verifying the result\n",
    "print(dfFileInput['age'].isnull().sum())  # Check if there are any remaining missing values\n",
    "\n",
    "#check if correct value \n",
    "dfFileInput.head(10)\n",
    "#index 5 was null, and a value appropriate for third class is present"
   ]
  },
  {
   "cell_type": "markdown",
   "metadata": {},
   "source": [
    "### Drop the remaining records containing null values. \n"
   ]
  },
  {
   "cell_type": "code",
   "execution_count": 22,
   "metadata": {},
   "outputs": [
    {
     "name": "stdout",
     "output_type": "stream",
     "text": [
      "MissingValues Is Null\n",
      " survived       0\n",
      "pclass         0\n",
      "sex            0\n",
      "age            0\n",
      "sibsp          0\n",
      "parch          0\n",
      "fare           0\n",
      "embarked       2\n",
      "who            0\n",
      "adult_male     0\n",
      "embark_town    2\n",
      "alive          0\n",
      "alone          0\n",
      "dtype: int64 \n",
      "\n",
      "MissingValues2 isna\n",
      " survived       0\n",
      "pclass         0\n",
      "sex            0\n",
      "age            0\n",
      "sibsp          0\n",
      "parch          0\n",
      "fare           0\n",
      "embarked       2\n",
      "who            0\n",
      "adult_male     0\n",
      "embark_town    2\n",
      "alive          0\n",
      "alone          0\n",
      "dtype: int64\n",
      "     survived  pclass    sex    age  sibsp  parch   fare  embarked    who  \\\n",
      "0       False   False  False  False  False  False  False     False  False   \n",
      "1       False   False  False  False  False  False  False     False  False   \n",
      "2       False   False  False  False  False  False  False     False  False   \n",
      "3       False   False  False  False  False  False  False     False  False   \n",
      "4       False   False  False  False  False  False  False     False  False   \n",
      "..        ...     ...    ...    ...    ...    ...    ...       ...    ...   \n",
      "886     False   False  False  False  False  False  False     False  False   \n",
      "887     False   False  False  False  False  False  False     False  False   \n",
      "888     False   False  False  False  False  False  False     False  False   \n",
      "889     False   False  False  False  False  False  False     False  False   \n",
      "890     False   False  False  False  False  False  False     False  False   \n",
      "\n",
      "     adult_male  embark_town  alive  alone  \n",
      "0         False        False  False  False  \n",
      "1         False        False  False  False  \n",
      "2         False        False  False  False  \n",
      "3         False        False  False  False  \n",
      "4         False        False  False  False  \n",
      "..          ...          ...    ...    ...  \n",
      "886       False        False  False  False  \n",
      "887       False        False  False  False  \n",
      "888       False        False  False  False  \n",
      "889       False        False  False  False  \n",
      "890       False        False  False  False  \n",
      "\n",
      "[891 rows x 13 columns]\n"
     ]
    }
   ],
   "source": [
    "missingValues = Fn_missing_values(dfFileInput)\n",
    "print(missingValues)"
   ]
  },
  {
   "cell_type": "markdown",
   "metadata": {},
   "source": [
    "### Remove what should be only two rows missing values\n",
    "\n",
    "### Show there are no remaining null values. "
   ]
  },
  {
   "cell_type": "code",
   "execution_count": 23,
   "metadata": {},
   "outputs": [
    {
     "name": "stdout",
     "output_type": "stream",
     "text": [
      "MissingValues2 isna\n",
      " survived       0\n",
      "pclass         0\n",
      "sex            0\n",
      "age            0\n",
      "sibsp          0\n",
      "parch          0\n",
      "fare           0\n",
      "embarked       0\n",
      "who            0\n",
      "adult_male     0\n",
      "embark_town    0\n",
      "alive          0\n",
      "alone          0\n",
      "dtype: int64\n",
      "<class 'pandas.core.frame.DataFrame'>\n",
      "Index: 889 entries, 0 to 890\n",
      "Data columns (total 13 columns):\n",
      " #   Column       Non-Null Count  Dtype  \n",
      "---  ------       --------------  -----  \n",
      " 0   survived     889 non-null    int64  \n",
      " 1   pclass       889 non-null    int64  \n",
      " 2   sex          889 non-null    object \n",
      " 3   age          889 non-null    float64\n",
      " 4   sibsp        889 non-null    int64  \n",
      " 5   parch        889 non-null    int64  \n",
      " 6   fare         889 non-null    float64\n",
      " 7   embarked     889 non-null    object \n",
      " 8   who          889 non-null    object \n",
      " 9   adult_male   889 non-null    bool   \n",
      " 10  embark_town  889 non-null    object \n",
      " 11  alive        889 non-null    object \n",
      " 12  alone        889 non-null    bool   \n",
      "dtypes: bool(2), float64(2), int64(4), object(5)\n",
      "memory usage: 85.1+ KB\n"
     ]
    }
   ],
   "source": [
    "dfClean = dfFileInput.dropna()\n",
    "\n",
    "missingValues = dfClean.isna()\n",
    "\n",
    "print(\"MissingValues2 isna\\n\", missingValues.sum())\n",
    "\n",
    "dfClean.info()"
   ]
  },
  {
   "cell_type": "markdown",
   "metadata": {},
   "source": [
    "### Impute the remaining columns\n",
    "- unused in this assignment"
   ]
  },
  {
   "cell_type": "code",
   "execution_count": 24,
   "metadata": {},
   "outputs": [],
   "source": [
    "def Fn_impute_missing (df):\n",
    "    numeric_columns = df.select_dtypes(include=['float64', 'int64']).columns\n",
    "    categorical_columns = df.select_dtypes(include=['object']).columns\n",
    "\n",
    "    numeric_imputer = SimpleImputer(strategy='mean')\n",
    "    df[numeric_columns] = numeric_imputer.fit_transform(df[numeric_columns])\n",
    "\n",
    "    categorical_imputer = SimpleImputer(strategy='most_frequent')\n",
    "    df[categorical_columns] = categorical_imputer.fit_transform(df[categorical_columns])\n",
    "    return"
   ]
  },
  {
   "cell_type": "markdown",
   "metadata": {},
   "source": [
    "### Convert categorical variables to numeric dummies using pandas’ get_dummies() method. Add these to your training dataframe. \n",
    "- and alive is obviously a duplicate of survived, so dropping that one too, also so it doesn't get converted.\n",
    "- Remember this dfClean dataframe. The Neural Net goes in a different direction for using categorical columns."
   ]
  },
  {
   "cell_type": "code",
   "execution_count": 25,
   "metadata": {},
   "outputs": [],
   "source": [
    "dfClean = dfClean.drop('alive', axis=1)"
   ]
  },
  {
   "cell_type": "code",
   "execution_count": 26,
   "metadata": {},
   "outputs": [],
   "source": [
    "def Fn_Convert_Categoricals(df):\n",
    "# Get the column data types\n",
    "    column_types = df.dtypes\n",
    "\n",
    "    print(column_types)\n",
    "\n",
    "    # Identify categorical columns\n",
    "    categorical_columns = column_types[column_types == 'object'].index.tolist()\n",
    "\n",
    "    # Print the list of categorical columns\n",
    "    print(\"Categorical Columns:\", categorical_columns)\n",
    "\n",
    "    #migrating to a different variable to \n",
    "    return(pd.get_dummies(df, \n",
    "                     columns=categorical_columns))"
   ]
  },
  {
   "cell_type": "markdown",
   "metadata": {},
   "source": [
    "#### Converting categoricals"
   ]
  },
  {
   "cell_type": "code",
   "execution_count": 27,
   "metadata": {},
   "outputs": [
    {
     "name": "stdout",
     "output_type": "stream",
     "text": [
      "survived         int64\n",
      "pclass           int64\n",
      "sex             object\n",
      "age            float64\n",
      "sibsp            int64\n",
      "parch            int64\n",
      "fare           float64\n",
      "embarked        object\n",
      "who             object\n",
      "adult_male        bool\n",
      "embark_town     object\n",
      "alone             bool\n",
      "dtype: object\n",
      "Categorical Columns: ['sex', 'embarked', 'who', 'embark_town']\n",
      "<class 'pandas.core.frame.DataFrame'>\n",
      "Index: 889 entries, 0 to 890\n",
      "Data columns (total 19 columns):\n",
      " #   Column                   Non-Null Count  Dtype  \n",
      "---  ------                   --------------  -----  \n",
      " 0   survived                 889 non-null    int64  \n",
      " 1   pclass                   889 non-null    int64  \n",
      " 2   age                      889 non-null    float64\n",
      " 3   sibsp                    889 non-null    int64  \n",
      " 4   parch                    889 non-null    int64  \n",
      " 5   fare                     889 non-null    float64\n",
      " 6   adult_male               889 non-null    bool   \n",
      " 7   alone                    889 non-null    bool   \n",
      " 8   sex_female               889 non-null    bool   \n",
      " 9   sex_male                 889 non-null    bool   \n",
      " 10  embarked_C               889 non-null    bool   \n",
      " 11  embarked_Q               889 non-null    bool   \n",
      " 12  embarked_S               889 non-null    bool   \n",
      " 13  who_child                889 non-null    bool   \n",
      " 14  who_man                  889 non-null    bool   \n",
      " 15  who_woman                889 non-null    bool   \n",
      " 16  embark_town_Cherbourg    889 non-null    bool   \n",
      " 17  embark_town_Queenstown   889 non-null    bool   \n",
      " 18  embark_town_Southampton  889 non-null    bool   \n",
      "dtypes: bool(13), float64(2), int64(4)\n",
      "memory usage: 59.9 KB\n"
     ]
    }
   ],
   "source": [
    "# function converts using get_dummies \n",
    "# and the output is returned which is saved in a dataframe variable indicating the dataset evolution\n",
    "dfEncoded = Fn_Convert_Categoricals(dfClean)\n",
    "dfEncoded.info()"
   ]
  },
  {
   "cell_type": "code",
   "execution_count": 28,
   "metadata": {},
   "outputs": [
    {
     "data": {
      "text/html": [
       "<div>\n",
       "<style scoped>\n",
       "    .dataframe tbody tr th:only-of-type {\n",
       "        vertical-align: middle;\n",
       "    }\n",
       "\n",
       "    .dataframe tbody tr th {\n",
       "        vertical-align: top;\n",
       "    }\n",
       "\n",
       "    .dataframe thead th {\n",
       "        text-align: right;\n",
       "    }\n",
       "</style>\n",
       "<table border=\"1\" class=\"dataframe\">\n",
       "  <thead>\n",
       "    <tr style=\"text-align: right;\">\n",
       "      <th></th>\n",
       "      <th>survived</th>\n",
       "      <th>pclass</th>\n",
       "      <th>age</th>\n",
       "      <th>sibsp</th>\n",
       "      <th>parch</th>\n",
       "      <th>fare</th>\n",
       "      <th>adult_male</th>\n",
       "      <th>alone</th>\n",
       "      <th>sex_female</th>\n",
       "      <th>sex_male</th>\n",
       "      <th>embarked_C</th>\n",
       "      <th>embarked_Q</th>\n",
       "      <th>embarked_S</th>\n",
       "      <th>who_child</th>\n",
       "      <th>who_man</th>\n",
       "      <th>who_woman</th>\n",
       "      <th>embark_town_Cherbourg</th>\n",
       "      <th>embark_town_Queenstown</th>\n",
       "      <th>embark_town_Southampton</th>\n",
       "    </tr>\n",
       "  </thead>\n",
       "  <tbody>\n",
       "    <tr>\n",
       "      <th>532</th>\n",
       "      <td>0</td>\n",
       "      <td>3</td>\n",
       "      <td>17.0</td>\n",
       "      <td>1</td>\n",
       "      <td>1</td>\n",
       "      <td>7.2292</td>\n",
       "      <td>True</td>\n",
       "      <td>False</td>\n",
       "      <td>False</td>\n",
       "      <td>True</td>\n",
       "      <td>True</td>\n",
       "      <td>False</td>\n",
       "      <td>False</td>\n",
       "      <td>False</td>\n",
       "      <td>True</td>\n",
       "      <td>False</td>\n",
       "      <td>True</td>\n",
       "      <td>False</td>\n",
       "      <td>False</td>\n",
       "    </tr>\n",
       "    <tr>\n",
       "      <th>90</th>\n",
       "      <td>0</td>\n",
       "      <td>3</td>\n",
       "      <td>29.0</td>\n",
       "      <td>0</td>\n",
       "      <td>0</td>\n",
       "      <td>8.0500</td>\n",
       "      <td>True</td>\n",
       "      <td>True</td>\n",
       "      <td>False</td>\n",
       "      <td>True</td>\n",
       "      <td>False</td>\n",
       "      <td>False</td>\n",
       "      <td>True</td>\n",
       "      <td>False</td>\n",
       "      <td>True</td>\n",
       "      <td>False</td>\n",
       "      <td>False</td>\n",
       "      <td>False</td>\n",
       "      <td>True</td>\n",
       "    </tr>\n",
       "    <tr>\n",
       "      <th>540</th>\n",
       "      <td>1</td>\n",
       "      <td>1</td>\n",
       "      <td>36.0</td>\n",
       "      <td>0</td>\n",
       "      <td>2</td>\n",
       "      <td>71.0000</td>\n",
       "      <td>False</td>\n",
       "      <td>False</td>\n",
       "      <td>True</td>\n",
       "      <td>False</td>\n",
       "      <td>False</td>\n",
       "      <td>False</td>\n",
       "      <td>True</td>\n",
       "      <td>False</td>\n",
       "      <td>False</td>\n",
       "      <td>True</td>\n",
       "      <td>False</td>\n",
       "      <td>False</td>\n",
       "      <td>True</td>\n",
       "    </tr>\n",
       "    <tr>\n",
       "      <th>811</th>\n",
       "      <td>0</td>\n",
       "      <td>3</td>\n",
       "      <td>39.0</td>\n",
       "      <td>0</td>\n",
       "      <td>0</td>\n",
       "      <td>24.1500</td>\n",
       "      <td>True</td>\n",
       "      <td>True</td>\n",
       "      <td>False</td>\n",
       "      <td>True</td>\n",
       "      <td>False</td>\n",
       "      <td>False</td>\n",
       "      <td>True</td>\n",
       "      <td>False</td>\n",
       "      <td>True</td>\n",
       "      <td>False</td>\n",
       "      <td>False</td>\n",
       "      <td>False</td>\n",
       "      <td>True</td>\n",
       "    </tr>\n",
       "    <tr>\n",
       "      <th>654</th>\n",
       "      <td>0</td>\n",
       "      <td>3</td>\n",
       "      <td>18.0</td>\n",
       "      <td>0</td>\n",
       "      <td>0</td>\n",
       "      <td>6.7500</td>\n",
       "      <td>False</td>\n",
       "      <td>True</td>\n",
       "      <td>True</td>\n",
       "      <td>False</td>\n",
       "      <td>False</td>\n",
       "      <td>True</td>\n",
       "      <td>False</td>\n",
       "      <td>False</td>\n",
       "      <td>False</td>\n",
       "      <td>True</td>\n",
       "      <td>False</td>\n",
       "      <td>True</td>\n",
       "      <td>False</td>\n",
       "    </tr>\n",
       "  </tbody>\n",
       "</table>\n",
       "</div>"
      ],
      "text/plain": [
       "     survived  pclass   age  sibsp  parch     fare  adult_male  alone  \\\n",
       "532         0       3  17.0      1      1   7.2292        True  False   \n",
       "90          0       3  29.0      0      0   8.0500        True   True   \n",
       "540         1       1  36.0      0      2  71.0000       False  False   \n",
       "811         0       3  39.0      0      0  24.1500        True   True   \n",
       "654         0       3  18.0      0      0   6.7500       False   True   \n",
       "\n",
       "     sex_female  sex_male  embarked_C  embarked_Q  embarked_S  who_child  \\\n",
       "532       False      True        True       False       False      False   \n",
       "90        False      True       False       False        True      False   \n",
       "540        True     False       False       False        True      False   \n",
       "811       False      True       False       False        True      False   \n",
       "654        True     False       False        True       False      False   \n",
       "\n",
       "     who_man  who_woman  embark_town_Cherbourg  embark_town_Queenstown  \\\n",
       "532     True      False                   True                   False   \n",
       "90      True      False                  False                   False   \n",
       "540    False       True                  False                   False   \n",
       "811     True      False                  False                   False   \n",
       "654    False       True                  False                    True   \n",
       "\n",
       "     embark_town_Southampton  \n",
       "532                    False  \n",
       "90                      True  \n",
       "540                     True  \n",
       "811                     True  \n",
       "654                    False  "
      ]
     },
     "execution_count": 28,
     "metadata": {},
     "output_type": "execute_result"
    }
   ],
   "source": [
    "dfEncoded.sample(5)"
   ]
  },
  {
   "cell_type": "markdown",
   "metadata": {},
   "source": [
    "### scaling data - scaled data not needed for Logistic Regression Model"
   ]
  },
  {
   "cell_type": "markdown",
   "metadata": {},
   "source": [
    "### Split clean data into a training and test set."
   ]
  },
  {
   "cell_type": "code",
   "execution_count": 29,
   "metadata": {},
   "outputs": [
    {
     "name": "stdout",
     "output_type": "stream",
     "text": [
      "Shape of train_features: (711, 18)\n",
      "Shape of train_target: (711,)\n",
      "Shape of test_features: (178, 18)\n",
      "Shape of test_target: (178,)\n"
     ]
    },
    {
     "data": {
      "text/html": [
       "<div>\n",
       "<style scoped>\n",
       "    .dataframe tbody tr th:only-of-type {\n",
       "        vertical-align: middle;\n",
       "    }\n",
       "\n",
       "    .dataframe tbody tr th {\n",
       "        vertical-align: top;\n",
       "    }\n",
       "\n",
       "    .dataframe thead th {\n",
       "        text-align: right;\n",
       "    }\n",
       "</style>\n",
       "<table border=\"1\" class=\"dataframe\">\n",
       "  <thead>\n",
       "    <tr style=\"text-align: right;\">\n",
       "      <th></th>\n",
       "      <th>pclass</th>\n",
       "      <th>age</th>\n",
       "      <th>sibsp</th>\n",
       "      <th>parch</th>\n",
       "      <th>fare</th>\n",
       "      <th>adult_male</th>\n",
       "      <th>alone</th>\n",
       "      <th>sex_female</th>\n",
       "      <th>sex_male</th>\n",
       "      <th>embarked_C</th>\n",
       "      <th>embarked_Q</th>\n",
       "      <th>embarked_S</th>\n",
       "      <th>who_child</th>\n",
       "      <th>who_man</th>\n",
       "      <th>who_woman</th>\n",
       "      <th>embark_town_Cherbourg</th>\n",
       "      <th>embark_town_Queenstown</th>\n",
       "      <th>embark_town_Southampton</th>\n",
       "    </tr>\n",
       "  </thead>\n",
       "  <tbody>\n",
       "    <tr>\n",
       "      <th>184</th>\n",
       "      <td>3</td>\n",
       "      <td>4.000000</td>\n",
       "      <td>0</td>\n",
       "      <td>2</td>\n",
       "      <td>22.025</td>\n",
       "      <td>False</td>\n",
       "      <td>False</td>\n",
       "      <td>True</td>\n",
       "      <td>False</td>\n",
       "      <td>False</td>\n",
       "      <td>False</td>\n",
       "      <td>True</td>\n",
       "      <td>True</td>\n",
       "      <td>False</td>\n",
       "      <td>False</td>\n",
       "      <td>False</td>\n",
       "      <td>False</td>\n",
       "      <td>True</td>\n",
       "    </tr>\n",
       "    <tr>\n",
       "      <th>636</th>\n",
       "      <td>3</td>\n",
       "      <td>32.000000</td>\n",
       "      <td>0</td>\n",
       "      <td>0</td>\n",
       "      <td>7.925</td>\n",
       "      <td>True</td>\n",
       "      <td>True</td>\n",
       "      <td>False</td>\n",
       "      <td>True</td>\n",
       "      <td>False</td>\n",
       "      <td>False</td>\n",
       "      <td>True</td>\n",
       "      <td>False</td>\n",
       "      <td>True</td>\n",
       "      <td>False</td>\n",
       "      <td>False</td>\n",
       "      <td>False</td>\n",
       "      <td>True</td>\n",
       "    </tr>\n",
       "    <tr>\n",
       "      <th>366</th>\n",
       "      <td>1</td>\n",
       "      <td>60.000000</td>\n",
       "      <td>1</td>\n",
       "      <td>0</td>\n",
       "      <td>75.250</td>\n",
       "      <td>False</td>\n",
       "      <td>False</td>\n",
       "      <td>True</td>\n",
       "      <td>False</td>\n",
       "      <td>True</td>\n",
       "      <td>False</td>\n",
       "      <td>False</td>\n",
       "      <td>False</td>\n",
       "      <td>False</td>\n",
       "      <td>True</td>\n",
       "      <td>True</td>\n",
       "      <td>False</td>\n",
       "      <td>False</td>\n",
       "    </tr>\n",
       "    <tr>\n",
       "      <th>284</th>\n",
       "      <td>1</td>\n",
       "      <td>38.233441</td>\n",
       "      <td>0</td>\n",
       "      <td>0</td>\n",
       "      <td>26.000</td>\n",
       "      <td>True</td>\n",
       "      <td>True</td>\n",
       "      <td>False</td>\n",
       "      <td>True</td>\n",
       "      <td>False</td>\n",
       "      <td>False</td>\n",
       "      <td>True</td>\n",
       "      <td>False</td>\n",
       "      <td>True</td>\n",
       "      <td>False</td>\n",
       "      <td>False</td>\n",
       "      <td>False</td>\n",
       "      <td>True</td>\n",
       "    </tr>\n",
       "    <tr>\n",
       "      <th>117</th>\n",
       "      <td>2</td>\n",
       "      <td>29.000000</td>\n",
       "      <td>1</td>\n",
       "      <td>0</td>\n",
       "      <td>21.000</td>\n",
       "      <td>True</td>\n",
       "      <td>False</td>\n",
       "      <td>False</td>\n",
       "      <td>True</td>\n",
       "      <td>False</td>\n",
       "      <td>False</td>\n",
       "      <td>True</td>\n",
       "      <td>False</td>\n",
       "      <td>True</td>\n",
       "      <td>False</td>\n",
       "      <td>False</td>\n",
       "      <td>False</td>\n",
       "      <td>True</td>\n",
       "    </tr>\n",
       "  </tbody>\n",
       "</table>\n",
       "</div>"
      ],
      "text/plain": [
       "     pclass        age  sibsp  parch    fare  adult_male  alone  sex_female  \\\n",
       "184       3   4.000000      0      2  22.025       False  False        True   \n",
       "636       3  32.000000      0      0   7.925        True   True       False   \n",
       "366       1  60.000000      1      0  75.250       False  False        True   \n",
       "284       1  38.233441      0      0  26.000        True   True       False   \n",
       "117       2  29.000000      1      0  21.000        True  False       False   \n",
       "\n",
       "     sex_male  embarked_C  embarked_Q  embarked_S  who_child  who_man  \\\n",
       "184     False       False       False        True       True    False   \n",
       "636      True       False       False        True      False     True   \n",
       "366     False        True       False       False      False    False   \n",
       "284      True       False       False        True      False     True   \n",
       "117      True       False       False        True      False     True   \n",
       "\n",
       "     who_woman  embark_town_Cherbourg  embark_town_Queenstown  \\\n",
       "184      False                  False                   False   \n",
       "636      False                  False                   False   \n",
       "366       True                   True                   False   \n",
       "284      False                  False                   False   \n",
       "117      False                  False                   False   \n",
       "\n",
       "     embark_town_Southampton  \n",
       "184                     True  \n",
       "636                     True  \n",
       "366                    False  \n",
       "284                     True  \n",
       "117                     True  "
      ]
     },
     "execution_count": 29,
     "metadata": {},
     "output_type": "execute_result"
    }
   ],
   "source": [
    "train_df, test_df = train_test_split(dfEncoded, test_size=0.2, shuffle=False)\n",
    "\n",
    "train_features = train_df.drop(targetColumn, axis=1)\n",
    "train_target = train_df[targetColumn].values\n",
    "test_features = test_df.drop(targetColumn, axis=1)\n",
    "test_target = test_df[targetColumn].values\n",
    "\n",
    "# Print the shapes of the training and test sets\n",
    "print(\"Shape of train_features:\", train_features.shape)\n",
    "print(\"Shape of train_target:\", train_target.shape)\n",
    "\n",
    "print(\"Shape of test_features:\", test_features.shape)\n",
    "print(\"Shape of test_target:\", test_target.shape)\n",
    "\n",
    "train_features.sample(5)"
   ]
  },
  {
   "cell_type": "code",
   "execution_count": 30,
   "metadata": {},
   "outputs": [],
   "source": [
    "from sklearn.preprocessing import MinMaxScaler\n",
    "\n",
    "scaleDatasetData = False\n",
    "#df_target = dfClean[target_column]\n",
    "\n",
    "#df_features = dfClean.drop(target_column, axis=1)\n",
    "\n",
    "if scaleDatasetData:\n",
    "    scaler = MinMaxScaler()\n",
    "    train_features = scaler.fit_transform(train_features)\n",
    "    print(type(scaled_train_features))\n",
    "    scaled_train_features.shape\n",
    "    print(train_features)"
   ]
  },
  {
   "cell_type": "markdown",
   "metadata": {},
   "source": [
    "## MidTerm, Part 3: Model Training for Standard Model Building Experiments\n",
    "- Implement a logistic regression model. \n",
    "- Implement a support vector classifier. \n",
    "- Implement an sgd classifier.\n",
    "    -- Print out the classification reports, confusion matrices, and roc score and chart for each of these.\n",
    "    -- Remember to set Probability=True for SVM and \n",
    "    -- use method=decision_function in a cross_val_predict instead of predict_proba for the SGD ROC plot."
   ]
  },
  {
   "cell_type": "code",
   "execution_count": 31,
   "metadata": {},
   "outputs": [
    {
     "data": {
      "text/html": [
       "<style>#sk-container-id-1 {color: black;background-color: white;}#sk-container-id-1 pre{padding: 0;}#sk-container-id-1 div.sk-toggleable {background-color: white;}#sk-container-id-1 label.sk-toggleable__label {cursor: pointer;display: block;width: 100%;margin-bottom: 0;padding: 0.3em;box-sizing: border-box;text-align: center;}#sk-container-id-1 label.sk-toggleable__label-arrow:before {content: \"▸\";float: left;margin-right: 0.25em;color: #696969;}#sk-container-id-1 label.sk-toggleable__label-arrow:hover:before {color: black;}#sk-container-id-1 div.sk-estimator:hover label.sk-toggleable__label-arrow:before {color: black;}#sk-container-id-1 div.sk-toggleable__content {max-height: 0;max-width: 0;overflow: hidden;text-align: left;background-color: #f0f8ff;}#sk-container-id-1 div.sk-toggleable__content pre {margin: 0.2em;color: black;border-radius: 0.25em;background-color: #f0f8ff;}#sk-container-id-1 input.sk-toggleable__control:checked~div.sk-toggleable__content {max-height: 200px;max-width: 100%;overflow: auto;}#sk-container-id-1 input.sk-toggleable__control:checked~label.sk-toggleable__label-arrow:before {content: \"▾\";}#sk-container-id-1 div.sk-estimator input.sk-toggleable__control:checked~label.sk-toggleable__label {background-color: #d4ebff;}#sk-container-id-1 div.sk-label input.sk-toggleable__control:checked~label.sk-toggleable__label {background-color: #d4ebff;}#sk-container-id-1 input.sk-hidden--visually {border: 0;clip: rect(1px 1px 1px 1px);clip: rect(1px, 1px, 1px, 1px);height: 1px;margin: -1px;overflow: hidden;padding: 0;position: absolute;width: 1px;}#sk-container-id-1 div.sk-estimator {font-family: monospace;background-color: #f0f8ff;border: 1px dotted black;border-radius: 0.25em;box-sizing: border-box;margin-bottom: 0.5em;}#sk-container-id-1 div.sk-estimator:hover {background-color: #d4ebff;}#sk-container-id-1 div.sk-parallel-item::after {content: \"\";width: 100%;border-bottom: 1px solid gray;flex-grow: 1;}#sk-container-id-1 div.sk-label:hover label.sk-toggleable__label {background-color: #d4ebff;}#sk-container-id-1 div.sk-serial::before {content: \"\";position: absolute;border-left: 1px solid gray;box-sizing: border-box;top: 0;bottom: 0;left: 50%;z-index: 0;}#sk-container-id-1 div.sk-serial {display: flex;flex-direction: column;align-items: center;background-color: white;padding-right: 0.2em;padding-left: 0.2em;position: relative;}#sk-container-id-1 div.sk-item {position: relative;z-index: 1;}#sk-container-id-1 div.sk-parallel {display: flex;align-items: stretch;justify-content: center;background-color: white;position: relative;}#sk-container-id-1 div.sk-item::before, #sk-container-id-1 div.sk-parallel-item::before {content: \"\";position: absolute;border-left: 1px solid gray;box-sizing: border-box;top: 0;bottom: 0;left: 50%;z-index: -1;}#sk-container-id-1 div.sk-parallel-item {display: flex;flex-direction: column;z-index: 1;position: relative;background-color: white;}#sk-container-id-1 div.sk-parallel-item:first-child::after {align-self: flex-end;width: 50%;}#sk-container-id-1 div.sk-parallel-item:last-child::after {align-self: flex-start;width: 50%;}#sk-container-id-1 div.sk-parallel-item:only-child::after {width: 0;}#sk-container-id-1 div.sk-dashed-wrapped {border: 1px dashed gray;margin: 0 0.4em 0.5em 0.4em;box-sizing: border-box;padding-bottom: 0.4em;background-color: white;}#sk-container-id-1 div.sk-label label {font-family: monospace;font-weight: bold;display: inline-block;line-height: 1.2em;}#sk-container-id-1 div.sk-label-container {text-align: center;}#sk-container-id-1 div.sk-container {/* jupyter's `normalize.less` sets `[hidden] { display: none; }` but bootstrap.min.css set `[hidden] { display: none !important; }` so we also need the `!important` here to be able to override the default hidden behavior on the sphinx rendered scikit-learn.org. See: https://github.com/scikit-learn/scikit-learn/issues/21755 */display: inline-block !important;position: relative;}#sk-container-id-1 div.sk-text-repr-fallback {display: none;}</style><div id=\"sk-container-id-1\" class=\"sk-top-container\"><div class=\"sk-text-repr-fallback\"><pre>LogisticRegression(max_iter=2000)</pre><b>In a Jupyter environment, please rerun this cell to show the HTML representation or trust the notebook. <br />On GitHub, the HTML representation is unable to render, please try loading this page with nbviewer.org.</b></div><div class=\"sk-container\" hidden><div class=\"sk-item\"><div class=\"sk-estimator sk-toggleable\"><input class=\"sk-toggleable__control sk-hidden--visually\" id=\"sk-estimator-id-1\" type=\"checkbox\" checked><label for=\"sk-estimator-id-1\" class=\"sk-toggleable__label sk-toggleable__label-arrow\">LogisticRegression</label><div class=\"sk-toggleable__content\"><pre>LogisticRegression(max_iter=2000)</pre></div></div></div></div></div>"
      ],
      "text/plain": [
       "LogisticRegression(max_iter=2000)"
      ]
     },
     "execution_count": 31,
     "metadata": {},
     "output_type": "execute_result"
    }
   ],
   "source": [
    "model_name = \"Logistic Regression\"\n",
    "LogisticRegressionModel = LogisticRegression(max_iter=2000)\n",
    "\n",
    "LogisticRegressionModel.fit(train_features, train_target)"
   ]
  },
  {
   "cell_type": "code",
   "execution_count": 32,
   "metadata": {},
   "outputs": [],
   "source": [
    "reports_list = []\n",
    "\n",
    "def Fn_print_report_tuple(report_tuple):\n",
    "    print(report_tuple[0], \"Classification Matrix\")\n",
    "    print(report_tuple[1])\n",
    "    print(report_tuple[0], \"Confusion_Matrix\")\n",
    "    print(report_tuple[2])\n",
    "\n",
    "def Fn_Reports_list(model_name, classification_report, confusion_matrix):\n",
    "    report_tuple = (model_name, classification_report, confusion_matrix)\n",
    "    reports_list.append(report_tuple)\n",
    "    Fn_print_report_tuple(report_tuple)\n",
    "    return report_tuple\n",
    "\n",
    "def Fn_print_reports_list():\n",
    "    print(\"Reports list model name, classification matrix, confusion matrix\")\n",
    "    for report_tuple in reports_list:\n",
    "        Fn_print_report_tuple(report_tuple)"
   ]
  },
  {
   "cell_type": "markdown",
   "metadata": {},
   "source": [
    "### Run test data on trained model and print the performance results"
   ]
  },
  {
   "cell_type": "code",
   "execution_count": 33,
   "metadata": {},
   "outputs": [
    {
     "name": "stdout",
     "output_type": "stream",
     "text": [
      "Logistic Regression Classification Matrix\n",
      "              precision    recall  f1-score   support\n",
      "\n",
      "           0       0.90      0.91      0.91       115\n",
      "           1       0.84      0.81      0.82        63\n",
      "\n",
      "    accuracy                           0.88       178\n",
      "   macro avg       0.87      0.86      0.86       178\n",
      "weighted avg       0.88      0.88      0.88       178\n",
      "\n",
      "Logistic Regression Confusion_Matrix\n",
      "[[105  10]\n",
      " [ 12  51]]\n"
     ]
    }
   ],
   "source": [
    "LogisticRegressionModel.fit(train_features, train_target)\n",
    "\n",
    "model_predictions = LogisticRegressionModel.predict(test_features)\n",
    "\n",
    "lr_report = classification_report(test_target, model_predictions)\n",
    "#print(lr_report)\n",
    "lr_cm = confusion_matrix(test_target, model_predictions)\n",
    "#print(lr_cm)\n",
    "model_report = Fn_Reports_list(model_name, lr_report, lr_cm)"
   ]
  },
  {
   "cell_type": "markdown",
   "metadata": {},
   "source": [
    "### Plot the Receiver Operating Characteristic "
   ]
  },
  {
   "cell_type": "code",
   "execution_count": 34,
   "metadata": {},
   "outputs": [],
   "source": [
    "def Fn_RocScoreAndCurve(modelName, fittedModel, trainFeatures, trainTarget, methodStr):\n",
    "    \n",
    "    #print(trainFeatures.shape, trainTarget.shape)\n",
    "    # Use cross_val_predict with method='decision_function' to obtain the decision scores\n",
    "    trainScores = cross_val_predict(fittedModel, trainFeatures, trainTarget, cv=5, method=methodStr)\n",
    "\n",
    "    #print(trainScores.shape)\n",
    "    # Calculate the ROC curve and AUC score\n",
    "    fpr, tpr, thresholds = roc_curve(trainTarget, trainScores)\n",
    "    auc_score = roc_auc_score(trainTarget, trainScores)\n",
    "    print(modelName, \"ROC AUC Score\", auc_score)\n",
    "\n",
    "    # Plot the ROC curve\n",
    "    plt.plot(fpr, tpr, label=modelName +' ROC curve (AUC = %0.2f)' % auc_score)\n",
    "    plt.plot([0, 1], [0, 1], 'k--')  # Random guess line\n",
    "    plt.xlabel('False Positive Rate')\n",
    "    plt.ylabel('True Positive Rate')\n",
    "    plt.title(modelName+' Receiver Operating Characteristic (ROC)')\n",
    "    plt.legend(loc='lower right')\n",
    "    plt.show()"
   ]
  },
  {
   "cell_type": "code",
   "execution_count": 35,
   "metadata": {},
   "outputs": [
    {
     "name": "stdout",
     "output_type": "stream",
     "text": [
      "Logistic Regression ROC AUC Score 0.8407060506746076\n"
     ]
    },
    {
     "data": {
      "image/png": "[encoded data removed]",
      "text/plain": [
       "<Figure size 640x480 with 1 Axes>"
      ]
     },
     "metadata": {},
     "output_type": "display_data"
    }
   ],
   "source": [
    "Fn_RocScoreAndCurve(model_name, \n",
    "                    LogisticRegressionModel, train_features, train_target, \"decision_function\")"
   ]
  },
  {
   "cell_type": "markdown",
   "metadata": {},
   "source": [
    "### Print accuracy scores from cross validation"
   ]
  },
  {
   "cell_type": "code",
   "execution_count": 36,
   "metadata": {},
   "outputs": [],
   "source": [
    "model_tuple = []\n",
    "\n",
    "def Fn_print_scores_tuple(scores_tuple):\n",
    "    print(scores_tuple[0], scores_tuple[1])\n",
    "    print(scores_tuple[0], \"mean\", scores_tuple[1].mean())\n",
    "\n",
    "scores_list = []\n",
    "\n",
    "def Fn_scores_tuple(scores_name, scores):\n",
    "    scores_tuple = (scores_name, scores)\n",
    "    scores_list.append(scores_tuple)\n",
    "    Fn_print_scores_tuple(scores_tuple)\n",
    "    return scores_tuple\n",
    "\n",
    "def Fn_print_scores_list():\n",
    "    print(\"Scores List, model name, score, score mean\")\n",
    "    for score_tuple in scores_list:\n",
    "        Fn_print_scores_tuple(score_tuple)"
   ]
  },
  {
   "cell_type": "code",
   "execution_count": 37,
   "metadata": {},
   "outputs": [
    {
     "name": "stdout",
     "output_type": "stream",
     "text": [
      "Cross-Validation Accuracy Scores [0.8041958  0.8028169  0.83098592 0.80985915 0.78169014]\n",
      "Cross-Validation Accuracy Scores mean 0.805909583374372\n"
     ]
    }
   ],
   "source": [
    "log_reg_scores = cross_val_score(LogisticRegressionModel, train_features, train_target, cv=5, scoring=\"accuracy\")\n",
    "model_tuple = Fn_scores_tuple('Cross-Validation Accuracy Scores', log_reg_scores)"
   ]
  },
  {
   "cell_type": "code",
   "execution_count": 38,
   "metadata": {},
   "outputs": [
    {
     "name": "stdout",
     "output_type": "stream",
     "text": [
      "Cross-Validation Precision Scores [0.75       0.7755102  0.73846154 0.79166667 0.82051282]\n",
      "Cross-Validation Precision Scores mean 0.7752302459445316\n"
     ]
    }
   ],
   "source": [
    "cvs_precision = cross_val_score(LogisticRegressionModel, train_features, train_target, cv=5,\n",
    "                         scoring=\"precision\")\n",
    "model_tuple = Fn_scores_tuple('Cross-Validation Precision Scores', cvs_precision)"
   ]
  },
  {
   "cell_type": "code",
   "execution_count": 39,
   "metadata": {},
   "outputs": [
    {
     "name": "stdout",
     "output_type": "stream",
     "text": [
      "Cross-Validation Roc AUC Scores [0.81157635 0.82560084 0.88505747 0.87021944 0.83108389]\n",
      "Cross-Validation Roc AUC Scores mean 0.8447075969339402\n"
     ]
    }
   ],
   "source": [
    "roc_auc_scores = cross_val_score(LogisticRegressionModel, train_features, train_target, cv=5,\n",
    "                         scoring=\"roc_auc\")\n",
    "model_tuple = Fn_scores_tuple('Cross-Validation Roc AUC Scores', roc_auc_scores)"
   ]
  },
  {
   "cell_type": "markdown",
   "metadata": {},
   "source": [
    "### Build a Support Vector Classifier"
   ]
  },
  {
   "cell_type": "raw",
   "metadata": {},
   "source": [
    "# this is from activity 5 - delete before submitting\n",
    "svm_clf = Pipeline((\n",
    "    (\"scaler\", StandardScaler()),\n",
    "    (\"svm\", SVC(kernel=\"poly\", degree=2, coef0=1, C=5))\n",
    "))\n",
    "\n",
    "svm_clf.fit(train_features, train_target)"
   ]
  },
  {
   "cell_type": "code",
   "execution_count": 40,
   "metadata": {},
   "outputs": [
    {
     "data": {
      "text/html": [
       "<style>#sk-container-id-2 {color: black;background-color: white;}#sk-container-id-2 pre{padding: 0;}#sk-container-id-2 div.sk-toggleable {background-color: white;}#sk-container-id-2 label.sk-toggleable__label {cursor: pointer;display: block;width: 100%;margin-bottom: 0;padding: 0.3em;box-sizing: border-box;text-align: center;}#sk-container-id-2 label.sk-toggleable__label-arrow:before {content: \"▸\";float: left;margin-right: 0.25em;color: #696969;}#sk-container-id-2 label.sk-toggleable__label-arrow:hover:before {color: black;}#sk-container-id-2 div.sk-estimator:hover label.sk-toggleable__label-arrow:before {color: black;}#sk-container-id-2 div.sk-toggleable__content {max-height: 0;max-width: 0;overflow: hidden;text-align: left;background-color: #f0f8ff;}#sk-container-id-2 div.sk-toggleable__content pre {margin: 0.2em;color: black;border-radius: 0.25em;background-color: #f0f8ff;}#sk-container-id-2 input.sk-toggleable__control:checked~div.sk-toggleable__content {max-height: 200px;max-width: 100%;overflow: auto;}#sk-container-id-2 input.sk-toggleable__control:checked~label.sk-toggleable__label-arrow:before {content: \"▾\";}#sk-container-id-2 div.sk-estimator input.sk-toggleable__control:checked~label.sk-toggleable__label {background-color: #d4ebff;}#sk-container-id-2 div.sk-label input.sk-toggleable__control:checked~label.sk-toggleable__label {background-color: #d4ebff;}#sk-container-id-2 input.sk-hidden--visually {border: 0;clip: rect(1px 1px 1px 1px);clip: rect(1px, 1px, 1px, 1px);height: 1px;margin: -1px;overflow: hidden;padding: 0;position: absolute;width: 1px;}#sk-container-id-2 div.sk-estimator {font-family: monospace;background-color: #f0f8ff;border: 1px dotted black;border-radius: 0.25em;box-sizing: border-box;margin-bottom: 0.5em;}#sk-container-id-2 div.sk-estimator:hover {background-color: #d4ebff;}#sk-container-id-2 div.sk-parallel-item::after {content: \"\";width: 100%;border-bottom: 1px solid gray;flex-grow: 1;}#sk-container-id-2 div.sk-label:hover label.sk-toggleable__label {background-color: #d4ebff;}#sk-container-id-2 div.sk-serial::before {content: \"\";position: absolute;border-left: 1px solid gray;box-sizing: border-box;top: 0;bottom: 0;left: 50%;z-index: 0;}#sk-container-id-2 div.sk-serial {display: flex;flex-direction: column;align-items: center;background-color: white;padding-right: 0.2em;padding-left: 0.2em;position: relative;}#sk-container-id-2 div.sk-item {position: relative;z-index: 1;}#sk-container-id-2 div.sk-parallel {display: flex;align-items: stretch;justify-content: center;background-color: white;position: relative;}#sk-container-id-2 div.sk-item::before, #sk-container-id-2 div.sk-parallel-item::before {content: \"\";position: absolute;border-left: 1px solid gray;box-sizing: border-box;top: 0;bottom: 0;left: 50%;z-index: -1;}#sk-container-id-2 div.sk-parallel-item {display: flex;flex-direction: column;z-index: 1;position: relative;background-color: white;}#sk-container-id-2 div.sk-parallel-item:first-child::after {align-self: flex-end;width: 50%;}#sk-container-id-2 div.sk-parallel-item:last-child::after {align-self: flex-start;width: 50%;}#sk-container-id-2 div.sk-parallel-item:only-child::after {width: 0;}#sk-container-id-2 div.sk-dashed-wrapped {border: 1px dashed gray;margin: 0 0.4em 0.5em 0.4em;box-sizing: border-box;padding-bottom: 0.4em;background-color: white;}#sk-container-id-2 div.sk-label label {font-family: monospace;font-weight: bold;display: inline-block;line-height: 1.2em;}#sk-container-id-2 div.sk-label-container {text-align: center;}#sk-container-id-2 div.sk-container {/* jupyter's `normalize.less` sets `[hidden] { display: none; }` but bootstrap.min.css set `[hidden] { display: none !important; }` so we also need the `!important` here to be able to override the default hidden behavior on the sphinx rendered scikit-learn.org. See: https://github.com/scikit-learn/scikit-learn/issues/21755 */display: inline-block !important;position: relative;}#sk-container-id-2 div.sk-text-repr-fallback {display: none;}</style><div id=\"sk-container-id-2\" class=\"sk-top-container\"><div class=\"sk-text-repr-fallback\"><pre>SVC(probability=True)</pre><b>In a Jupyter environment, please rerun this cell to show the HTML representation or trust the notebook. <br />On GitHub, the HTML representation is unable to render, please try loading this page with nbviewer.org.</b></div><div class=\"sk-container\" hidden><div class=\"sk-item\"><div class=\"sk-estimator sk-toggleable\"><input class=\"sk-toggleable__control sk-hidden--visually\" id=\"sk-estimator-id-2\" type=\"checkbox\" checked><label for=\"sk-estimator-id-2\" class=\"sk-toggleable__label sk-toggleable__label-arrow\">SVC</label><div class=\"sk-toggleable__content\"><pre>SVC(probability=True)</pre></div></div></div></div></div>"
      ],
      "text/plain": [
       "SVC(probability=True)"
      ]
     },
     "execution_count": 40,
     "metadata": {},
     "output_type": "execute_result"
    }
   ],
   "source": [
    "model_name = \"Support Vector Classifier\"\n",
    "svm_model = SVC(probability=True)\n",
    "svm_model.fit(train_features, train_target)"
   ]
  },
  {
   "cell_type": "markdown",
   "metadata": {},
   "source": [
    "### Print Support Vector Classifier Performance Scores"
   ]
  },
  {
   "cell_type": "code",
   "execution_count": 41,
   "metadata": {},
   "outputs": [
    {
     "name": "stdout",
     "output_type": "stream",
     "text": [
      "Support Vector Classifier Classification Matrix\n",
      "              precision    recall  f1-score   support\n",
      "\n",
      "           0       0.71      0.93      0.80       115\n",
      "           1       0.70      0.30      0.42        63\n",
      "\n",
      "    accuracy                           0.71       178\n",
      "   macro avg       0.71      0.62      0.61       178\n",
      "weighted avg       0.71      0.71      0.67       178\n",
      "\n",
      "Support Vector Classifier Confusion_Matrix\n",
      "[[107   8]\n",
      " [ 44  19]]\n"
     ]
    }
   ],
   "source": [
    "model_predictions = svm_model.predict(test_features)\n",
    "\n",
    "#print(model_name, \"Model Classification Report:\")\n",
    "svm_report = classification_report(test_target, model_predictions)\n",
    "#print(svm_report)\n",
    "#print(model_name, \"Model Confusion Matrix:\")\n",
    "svm_cm = confusion_matrix(test_target, model_predictions)\n",
    "model_report = Fn_Reports_list(model_name, svm_report, svm_cm)"
   ]
  },
  {
   "cell_type": "markdown",
   "metadata": {},
   "source": [
    "### Print the Receiver Operating Characteristic for the Support Vector Classifier"
   ]
  },
  {
   "cell_type": "code",
   "execution_count": 42,
   "metadata": {},
   "outputs": [
    {
     "name": "stdout",
     "output_type": "stream",
     "text": [
      "Support Vector Classifier ROC AUC Score 0.7485401520570963\n"
     ]
    },
    {
     "data": {
      "image/png": "[encoded data removed]",
      "text/plain": [
       "<Figure size 640x480 with 1 Axes>"
      ]
     },
     "metadata": {},
     "output_type": "display_data"
    }
   ],
   "source": [
    "Fn_RocScoreAndCurve(model_name, \n",
    "                    svm_model, train_features, train_target, \"decision_function\")"
   ]
  },
  {
   "cell_type": "markdown",
   "metadata": {},
   "source": [
    "### Build a Stochastic Gradient Descent Model"
   ]
  },
  {
   "cell_type": "raw",
   "metadata": {},
   "source": [
    "# also from activity5\n",
    "svm_rbf = Pipeline((\n",
    "    (\"scaler\", StandardScaler()),\n",
    "    (\"svm\", SVC(kernel=\"rbf\", gamma=5, C=0.001))\n",
    "))\n",
    "\n",
    "svm_rbf.fit(train_features, train_target)"
   ]
  },
  {
   "cell_type": "code",
   "execution_count": 43,
   "metadata": {},
   "outputs": [
    {
     "data": {
      "text/html": [
       "<style>#sk-container-id-3 {color: black;background-color: white;}#sk-container-id-3 pre{padding: 0;}#sk-container-id-3 div.sk-toggleable {background-color: white;}#sk-container-id-3 label.sk-toggleable__label {cursor: pointer;display: block;width: 100%;margin-bottom: 0;padding: 0.3em;box-sizing: border-box;text-align: center;}#sk-container-id-3 label.sk-toggleable__label-arrow:before {content: \"▸\";float: left;margin-right: 0.25em;color: #696969;}#sk-container-id-3 label.sk-toggleable__label-arrow:hover:before {color: black;}#sk-container-id-3 div.sk-estimator:hover label.sk-toggleable__label-arrow:before {color: black;}#sk-container-id-3 div.sk-toggleable__content {max-height: 0;max-width: 0;overflow: hidden;text-align: left;background-color: #f0f8ff;}#sk-container-id-3 div.sk-toggleable__content pre {margin: 0.2em;color: black;border-radius: 0.25em;background-color: #f0f8ff;}#sk-container-id-3 input.sk-toggleable__control:checked~div.sk-toggleable__content {max-height: 200px;max-width: 100%;overflow: auto;}#sk-container-id-3 input.sk-toggleable__control:checked~label.sk-toggleable__label-arrow:before {content: \"▾\";}#sk-container-id-3 div.sk-estimator input.sk-toggleable__control:checked~label.sk-toggleable__label {background-color: #d4ebff;}#sk-container-id-3 div.sk-label input.sk-toggleable__control:checked~label.sk-toggleable__label {background-color: #d4ebff;}#sk-container-id-3 input.sk-hidden--visually {border: 0;clip: rect(1px 1px 1px 1px);clip: rect(1px, 1px, 1px, 1px);height: 1px;margin: -1px;overflow: hidden;padding: 0;position: absolute;width: 1px;}#sk-container-id-3 div.sk-estimator {font-family: monospace;background-color: #f0f8ff;border: 1px dotted black;border-radius: 0.25em;box-sizing: border-box;margin-bottom: 0.5em;}#sk-container-id-3 div.sk-estimator:hover {background-color: #d4ebff;}#sk-container-id-3 div.sk-parallel-item::after {content: \"\";width: 100%;border-bottom: 1px solid gray;flex-grow: 1;}#sk-container-id-3 div.sk-label:hover label.sk-toggleable__label {background-color: #d4ebff;}#sk-container-id-3 div.sk-serial::before {content: \"\";position: absolute;border-left: 1px solid gray;box-sizing: border-box;top: 0;bottom: 0;left: 50%;z-index: 0;}#sk-container-id-3 div.sk-serial {display: flex;flex-direction: column;align-items: center;background-color: white;padding-right: 0.2em;padding-left: 0.2em;position: relative;}#sk-container-id-3 div.sk-item {position: relative;z-index: 1;}#sk-container-id-3 div.sk-parallel {display: flex;align-items: stretch;justify-content: center;background-color: white;position: relative;}#sk-container-id-3 div.sk-item::before, #sk-container-id-3 div.sk-parallel-item::before {content: \"\";position: absolute;border-left: 1px solid gray;box-sizing: border-box;top: 0;bottom: 0;left: 50%;z-index: -1;}#sk-container-id-3 div.sk-parallel-item {display: flex;flex-direction: column;z-index: 1;position: relative;background-color: white;}#sk-container-id-3 div.sk-parallel-item:first-child::after {align-self: flex-end;width: 50%;}#sk-container-id-3 div.sk-parallel-item:last-child::after {align-self: flex-start;width: 50%;}#sk-container-id-3 div.sk-parallel-item:only-child::after {width: 0;}#sk-container-id-3 div.sk-dashed-wrapped {border: 1px dashed gray;margin: 0 0.4em 0.5em 0.4em;box-sizing: border-box;padding-bottom: 0.4em;background-color: white;}#sk-container-id-3 div.sk-label label {font-family: monospace;font-weight: bold;display: inline-block;line-height: 1.2em;}#sk-container-id-3 div.sk-label-container {text-align: center;}#sk-container-id-3 div.sk-container {/* jupyter's `normalize.less` sets `[hidden] { display: none; }` but bootstrap.min.css set `[hidden] { display: none !important; }` so we also need the `!important` here to be able to override the default hidden behavior on the sphinx rendered scikit-learn.org. See: https://github.com/scikit-learn/scikit-learn/issues/21755 */display: inline-block !important;position: relative;}#sk-container-id-3 div.sk-text-repr-fallback {display: none;}</style><div id=\"sk-container-id-3\" class=\"sk-top-container\"><div class=\"sk-text-repr-fallback\"><pre>SGDClassifier()</pre><b>In a Jupyter environment, please rerun this cell to show the HTML representation or trust the notebook. <br />On GitHub, the HTML representation is unable to render, please try loading this page with nbviewer.org.</b></div><div class=\"sk-container\" hidden><div class=\"sk-item\"><div class=\"sk-estimator sk-toggleable\"><input class=\"sk-toggleable__control sk-hidden--visually\" id=\"sk-estimator-id-3\" type=\"checkbox\" checked><label for=\"sk-estimator-id-3\" class=\"sk-toggleable__label sk-toggleable__label-arrow\">SGDClassifier</label><div class=\"sk-toggleable__content\"><pre>SGDClassifier()</pre></div></div></div></div></div>"
      ],
      "text/plain": [
       "SGDClassifier()"
      ]
     },
     "execution_count": 43,
     "metadata": {},
     "output_type": "execute_result"
    }
   ],
   "source": [
    "model_name = \"Stochastic Gradient Descent\"\n",
    "sgd_model = SGDClassifier()\n",
    "sgd_model.fit(train_features, train_target)"
   ]
  },
  {
   "cell_type": "markdown",
   "metadata": {},
   "source": [
    "### Print the Stochastic Gradient Descent Performance Report"
   ]
  },
  {
   "cell_type": "code",
   "execution_count": 44,
   "metadata": {},
   "outputs": [
    {
     "name": "stdout",
     "output_type": "stream",
     "text": [
      "Stochastic Gradient Descent Classification Matrix\n",
      "              precision    recall  f1-score   support\n",
      "\n",
      "           0       0.91      0.77      0.83       115\n",
      "           1       0.67      0.86      0.75        63\n",
      "\n",
      "    accuracy                           0.80       178\n",
      "   macro avg       0.79      0.81      0.79       178\n",
      "weighted avg       0.82      0.80      0.80       178\n",
      "\n",
      "Stochastic Gradient Descent Confusion_Matrix\n",
      "[[88 27]\n",
      " [ 9 54]]\n"
     ]
    }
   ],
   "source": [
    "model_predictions = sgd_model.predict(test_features)\n",
    "\n",
    "#print(model_name, \"Model Classification Report:\")\n",
    "sgd_report = classification_report(test_target, model_predictions)\n",
    "#print(sgd_report)\n",
    "#print(model_name, \"Model Confusion Matrix:\")\n",
    "sgd_cm = confusion_matrix(test_target, model_predictions)\n",
    "#print(sgd_cm)\n",
    "model_report = Fn_Reports_list(model_name, sgd_report, sgd_cm)"
   ]
  },
  {
   "cell_type": "markdown",
   "metadata": {},
   "source": [
    "### Create and plot the Stochastic Gradient Descent ROC Graph"
   ]
  },
  {
   "cell_type": "code",
   "execution_count": 45,
   "metadata": {},
   "outputs": [
    {
     "name": "stdout",
     "output_type": "stream",
     "text": [
      "Stochastic Gradient Descent ROC AUC Score 0.6553095210367832\n"
     ]
    },
    {
     "data": {
      "image/png": "[encoded data removed]",
      "text/plain": [
       "<Figure size 640x480 with 1 Axes>"
      ]
     },
     "metadata": {},
     "output_type": "display_data"
    }
   ],
   "source": [
    "Fn_RocScoreAndCurve(model_name, \n",
    "                    sgd_model, train_features, train_target, \"decision_function\")"
   ]
  },
  {
   "cell_type": "code",
   "execution_count": 46,
   "metadata": {},
   "outputs": [
    {
     "data": {
      "text/html": [
       "<style>#sk-container-id-4 {color: black;background-color: white;}#sk-container-id-4 pre{padding: 0;}#sk-container-id-4 div.sk-toggleable {background-color: white;}#sk-container-id-4 label.sk-toggleable__label {cursor: pointer;display: block;width: 100%;margin-bottom: 0;padding: 0.3em;box-sizing: border-box;text-align: center;}#sk-container-id-4 label.sk-toggleable__label-arrow:before {content: \"▸\";float: left;margin-right: 0.25em;color: #696969;}#sk-container-id-4 label.sk-toggleable__label-arrow:hover:before {color: black;}#sk-container-id-4 div.sk-estimator:hover label.sk-toggleable__label-arrow:before {color: black;}#sk-container-id-4 div.sk-toggleable__content {max-height: 0;max-width: 0;overflow: hidden;text-align: left;background-color: #f0f8ff;}#sk-container-id-4 div.sk-toggleable__content pre {margin: 0.2em;color: black;border-radius: 0.25em;background-color: #f0f8ff;}#sk-container-id-4 input.sk-toggleable__control:checked~div.sk-toggleable__content {max-height: 200px;max-width: 100%;overflow: auto;}#sk-container-id-4 input.sk-toggleable__control:checked~label.sk-toggleable__label-arrow:before {content: \"▾\";}#sk-container-id-4 div.sk-estimator input.sk-toggleable__control:checked~label.sk-toggleable__label {background-color: #d4ebff;}#sk-container-id-4 div.sk-label input.sk-toggleable__control:checked~label.sk-toggleable__label {background-color: #d4ebff;}#sk-container-id-4 input.sk-hidden--visually {border: 0;clip: rect(1px 1px 1px 1px);clip: rect(1px, 1px, 1px, 1px);height: 1px;margin: -1px;overflow: hidden;padding: 0;position: absolute;width: 1px;}#sk-container-id-4 div.sk-estimator {font-family: monospace;background-color: #f0f8ff;border: 1px dotted black;border-radius: 0.25em;box-sizing: border-box;margin-bottom: 0.5em;}#sk-container-id-4 div.sk-estimator:hover {background-color: #d4ebff;}#sk-container-id-4 div.sk-parallel-item::after {content: \"\";width: 100%;border-bottom: 1px solid gray;flex-grow: 1;}#sk-container-id-4 div.sk-label:hover label.sk-toggleable__label {background-color: #d4ebff;}#sk-container-id-4 div.sk-serial::before {content: \"\";position: absolute;border-left: 1px solid gray;box-sizing: border-box;top: 0;bottom: 0;left: 50%;z-index: 0;}#sk-container-id-4 div.sk-serial {display: flex;flex-direction: column;align-items: center;background-color: white;padding-right: 0.2em;padding-left: 0.2em;position: relative;}#sk-container-id-4 div.sk-item {position: relative;z-index: 1;}#sk-container-id-4 div.sk-parallel {display: flex;align-items: stretch;justify-content: center;background-color: white;position: relative;}#sk-container-id-4 div.sk-item::before, #sk-container-id-4 div.sk-parallel-item::before {content: \"\";position: absolute;border-left: 1px solid gray;box-sizing: border-box;top: 0;bottom: 0;left: 50%;z-index: -1;}#sk-container-id-4 div.sk-parallel-item {display: flex;flex-direction: column;z-index: 1;position: relative;background-color: white;}#sk-container-id-4 div.sk-parallel-item:first-child::after {align-self: flex-end;width: 50%;}#sk-container-id-4 div.sk-parallel-item:last-child::after {align-self: flex-start;width: 50%;}#sk-container-id-4 div.sk-parallel-item:only-child::after {width: 0;}#sk-container-id-4 div.sk-dashed-wrapped {border: 1px dashed gray;margin: 0 0.4em 0.5em 0.4em;box-sizing: border-box;padding-bottom: 0.4em;background-color: white;}#sk-container-id-4 div.sk-label label {font-family: monospace;font-weight: bold;display: inline-block;line-height: 1.2em;}#sk-container-id-4 div.sk-label-container {text-align: center;}#sk-container-id-4 div.sk-container {/* jupyter's `normalize.less` sets `[hidden] { display: none; }` but bootstrap.min.css set `[hidden] { display: none !important; }` so we also need the `!important` here to be able to override the default hidden behavior on the sphinx rendered scikit-learn.org. See: https://github.com/scikit-learn/scikit-learn/issues/21755 */display: inline-block !important;position: relative;}#sk-container-id-4 div.sk-text-repr-fallback {display: none;}</style><div id=\"sk-container-id-4\" class=\"sk-top-container\"><div class=\"sk-text-repr-fallback\"><pre>Pipeline(steps=[(&#x27;scaler&#x27;, StandardScaler()), (&#x27;svm&#x27;, SVC(kernel=&#x27;poly&#x27;))])</pre><b>In a Jupyter environment, please rerun this cell to show the HTML representation or trust the notebook. <br />On GitHub, the HTML representation is unable to render, please try loading this page with nbviewer.org.</b></div><div class=\"sk-container\" hidden><div class=\"sk-item sk-dashed-wrapped\"><div class=\"sk-label-container\"><div class=\"sk-label sk-toggleable\"><input class=\"sk-toggleable__control sk-hidden--visually\" id=\"sk-estimator-id-4\" type=\"checkbox\" ><label for=\"sk-estimator-id-4\" class=\"sk-toggleable__label sk-toggleable__label-arrow\">Pipeline</label><div class=\"sk-toggleable__content\"><pre>Pipeline(steps=[(&#x27;scaler&#x27;, StandardScaler()), (&#x27;svm&#x27;, SVC(kernel=&#x27;poly&#x27;))])</pre></div></div></div><div class=\"sk-serial\"><div class=\"sk-item\"><div class=\"sk-estimator sk-toggleable\"><input class=\"sk-toggleable__control sk-hidden--visually\" id=\"sk-estimator-id-5\" type=\"checkbox\" ><label for=\"sk-estimator-id-5\" class=\"sk-toggleable__label sk-toggleable__label-arrow\">StandardScaler</label><div class=\"sk-toggleable__content\"><pre>StandardScaler()</pre></div></div></div><div class=\"sk-item\"><div class=\"sk-estimator sk-toggleable\"><input class=\"sk-toggleable__control sk-hidden--visually\" id=\"sk-estimator-id-6\" type=\"checkbox\" ><label for=\"sk-estimator-id-6\" class=\"sk-toggleable__label sk-toggleable__label-arrow\">SVC</label><div class=\"sk-toggleable__content\"><pre>SVC(kernel=&#x27;poly&#x27;)</pre></div></div></div></div></div></div></div>"
      ],
      "text/plain": [
       "Pipeline(steps=[('scaler', StandardScaler()), ('svm', SVC(kernel='poly'))])"
      ]
     },
     "execution_count": 46,
     "metadata": {},
     "output_type": "execute_result"
    }
   ],
   "source": [
    "# also from activity5\n",
    "svm_poly = Pipeline((\n",
    "    (\"scaler\", StandardScaler()),\n",
    "    (\"svm\", SVC(kernel=\"poly\", degree=3))\n",
    "))\n",
    "\n",
    "svm_poly.fit(train_features, train_target)"
   ]
  },
  {
   "cell_type": "markdown",
   "metadata": {},
   "source": [
    "### Print the Cross Validation Scorees for SVM Poly Model"
   ]
  },
  {
   "cell_type": "code",
   "execution_count": 47,
   "metadata": {},
   "outputs": [
    {
     "name": "stdout",
     "output_type": "stream",
     "text": [
      "SVM Poly Cross-Validation Accuracy Scores [0.81118881 0.8028169  0.84507042 0.81690141 0.75352113]\n",
      "SVM Poly Cross-Validation Accuracy Scores mean 0.8058997340687479\n"
     ]
    }
   ],
   "source": [
    "svm_poly_scores = cross_val_score(svm_poly, train_features, train_target, cv=5, scoring=\"accuracy\")\n",
    "model_tuple = Fn_scores_tuple('SVM Poly Cross-Validation Accuracy Scores', svm_poly_scores)"
   ]
  },
  {
   "cell_type": "code",
   "execution_count": 48,
   "metadata": {},
   "outputs": [
    {
     "data": {
      "text/plain": [
       "'\\nsgd_scores = cross_val_score(sgd_model, train_features, train_target, cv=5, scoring=\"accuracy\")\\nprint(\\'SVM RBF Cross-Validation Accuracy Scores\\', sgd_scores)\\nprint(sgd_scores.mean())\\n'"
      ]
     },
     "execution_count": 48,
     "metadata": {},
     "output_type": "execute_result"
    }
   ],
   "source": [
    "\"\"\"\n",
    "sgd_scores = cross_val_score(sgd_model, train_features, train_target, cv=5, scoring=\"accuracy\")\n",
    "print('SVM RBF Cross-Validation Accuracy Scores', sgd_scores)\n",
    "print(sgd_scores.mean())\n",
    "\"\"\""
   ]
  },
  {
   "cell_type": "markdown",
   "metadata": {},
   "source": [
    "## Model Tuning\n",
    "- See if scaling your input data affects your SVC model (implement a sklearn pipeline to combine scaling and instantiation of your model).\n",
    "- Do a grid search of your pipeline classifier using the following parameter grid: {‘<your_svc_model_name>__kernel’: [‘rbf’], ‘<your_svc_model_name> __gamma’: [0.0001, 0.001, 0.01, 0.1, 1], ‘{‘<your_svc_model_name>__C’: [1,10,50,100,200,300]}.\n",
    "- Print the best estimator, its parameters, and the resulting score. Apply this estimator to your test set\n",
    " - Implement a learning curve using your best estimator from the grid search.\n",
    "    - The figure should have a title of “learning curve.”\n",
    "    - Label the y-axis with “Score.”\n",
    "    - Label the x-axis with “Training Examples.”\n",
    "    - Make the training score red.\n",
    "    - Make the validation score green.\n",
    "    - What does this learning curve tell you?"
   ]
  },
  {
   "cell_type": "markdown",
   "metadata": {},
   "source": [
    "### See if scaling your input data affects the SVC model\n",
    "(implement a sklearn pipeline to combine scaling and instantiation of the model)."
   ]
  },
  {
   "cell_type": "code",
   "execution_count": 49,
   "metadata": {},
   "outputs": [
    {
     "data": {
      "text/html": [
       "<style>#sk-container-id-5 {color: black;background-color: white;}#sk-container-id-5 pre{padding: 0;}#sk-container-id-5 div.sk-toggleable {background-color: white;}#sk-container-id-5 label.sk-toggleable__label {cursor: pointer;display: block;width: 100%;margin-bottom: 0;padding: 0.3em;box-sizing: border-box;text-align: center;}#sk-container-id-5 label.sk-toggleable__label-arrow:before {content: \"▸\";float: left;margin-right: 0.25em;color: #696969;}#sk-container-id-5 label.sk-toggleable__label-arrow:hover:before {color: black;}#sk-container-id-5 div.sk-estimator:hover label.sk-toggleable__label-arrow:before {color: black;}#sk-container-id-5 div.sk-toggleable__content {max-height: 0;max-width: 0;overflow: hidden;text-align: left;background-color: #f0f8ff;}#sk-container-id-5 div.sk-toggleable__content pre {margin: 0.2em;color: black;border-radius: 0.25em;background-color: #f0f8ff;}#sk-container-id-5 input.sk-toggleable__control:checked~div.sk-toggleable__content {max-height: 200px;max-width: 100%;overflow: auto;}#sk-container-id-5 input.sk-toggleable__control:checked~label.sk-toggleable__label-arrow:before {content: \"▾\";}#sk-container-id-5 div.sk-estimator input.sk-toggleable__control:checked~label.sk-toggleable__label {background-color: #d4ebff;}#sk-container-id-5 div.sk-label input.sk-toggleable__control:checked~label.sk-toggleable__label {background-color: #d4ebff;}#sk-container-id-5 input.sk-hidden--visually {border: 0;clip: rect(1px 1px 1px 1px);clip: rect(1px, 1px, 1px, 1px);height: 1px;margin: -1px;overflow: hidden;padding: 0;position: absolute;width: 1px;}#sk-container-id-5 div.sk-estimator {font-family: monospace;background-color: #f0f8ff;border: 1px dotted black;border-radius: 0.25em;box-sizing: border-box;margin-bottom: 0.5em;}#sk-container-id-5 div.sk-estimator:hover {background-color: #d4ebff;}#sk-container-id-5 div.sk-parallel-item::after {content: \"\";width: 100%;border-bottom: 1px solid gray;flex-grow: 1;}#sk-container-id-5 div.sk-label:hover label.sk-toggleable__label {background-color: #d4ebff;}#sk-container-id-5 div.sk-serial::before {content: \"\";position: absolute;border-left: 1px solid gray;box-sizing: border-box;top: 0;bottom: 0;left: 50%;z-index: 0;}#sk-container-id-5 div.sk-serial {display: flex;flex-direction: column;align-items: center;background-color: white;padding-right: 0.2em;padding-left: 0.2em;position: relative;}#sk-container-id-5 div.sk-item {position: relative;z-index: 1;}#sk-container-id-5 div.sk-parallel {display: flex;align-items: stretch;justify-content: center;background-color: white;position: relative;}#sk-container-id-5 div.sk-item::before, #sk-container-id-5 div.sk-parallel-item::before {content: \"\";position: absolute;border-left: 1px solid gray;box-sizing: border-box;top: 0;bottom: 0;left: 50%;z-index: -1;}#sk-container-id-5 div.sk-parallel-item {display: flex;flex-direction: column;z-index: 1;position: relative;background-color: white;}#sk-container-id-5 div.sk-parallel-item:first-child::after {align-self: flex-end;width: 50%;}#sk-container-id-5 div.sk-parallel-item:last-child::after {align-self: flex-start;width: 50%;}#sk-container-id-5 div.sk-parallel-item:only-child::after {width: 0;}#sk-container-id-5 div.sk-dashed-wrapped {border: 1px dashed gray;margin: 0 0.4em 0.5em 0.4em;box-sizing: border-box;padding-bottom: 0.4em;background-color: white;}#sk-container-id-5 div.sk-label label {font-family: monospace;font-weight: bold;display: inline-block;line-height: 1.2em;}#sk-container-id-5 div.sk-label-container {text-align: center;}#sk-container-id-5 div.sk-container {/* jupyter's `normalize.less` sets `[hidden] { display: none; }` but bootstrap.min.css set `[hidden] { display: none !important; }` so we also need the `!important` here to be able to override the default hidden behavior on the sphinx rendered scikit-learn.org. See: https://github.com/scikit-learn/scikit-learn/issues/21755 */display: inline-block !important;position: relative;}#sk-container-id-5 div.sk-text-repr-fallback {display: none;}</style><div id=\"sk-container-id-5\" class=\"sk-top-container\"><div class=\"sk-text-repr-fallback\"><pre>Pipeline(steps=[(&#x27;scaler&#x27;, StandardScaler()), (&#x27;classifier&#x27;, SVC())])</pre><b>In a Jupyter environment, please rerun this cell to show the HTML representation or trust the notebook. <br />On GitHub, the HTML representation is unable to render, please try loading this page with nbviewer.org.</b></div><div class=\"sk-container\" hidden><div class=\"sk-item sk-dashed-wrapped\"><div class=\"sk-label-container\"><div class=\"sk-label sk-toggleable\"><input class=\"sk-toggleable__control sk-hidden--visually\" id=\"sk-estimator-id-7\" type=\"checkbox\" ><label for=\"sk-estimator-id-7\" class=\"sk-toggleable__label sk-toggleable__label-arrow\">Pipeline</label><div class=\"sk-toggleable__content\"><pre>Pipeline(steps=[(&#x27;scaler&#x27;, StandardScaler()), (&#x27;classifier&#x27;, SVC())])</pre></div></div></div><div class=\"sk-serial\"><div class=\"sk-item\"><div class=\"sk-estimator sk-toggleable\"><input class=\"sk-toggleable__control sk-hidden--visually\" id=\"sk-estimator-id-8\" type=\"checkbox\" ><label for=\"sk-estimator-id-8\" class=\"sk-toggleable__label sk-toggleable__label-arrow\">StandardScaler</label><div class=\"sk-toggleable__content\"><pre>StandardScaler()</pre></div></div></div><div class=\"sk-item\"><div class=\"sk-estimator sk-toggleable\"><input class=\"sk-toggleable__control sk-hidden--visually\" id=\"sk-estimator-id-9\" type=\"checkbox\" ><label for=\"sk-estimator-id-9\" class=\"sk-toggleable__label sk-toggleable__label-arrow\">SVC</label><div class=\"sk-toggleable__content\"><pre>SVC()</pre></div></div></div></div></div></div></div>"
      ],
      "text/plain": [
       "Pipeline(steps=[('scaler', StandardScaler()), ('classifier', SVC())])"
      ]
     },
     "execution_count": 49,
     "metadata": {},
     "output_type": "execute_result"
    }
   ],
   "source": [
    "model_name = \"SVC Scaled Data\"\n",
    "\n",
    "svm_clf_model = Pipeline((\n",
    "    (\"scaler\", StandardScaler()),\n",
    "    (\"classifier\", SVC())\n",
    "))\n",
    "\n",
    "svm_clf_model.fit(train_features, train_target)"
   ]
  },
  {
   "cell_type": "code",
   "execution_count": 50,
   "metadata": {},
   "outputs": [
    {
     "name": "stdout",
     "output_type": "stream",
     "text": [
      "SVC Scaled Data Classification Matrix\n",
      "              precision    recall  f1-score   support\n",
      "\n",
      "           0       0.90      0.90      0.90       115\n",
      "           1       0.82      0.81      0.82        63\n",
      "\n",
      "    accuracy                           0.87       178\n",
      "   macro avg       0.86      0.86      0.86       178\n",
      "weighted avg       0.87      0.87      0.87       178\n",
      "\n",
      "SVC Scaled Data Confusion_Matrix\n",
      "[[104  11]\n",
      " [ 12  51]]\n"
     ]
    }
   ],
   "source": [
    "model_predictions = svm_clf_model.predict(test_features)\n",
    "\n",
    "#print(model_name, \"Model Classification Report:\")\n",
    "svm_clf_cr = classification_report(test_target, model_predictions)\n",
    "#print(svm_clf_cr)\n",
    "#print(model_name, \"Model Confusion Matrix:\")\n",
    "svm_clf_cm = confusion_matrix(test_target, model_predictions)\n",
    "#print(svm_clf_cm)\n",
    "#print(\"SVM\", \"Model Confusion Matrix:\")\n",
    "#print(svm_cm)\n",
    "model_report = Fn_Reports_list(model_name, svm_clf_cr, svm_clf_cm)"
   ]
  },
  {
   "cell_type": "markdown",
   "metadata": {},
   "source": [
    "### Create the Receiver Operating Characteristic Plot for SVC with scaled data"
   ]
  },
  {
   "cell_type": "code",
   "execution_count": 51,
   "metadata": {},
   "outputs": [
    {
     "name": "stdout",
     "output_type": "stream",
     "text": [
      "SVC Scaled Data ROC AUC Score 0.8355820259861252\n"
     ]
    },
    {
     "data": {
      "image/png": "[encoded data removed]",
      "text/plain": [
       "<Figure size 640x480 with 1 Axes>"
      ]
     },
     "metadata": {},
     "output_type": "display_data"
    }
   ],
   "source": [
    "Fn_RocScoreAndCurve(model_name, \n",
    "                    svm_clf_model, train_features, train_target, \"decision_function\")"
   ]
  },
  {
   "cell_type": "markdown",
   "metadata": {},
   "source": [
    "### See if Scaling the Data did improve the performance\n",
    "\n",
    "Yes it did. False Positives went down and True Negatives went up."
   ]
  },
  {
   "cell_type": "markdown",
   "metadata": {},
   "source": [
    "### Do a grid search of your pipeline classifier using the following parameter grid: {‘<your_svc_model_name>__kernel’: [‘rbf’], ‘<your_svc_model_name> __gamma’: [0.0001, 0.001, 0.01, 0.1, 1], ‘{‘<your_svc_model_name>__C’: [1,10,50,100,200,300]}."
   ]
  },
  {
   "cell_type": "code",
   "execution_count": 52,
   "metadata": {},
   "outputs": [
    {
     "name": "stdout",
     "output_type": "stream",
     "text": [
      "Grid Search Best Model Pipeline(steps=[('scaler', StandardScaler()),\n",
      "                ('classifier', SVC(C=50, gamma=0.01))])\n",
      "Grid Search Best Parameters: {'classifier__C': 50, 'classifier__gamma': 0.01, 'classifier__kernel': 'rbf'}\n",
      "Accuracy: 0.8764044943820225\n"
     ]
    }
   ],
   "source": [
    "# Define the parameter grid for the grid search\n",
    "param_grid = {\n",
    "    'classifier__kernel': ['rbf'],\n",
    "    'classifier__gamma': [0.0001, 0.001, 0.01, 0.1, 1],\n",
    "    'classifier__C': [1, 10, 50, 100, 200, 300]\n",
    "}\n",
    "\n",
    "# Perform grid search using cross-validation\n",
    "grid_search = GridSearchCV(estimator=svm_clf_model, param_grid=param_grid, cv=5)\n",
    "grid_search.fit(train_features, train_target)\n",
    "\n",
    "# Get the best model from the grid search\n",
    "best_model = grid_search.best_estimator_\n",
    "print(\"Grid Search Best Model\", best_model)\n",
    "\n",
    "# Print the best parameters found by grid search\n",
    "print(\"Grid Search Best Parameters:\", grid_search.best_params_)\n",
    "\n",
    "# Make predictions on the testing data using the best model\n",
    "best_model_predictions = best_model.predict(test_features)\n",
    "\n",
    "# Evaluate the best model\n",
    "accuracy = accuracy_score(test_target, best_model_predictions)\n",
    "print(\"Accuracy:\", accuracy)\n",
    "\n",
    "\n",
    "#print(\"Grid Search CV\", model_name, \"Model Classification Report:\")\n",
    "svm_best_model_cr = classification_report(test_target, best_model_predictions)\n",
    "#print(svm_best_model_cr)\n",
    "#print(\"Grid Search CV\", model_name, \"Model Confusion Matrix:\")\n",
    "svm_best_model_cm = confusion_matrix(test_target, model_predictions)\n",
    "#print(svm_best_model_cm)\n",
    "#model_report = Fn_Reports_list(\"Grid Search Best Model\"+best_model, svm_best_model_cr, svm_best_model_cm)"
   ]
  },
  {
   "cell_type": "markdown",
   "metadata": {},
   "source": [
    "### Grid Search Best Model only run for reference purposes\n",
    "\n",
    "The Grid Search Best Model has accuracy similar to the other models. But is included here for completeness."
   ]
  },
  {
   "cell_type": "code",
   "execution_count": 53,
   "metadata": {},
   "outputs": [
    {
     "name": "stdout",
     "output_type": "stream",
     "text": [
      "Grid Search Best Model Pipeline(steps=[('scaler', StandardScaler()),\n",
      "                ('classifier', SVC(C=50, gamma=0.01))])\n",
      "Grid Search Best Parameters: {'classifier__C': 50, 'classifier__gamma': 0.01, 'classifier__kernel': 'rbf'}\n",
      "Accuracy: 0.8764044943820225\n",
      "Pipeline(steps=[('scaler', StandardScaler()),\n",
      "                ('classifier', SVC(C=50, gamma=0.01))]) Classification Matrix\n",
      "              precision    recall  f1-score   support\n",
      "\n",
      "           0       0.87      0.96      0.91       115\n",
      "           1       0.90      0.73      0.81        63\n",
      "\n",
      "    accuracy                           0.88       178\n",
      "   macro avg       0.88      0.84      0.86       178\n",
      "weighted avg       0.88      0.88      0.87       178\n",
      "\n",
      "Pipeline(steps=[('scaler', StandardScaler()),\n",
      "                ('classifier', SVC(C=50, gamma=0.01))]) Confusion_Matrix\n",
      "[[104  11]\n",
      " [ 12  51]]\n"
     ]
    }
   ],
   "source": [
    "# Get the best model from the grid search\n",
    "best_model = grid_search.best_estimator_\n",
    "print(\"Grid Search Best Model\", best_model)\n",
    "\n",
    "# Print the best parameters found by grid search\n",
    "print(\"Grid Search Best Parameters:\", grid_search.best_params_)\n",
    "\n",
    "# Make predictions on the testing data using the best model\n",
    "best_model_predictions = best_model.predict(test_features)\n",
    "\n",
    "# Evaluate the best model\n",
    "accuracy = accuracy_score(test_target, best_model_predictions)\n",
    "print(\"Accuracy:\", accuracy)\n",
    "\n",
    "\n",
    "#print(\"Grid Search CV\", model_name, \"Model Classification Report:\")\n",
    "svm_best_model_cr = classification_report(test_target, best_model_predictions)\n",
    "#print(svm_best_model_cr)\n",
    "#print(\"Grid Search CV\", model_name, \"Model Confusion Matrix:\")\n",
    "svm_best_model_cm = confusion_matrix(test_target, model_predictions)\n",
    "#print(svm_best_model_cm)\n",
    "model_report = Fn_Reports_list(best_model, svm_best_model_cr, svm_best_model_cm)"
   ]
  },
  {
   "cell_type": "markdown",
   "metadata": {},
   "source": [
    "### Implement a learning curve using your best estimator from the grid search.\n",
    "\n",
    "A Learning curve with converging plots indicates the model is performing well."
   ]
  },
  {
   "cell_type": "code",
   "execution_count": 54,
   "metadata": {},
   "outputs": [],
   "source": [
    "# Assuming you have already obtained the best_model from the grid search\n",
    "\n",
    "# Calculate the learning curve\n",
    "train_sizes, train_scores, test_scores = learning_curve(best_model, train_features, train_target, cv=5, train_sizes=np.linspace(0.1, 1.0, 10))\n",
    "\n",
    "# Calculate the mean and standard deviation of training scores and test scores\n",
    "train_scores_mean = np.mean(train_scores, axis=1)\n",
    "train_scores_std = np.std(train_scores, axis=1)\n",
    "test_scores_mean = np.mean(test_scores, axis=1)\n",
    "test_scores_std = np.std(test_scores, axis=1)\n"
   ]
  },
  {
   "cell_type": "markdown",
   "metadata": {},
   "source": [
    "### Plot the Learning Curve"
   ]
  },
  {
   "cell_type": "code",
   "execution_count": 55,
   "metadata": {},
   "outputs": [
    {
     "data": {
      "image/png": "[encoded data removed]",
      "text/plain": [
       "<Figure size 640x480 with 1 Axes>"
      ]
     },
     "metadata": {},
     "output_type": "display_data"
    }
   ],
   "source": [
    "# Plot the learning curve\n",
    "plt.figure()\n",
    "plt.title(\"Learning Curve\")\n",
    "plt.xlabel(\"Training Examples\")\n",
    "plt.ylabel(\"Score\")\n",
    "plt.grid()\n",
    "plt.fill_between(train_sizes, train_scores_mean - train_scores_std,\n",
    "                 train_scores_mean + train_scores_std, alpha=0.1, color=\"r\")\n",
    "plt.fill_between(train_sizes, test_scores_mean - test_scores_std,\n",
    "                 test_scores_mean + test_scores_std, alpha=0.1, color=\"g\")\n",
    "plt.plot(train_sizes, train_scores_mean, 'o-', color=\"r\", label=\"Training Score\")\n",
    "plt.plot(train_sizes, test_scores_mean, 'o-', color=\"g\", label=\"Cross-validation Score\")\n",
    "plt.legend(loc=\"best\")\n",
    "plt.show()"
   ]
  },
  {
   "cell_type": "markdown",
   "metadata": {},
   "source": [
    "## Learning Curve\n",
    "The learning curve shows a steady convergence which means the model is not overfitted nor underfitted, and should be considered a 'good fit.'"
   ]
  },
  {
   "cell_type": "markdown",
   "metadata": {},
   "source": [
    "###"
   ]
  },
  {
   "cell_type": "markdown",
   "metadata": {},
   "source": [
    "### Print the accumulated accuracy and scores from the different model runs.\n",
    "\n",
    "- If one of the stands out, it should be considered best in class and the standard by which the Deep Neural Network should be compared."
   ]
  },
  {
   "cell_type": "code",
   "execution_count": 56,
   "metadata": {},
   "outputs": [
    {
     "name": "stdout",
     "output_type": "stream",
     "text": [
      "Scores List, model name, score, score mean\n",
      "Cross-Validation Accuracy Scores [0.8041958  0.8028169  0.83098592 0.80985915 0.78169014]\n",
      "Cross-Validation Accuracy Scores mean 0.805909583374372\n",
      "Cross-Validation Precision Scores [0.75       0.7755102  0.73846154 0.79166667 0.82051282]\n",
      "Cross-Validation Precision Scores mean 0.7752302459445316\n",
      "Cross-Validation Roc AUC Scores [0.81157635 0.82560084 0.88505747 0.87021944 0.83108389]\n",
      "Cross-Validation Roc AUC Scores mean 0.8447075969339402\n",
      "SVM Poly Cross-Validation Accuracy Scores [0.81118881 0.8028169  0.84507042 0.81690141 0.75352113]\n",
      "SVM Poly Cross-Validation Accuracy Scores mean 0.8058997340687479\n",
      "\n",
      "\n",
      "Reports list model name, classification matrix, confusion matrix\n",
      "Logistic Regression Classification Matrix\n",
      "              precision    recall  f1-score   support\n",
      "\n",
      "           0       0.90      0.91      0.91       115\n",
      "           1       0.84      0.81      0.82        63\n",
      "\n",
      "    accuracy                           0.88       178\n",
      "   macro avg       0.87      0.86      0.86       178\n",
      "weighted avg       0.88      0.88      0.88       178\n",
      "\n",
      "Logistic Regression Confusion_Matrix\n",
      "[[105  10]\n",
      " [ 12  51]]\n",
      "Support Vector Classifier Classification Matrix\n",
      "              precision    recall  f1-score   support\n",
      "\n",
      "           0       0.71      0.93      0.80       115\n",
      "           1       0.70      0.30      0.42        63\n",
      "\n",
      "    accuracy                           0.71       178\n",
      "   macro avg       0.71      0.62      0.61       178\n",
      "weighted avg       0.71      0.71      0.67       178\n",
      "\n",
      "Support Vector Classifier Confusion_Matrix\n",
      "[[107   8]\n",
      " [ 44  19]]\n",
      "Stochastic Gradient Descent Classification Matrix\n",
      "              precision    recall  f1-score   support\n",
      "\n",
      "           0       0.91      0.77      0.83       115\n",
      "           1       0.67      0.86      0.75        63\n",
      "\n",
      "    accuracy                           0.80       178\n",
      "   macro avg       0.79      0.81      0.79       178\n",
      "weighted avg       0.82      0.80      0.80       178\n",
      "\n",
      "Stochastic Gradient Descent Confusion_Matrix\n",
      "[[88 27]\n",
      " [ 9 54]]\n",
      "SVC Scaled Data Classification Matrix\n",
      "              precision    recall  f1-score   support\n",
      "\n",
      "           0       0.90      0.90      0.90       115\n",
      "           1       0.82      0.81      0.82        63\n",
      "\n",
      "    accuracy                           0.87       178\n",
      "   macro avg       0.86      0.86      0.86       178\n",
      "weighted avg       0.87      0.87      0.87       178\n",
      "\n",
      "SVC Scaled Data Confusion_Matrix\n",
      "[[104  11]\n",
      " [ 12  51]]\n",
      "Pipeline(steps=[('scaler', StandardScaler()),\n",
      "                ('classifier', SVC(C=50, gamma=0.01))]) Classification Matrix\n",
      "              precision    recall  f1-score   support\n",
      "\n",
      "           0       0.87      0.96      0.91       115\n",
      "           1       0.90      0.73      0.81        63\n",
      "\n",
      "    accuracy                           0.88       178\n",
      "   macro avg       0.88      0.84      0.86       178\n",
      "weighted avg       0.88      0.88      0.87       178\n",
      "\n",
      "Pipeline(steps=[('scaler', StandardScaler()),\n",
      "                ('classifier', SVC(C=50, gamma=0.01))]) Confusion_Matrix\n",
      "[[104  11]\n",
      " [ 12  51]]\n"
     ]
    }
   ],
   "source": [
    "Fn_print_scores_list()\n",
    "print(\"\\n\")\n",
    "Fn_print_reports_list()"
   ]
  },
  {
   "cell_type": "markdown",
   "metadata": {},
   "source": [
    "## The Best of the Logistic Regression class models peformed with accuracy between 87% and 88%.\n",
    "\n",
    "Accuracy isn't the only important metric, and depending upon the application the other measurements may be more important. The question to be answered is can a Deep Neural Network compete with these less complex modeling systems.\n",
    "\n"
   ]
  },
  {
   "cell_type": "markdown",
   "metadata": {},
   "source": [
    "###"
   ]
  },
  {
   "cell_type": "markdown",
   "metadata": {},
   "source": [
    "## Create Neural Network Model - compare its performance with the machine learning models\n",
    "\n",
    "#### A template of a Deep Neural Network model was copied into this notebook.\n",
    "\n",
    "- the exercise is to study how much work it takes to adapt previously working source code\n",
    "- note where the source failed and what was needed to correct it\n",
    "- the dataset is a categorical target while the template is outputs a ranged predictor, make note of those changes"
   ]
  },
  {
   "cell_type": "code",
   "execution_count": 57,
   "metadata": {},
   "outputs": [
    {
     "data": {
      "text/plain": [
       "<torch._C.Generator at 0x134c32d30>"
      ]
     },
     "execution_count": 57,
     "metadata": {},
     "output_type": "execute_result"
    }
   ],
   "source": [
    "# Import libraries\n",
    "import torch\n",
    "import torch.nn as nn\n",
    "import torch.optim as optim\n",
    "import matplotlib.pyplot as plt\n",
    "\n",
    "# Fix random seed: https://pytorch.org/docs/stable/notes/randomness.html\n",
    "torch.manual_seed(12)"
   ]
  },
  {
   "cell_type": "markdown",
   "metadata": {},
   "source": [
    "### For a simple dataset, the conventional wisdom says keep it simple.\n",
    "#### Input Layer has same number of nodes as total features of Dataset.\n",
    "#### Hidden Layer has same number of input nodes as Input Layer and half as many nodes for its output.\n",
    "#### Output Layer has input node count same as hidden layer output and 1 output node matching the one categorial target column.\n",
    "#### Sigmoid activation function was added to the output layer in order to produce 1 (yes) 0 (no) outputs"
   ]
  },
  {
   "cell_type": "code",
   "execution_count": 58,
   "metadata": {},
   "outputs": [],
   "source": [
    "class DeepNN(nn.Module):\n",
    "    \"\"\"\n",
    "    A deep feedforward neural network with multiple layers.\n",
    "    \n",
    "    Args:\n",
    "        input_size (int): Size of the input. For Fashion MNIST, this would be 784.\n",
    "        output_size (int): Size of the output layer. For Fashion MNIST classification, this would be 10.\n",
    "        activation_func (callable): The activation function to be used in the hidden layers.\n",
    "        \n",
    "    Returns:\n",
    "        torch.Tensor: Tensor output from the forward pass.\n",
    "    \"\"\"\n",
    "    def __init__(self, input_size=784, hidden_size=10, output_size=1, activation_func=nn.ReLU()):\n",
    "        super(DeepNN, self).__init__()\n",
    "        print(\"DeepNN\", input_size, hidden_size, output_size)\n",
    "        # Define the network layers (linear)\n",
    "        \n",
    "        self.layer1 = nn.Linear(input_size, hidden_size)\n",
    "        self.act1   = activation_func\n",
    "        \n",
    "        self.layer2 = nn.Linear(hidden_size, hidden_size//2) # Your code here // 512 -> 256\n",
    "        self.act2   = activation_func\n",
    "        #self.layer3 = nn.Linear(hidden_size//2, hidden_size//4)# Your code here // 256 -> 128\n",
    "        #self.act3   = activation_func\n",
    "        \"\"\"\n",
    "        self.layer4 = nn.Linear(128, 64)# Your code here  // 128 -> 64\n",
    "        self.act4   = activation_func\n",
    "        \n",
    "        self.layer5 = nn.Linear(64, 32)# Your code here // 64 -> 32\n",
    "        self.act5   = activation_func\n",
    "        \"\"\"     \n",
    "        self.output_layer = nn.Linear(hidden_size//2, output_size)\n",
    "        self.sigmoid = nn.Sigmoid()\n",
    "\n",
    "        self.printing = False\n",
    "\n",
    "    def __class_print(self, object_name, object):\n",
    "        if self.printing:\n",
    "            print(object_name, object)\n",
    "        \n",
    "    def forward(self, x):\n",
    "        \"\"\"\n",
    "        Forward pass of the neural network.\n",
    "        \n",
    "        Args:\n",
    "            x (torch.Tensor): The input tensor.\n",
    "        \n",
    "        Returns:\n",
    "            torch.Tensor: The output tensor after passing through the network.\n",
    "        \n",
    "        x = self.act1(self.layer1)\n",
    "        x = self.act2(self.layer2)\n",
    "        x = self.act3(self.layer3)\n",
    "        x = self.act4(self.layer4)\n",
    "        x = self.act5(self.layer5)\n",
    "        \"\"\"\n",
    "\n",
    "        self.__class_print(\"forward x\", x)\n",
    "        x = self.act1(self.layer1(x))\n",
    "        self.__class_print(\"forward x layer 1\", x)\n",
    "        x = self.act2(self.layer2(x))\n",
    "        self.__class_print(\"forward x layer 2\", x)\n",
    "        \"\"\"\n",
    "        x = self.act3(self.layer3(x))\n",
    "        self.__class_print(\"forward x layer 3\", x)\n",
    "        x = self.act4(self.layer4(x))\n",
    "        x = self.act5(self.layer5(x))\n",
    "        \"\"\"\n",
    "        x = self.output_layer(x)  # Added this line to apply the output layer\n",
    "        x = self.sigmoid(x)\n",
    "        self.__class_print(\"forward x sigmoid\", x)\n",
    "\n",
    "        return(x)\n",
    "\n",
    "    def print_weights_and_bias(self):\n",
    "        print(\"Layer 1 Weights:\", self.layer1.weight)\n",
    "        print(\"Layer 1 Bias:\", self.layer1.bias)\n",
    "\n",
    "        print(\"Layer 2 Weights:\", self.layer2.weight)\n",
    "        print(\"Layer 2 Bias:\", self.layer2.bias)\n",
    "\n",
    "        #print(\"Layer 3 Weights:\", model.layer3.weight)#\n",
    "        #print(\"Layer 3 Bias:\", model.layer3.bias)\n",
    "\n",
    "        print(\"Output Layer Weights:\", self.output_layer.weight)\n",
    "        print(\"Output Layer Bias:\", self.output_layer.bias)"
   ]
  },
  {
   "cell_type": "markdown",
   "metadata": {},
   "source": [
    "### Keeping the Deep Neural Network Model Simple\n",
    "#### Input size same as dataset features\n",
    "#### Hidden size same as input size\n",
    "#### Output size is 1 due to categorical output of one target column"
   ]
  },
  {
   "cell_type": "code",
   "execution_count": 59,
   "metadata": {},
   "outputs": [
    {
     "name": "stdout",
     "output_type": "stream",
     "text": [
      "DeepNN 10 10 1\n"
     ]
    }
   ],
   "source": [
    "input_size = 10 # specify the number of input features\n",
    "hidden_size = 10  # you can adjust this number\n",
    "output_size = 1\n",
    "\n",
    "model = DeepNN(input_size, hidden_size, output_size)\n",
    "\n",
    "#model.print_weights_and_bias()"
   ]
  },
  {
   "cell_type": "markdown",
   "metadata": {},
   "source": [
    "### Use high performance acceleration hardware if available\n",
    "\n",
    "Select the device and print out which one is in use"
   ]
  },
  {
   "cell_type": "code",
   "execution_count": 60,
   "metadata": {},
   "outputs": [
    {
     "name": "stdout",
     "output_type": "stream",
     "text": [
      "Using device cpu\n"
     ]
    }
   ],
   "source": [
    "# Fetching the device that will be used throughout this notebook\n",
    "\n",
    "# Check if CUDA (GPU support) is available, otherwise use CPU.\n",
    "# This allows the code to be run on machines without a GPU.\n",
    "device = torch.device(\"cpu\") if not torch.cuda.is_available() else torch.device(\"cuda:0\")\n",
    "\n",
    "# Print out the device being used (for clarity and debugging purposes).\n",
    "print(\"Using device\", device)"
   ]
  },
  {
   "cell_type": "markdown",
   "metadata": {},
   "source": [
    "###"
   ]
  },
  {
   "cell_type": "markdown",
   "metadata": {},
   "source": [
    "### Begin from same place as with machine learning model initial EDA and look for missing values"
   ]
  },
  {
   "cell_type": "code",
   "execution_count": 61,
   "metadata": {},
   "outputs": [
    {
     "name": "stdout",
     "output_type": "stream",
     "text": [
      "MissingValues Is Null\n",
      " survived       0\n",
      "pclass         0\n",
      "sex            0\n",
      "age            0\n",
      "sibsp          0\n",
      "parch          0\n",
      "fare           0\n",
      "embarked       2\n",
      "who            0\n",
      "adult_male     0\n",
      "embark_town    2\n",
      "alive          0\n",
      "alone          0\n",
      "dtype: int64 \n",
      "\n",
      "MissingValues2 isna\n",
      " survived       0\n",
      "pclass         0\n",
      "sex            0\n",
      "age            0\n",
      "sibsp          0\n",
      "parch          0\n",
      "fare           0\n",
      "embarked       2\n",
      "who            0\n",
      "adult_male     0\n",
      "embark_town    2\n",
      "alive          0\n",
      "alone          0\n",
      "dtype: int64\n",
      "     survived  pclass    sex    age  sibsp  parch   fare  embarked    who  \\\n",
      "0       False   False  False  False  False  False  False     False  False   \n",
      "1       False   False  False  False  False  False  False     False  False   \n",
      "2       False   False  False  False  False  False  False     False  False   \n",
      "3       False   False  False  False  False  False  False     False  False   \n",
      "4       False   False  False  False  False  False  False     False  False   \n",
      "..        ...     ...    ...    ...    ...    ...    ...       ...    ...   \n",
      "886     False   False  False  False  False  False  False     False  False   \n",
      "887     False   False  False  False  False  False  False     False  False   \n",
      "888     False   False  False  False  False  False  False     False  False   \n",
      "889     False   False  False  False  False  False  False     False  False   \n",
      "890     False   False  False  False  False  False  False     False  False   \n",
      "\n",
      "     adult_male  embark_town  alive  alone  \n",
      "0         False        False  False  False  \n",
      "1         False        False  False  False  \n",
      "2         False        False  False  False  \n",
      "3         False        False  False  False  \n",
      "4         False        False  False  False  \n",
      "..          ...          ...    ...    ...  \n",
      "886       False        False  False  False  \n",
      "887       False        False  False  False  \n",
      "888       False        False  False  False  \n",
      "889       False        False  False  False  \n",
      "890       False        False  False  False  \n",
      "\n",
      "[891 rows x 13 columns]\n"
     ]
    }
   ],
   "source": [
    "missingValues = Fn_missing_values(dfFileInput)\n",
    "print(missingValues)"
   ]
  },
  {
   "cell_type": "markdown",
   "metadata": {},
   "source": [
    "### Drop Columns with missing values - as previously established they are redundant"
   ]
  },
  {
   "cell_type": "code",
   "execution_count": 62,
   "metadata": {},
   "outputs": [
    {
     "name": "stdout",
     "output_type": "stream",
     "text": [
      "MissingValues2 isna\n",
      " survived       0\n",
      "pclass         0\n",
      "sex            0\n",
      "age            0\n",
      "sibsp          0\n",
      "parch          0\n",
      "fare           0\n",
      "embarked       0\n",
      "who            0\n",
      "adult_male     0\n",
      "embark_town    0\n",
      "alive          0\n",
      "alone          0\n",
      "dtype: int64\n",
      "<class 'pandas.core.frame.DataFrame'>\n",
      "Index: 889 entries, 0 to 890\n",
      "Data columns (total 13 columns):\n",
      " #   Column       Non-Null Count  Dtype  \n",
      "---  ------       --------------  -----  \n",
      " 0   survived     889 non-null    int64  \n",
      " 1   pclass       889 non-null    int64  \n",
      " 2   sex          889 non-null    object \n",
      " 3   age          889 non-null    float64\n",
      " 4   sibsp        889 non-null    int64  \n",
      " 5   parch        889 non-null    int64  \n",
      " 6   fare         889 non-null    float64\n",
      " 7   embarked     889 non-null    object \n",
      " 8   who          889 non-null    object \n",
      " 9   adult_male   889 non-null    bool   \n",
      " 10  embark_town  889 non-null    object \n",
      " 11  alive        889 non-null    object \n",
      " 12  alone        889 non-null    bool   \n",
      "dtypes: bool(2), float64(2), int64(4), object(5)\n",
      "memory usage: 85.1+ KB\n"
     ]
    }
   ],
   "source": [
    "dfClean = dfFileInput.dropna()\n",
    "\n",
    "missingValues = dfClean.isna()\n",
    "\n",
    "print(\"MissingValues2 isna\\n\", missingValues.sum())\n",
    "\n",
    "dfClean.info()"
   ]
  },
  {
   "cell_type": "code",
   "execution_count": 63,
   "metadata": {},
   "outputs": [],
   "source": [
    "dfClean = dfClean.drop(['alive', 'embark_town'], axis=1)"
   ]
  },
  {
   "cell_type": "code",
   "execution_count": 64,
   "metadata": {},
   "outputs": [
    {
     "data": {
      "text/html": [
       "<div>\n",
       "<style scoped>\n",
       "    .dataframe tbody tr th:only-of-type {\n",
       "        vertical-align: middle;\n",
       "    }\n",
       "\n",
       "    .dataframe tbody tr th {\n",
       "        vertical-align: top;\n",
       "    }\n",
       "\n",
       "    .dataframe thead th {\n",
       "        text-align: right;\n",
       "    }\n",
       "</style>\n",
       "<table border=\"1\" class=\"dataframe\">\n",
       "  <thead>\n",
       "    <tr style=\"text-align: right;\">\n",
       "      <th></th>\n",
       "      <th>survived</th>\n",
       "      <th>pclass</th>\n",
       "      <th>sex</th>\n",
       "      <th>age</th>\n",
       "      <th>sibsp</th>\n",
       "      <th>parch</th>\n",
       "      <th>fare</th>\n",
       "      <th>embarked</th>\n",
       "      <th>who</th>\n",
       "      <th>adult_male</th>\n",
       "      <th>alone</th>\n",
       "    </tr>\n",
       "  </thead>\n",
       "  <tbody>\n",
       "    <tr>\n",
       "      <th>868</th>\n",
       "      <td>0</td>\n",
       "      <td>3</td>\n",
       "      <td>male</td>\n",
       "      <td>25.14062</td>\n",
       "      <td>0</td>\n",
       "      <td>0</td>\n",
       "      <td>9.5</td>\n",
       "      <td>S</td>\n",
       "      <td>man</td>\n",
       "      <td>True</td>\n",
       "      <td>True</td>\n",
       "    </tr>\n",
       "    <tr>\n",
       "      <th>755</th>\n",
       "      <td>1</td>\n",
       "      <td>2</td>\n",
       "      <td>male</td>\n",
       "      <td>0.67000</td>\n",
       "      <td>1</td>\n",
       "      <td>1</td>\n",
       "      <td>14.5</td>\n",
       "      <td>S</td>\n",
       "      <td>child</td>\n",
       "      <td>False</td>\n",
       "      <td>False</td>\n",
       "    </tr>\n",
       "    <tr>\n",
       "      <th>312</th>\n",
       "      <td>0</td>\n",
       "      <td>2</td>\n",
       "      <td>female</td>\n",
       "      <td>26.00000</td>\n",
       "      <td>1</td>\n",
       "      <td>1</td>\n",
       "      <td>26.0</td>\n",
       "      <td>S</td>\n",
       "      <td>woman</td>\n",
       "      <td>False</td>\n",
       "      <td>False</td>\n",
       "    </tr>\n",
       "    <tr>\n",
       "      <th>462</th>\n",
       "      <td>0</td>\n",
       "      <td>1</td>\n",
       "      <td>male</td>\n",
       "      <td>47.00000</td>\n",
       "      <td>0</td>\n",
       "      <td>0</td>\n",
       "      <td>38.5</td>\n",
       "      <td>S</td>\n",
       "      <td>man</td>\n",
       "      <td>True</td>\n",
       "      <td>True</td>\n",
       "    </tr>\n",
       "    <tr>\n",
       "      <th>883</th>\n",
       "      <td>0</td>\n",
       "      <td>2</td>\n",
       "      <td>male</td>\n",
       "      <td>28.00000</td>\n",
       "      <td>0</td>\n",
       "      <td>0</td>\n",
       "      <td>10.5</td>\n",
       "      <td>S</td>\n",
       "      <td>man</td>\n",
       "      <td>True</td>\n",
       "      <td>True</td>\n",
       "    </tr>\n",
       "  </tbody>\n",
       "</table>\n",
       "</div>"
      ],
      "text/plain": [
       "     survived  pclass     sex       age  sibsp  parch  fare embarked    who  \\\n",
       "868         0       3    male  25.14062      0      0   9.5        S    man   \n",
       "755         1       2    male   0.67000      1      1  14.5        S  child   \n",
       "312         0       2  female  26.00000      1      1  26.0        S  woman   \n",
       "462         0       1    male  47.00000      0      0  38.5        S    man   \n",
       "883         0       2    male  28.00000      0      0  10.5        S    man   \n",
       "\n",
       "     adult_male  alone  \n",
       "868        True   True  \n",
       "755       False  False  \n",
       "312       False  False  \n",
       "462        True   True  \n",
       "883        True   True  "
      ]
     },
     "execution_count": 64,
     "metadata": {},
     "output_type": "execute_result"
    }
   ],
   "source": [
    "dfClean.sample(5)"
   ]
  },
  {
   "cell_type": "markdown",
   "metadata": {},
   "source": [
    "### Unlike the Machine Learning Model True False values are converted to 1's and zero's.\n",
    "\n",
    "Convert the values and sample the dataframe to confirm they are no longer Trues and Falses"
   ]
  },
  {
   "cell_type": "code",
   "execution_count": 65,
   "metadata": {},
   "outputs": [],
   "source": [
    "def Fn_convert_truefalse(df, tf_features_list):\n",
    "    for column in tf_features_list:\n",
    "        df[column] = df[column].astype(int)\n",
    "    return df"
   ]
  },
  {
   "cell_type": "code",
   "execution_count": 66,
   "metadata": {},
   "outputs": [
    {
     "data": {
      "text/html": [
       "<div>\n",
       "<style scoped>\n",
       "    .dataframe tbody tr th:only-of-type {\n",
       "        vertical-align: middle;\n",
       "    }\n",
       "\n",
       "    .dataframe tbody tr th {\n",
       "        vertical-align: top;\n",
       "    }\n",
       "\n",
       "    .dataframe thead th {\n",
       "        text-align: right;\n",
       "    }\n",
       "</style>\n",
       "<table border=\"1\" class=\"dataframe\">\n",
       "  <thead>\n",
       "    <tr style=\"text-align: right;\">\n",
       "      <th></th>\n",
       "      <th>survived</th>\n",
       "      <th>pclass</th>\n",
       "      <th>sex</th>\n",
       "      <th>age</th>\n",
       "      <th>sibsp</th>\n",
       "      <th>parch</th>\n",
       "      <th>fare</th>\n",
       "      <th>embarked</th>\n",
       "      <th>who</th>\n",
       "      <th>adult_male</th>\n",
       "      <th>alone</th>\n",
       "    </tr>\n",
       "  </thead>\n",
       "  <tbody>\n",
       "    <tr>\n",
       "      <th>545</th>\n",
       "      <td>0</td>\n",
       "      <td>1</td>\n",
       "      <td>male</td>\n",
       "      <td>64.00000</td>\n",
       "      <td>0</td>\n",
       "      <td>0</td>\n",
       "      <td>26.0000</td>\n",
       "      <td>S</td>\n",
       "      <td>man</td>\n",
       "      <td>1</td>\n",
       "      <td>1</td>\n",
       "    </tr>\n",
       "    <tr>\n",
       "      <th>850</th>\n",
       "      <td>0</td>\n",
       "      <td>3</td>\n",
       "      <td>male</td>\n",
       "      <td>4.00000</td>\n",
       "      <td>4</td>\n",
       "      <td>2</td>\n",
       "      <td>31.2750</td>\n",
       "      <td>S</td>\n",
       "      <td>child</td>\n",
       "      <td>0</td>\n",
       "      <td>0</td>\n",
       "    </tr>\n",
       "    <tr>\n",
       "      <th>769</th>\n",
       "      <td>0</td>\n",
       "      <td>3</td>\n",
       "      <td>male</td>\n",
       "      <td>32.00000</td>\n",
       "      <td>0</td>\n",
       "      <td>0</td>\n",
       "      <td>8.3625</td>\n",
       "      <td>S</td>\n",
       "      <td>man</td>\n",
       "      <td>1</td>\n",
       "      <td>1</td>\n",
       "    </tr>\n",
       "    <tr>\n",
       "      <th>589</th>\n",
       "      <td>0</td>\n",
       "      <td>3</td>\n",
       "      <td>male</td>\n",
       "      <td>25.14062</td>\n",
       "      <td>0</td>\n",
       "      <td>0</td>\n",
       "      <td>8.0500</td>\n",
       "      <td>S</td>\n",
       "      <td>man</td>\n",
       "      <td>1</td>\n",
       "      <td>1</td>\n",
       "    </tr>\n",
       "    <tr>\n",
       "      <th>307</th>\n",
       "      <td>1</td>\n",
       "      <td>1</td>\n",
       "      <td>female</td>\n",
       "      <td>17.00000</td>\n",
       "      <td>1</td>\n",
       "      <td>0</td>\n",
       "      <td>108.9000</td>\n",
       "      <td>C</td>\n",
       "      <td>woman</td>\n",
       "      <td>0</td>\n",
       "      <td>0</td>\n",
       "    </tr>\n",
       "  </tbody>\n",
       "</table>\n",
       "</div>"
      ],
      "text/plain": [
       "     survived  pclass     sex       age  sibsp  parch      fare embarked  \\\n",
       "545         0       1    male  64.00000      0      0   26.0000        S   \n",
       "850         0       3    male   4.00000      4      2   31.2750        S   \n",
       "769         0       3    male  32.00000      0      0    8.3625        S   \n",
       "589         0       3    male  25.14062      0      0    8.0500        S   \n",
       "307         1       1  female  17.00000      1      0  108.9000        C   \n",
       "\n",
       "       who  adult_male  alone  \n",
       "545    man           1      1  \n",
       "850  child           0      0  \n",
       "769    man           1      1  \n",
       "589    man           1      1  \n",
       "307  woman           0      0  "
      ]
     },
     "execution_count": 66,
     "metadata": {},
     "output_type": "execute_result"
    }
   ],
   "source": [
    "tf_features_list = ['adult_male', 'alone']\n",
    "Fn_convert_truefalse(dfClean, tf_features_list)\n",
    "\n",
    "dfClean.sample(5)"
   ]
  },
  {
   "cell_type": "code",
   "execution_count": 67,
   "metadata": {},
   "outputs": [],
   "source": [
    "def Fn_impute_missing (df):\n",
    "    numeric_columns = df.select_dtypes(include=['float64', 'int64']).columns\n",
    "    categorical_columns = df.select_dtypes(include=['object']).columns\n",
    "\n",
    "    numeric_imputer = SimpleImputer(strategy='mean')\n",
    "    df[numeric_columns] = numeric_imputer.fit_transform(df[numeric_columns])\n",
    "\n",
    "    categorical_imputer = SimpleImputer(strategy='most_frequent')\n",
    "    df[categorical_columns] = categorical_imputer.fit_transform(df[categorical_columns])\n",
    "    return"
   ]
  },
  {
   "cell_type": "markdown",
   "metadata": {},
   "source": [
    "### Convert Categorical Columns into using unique values \n",
    "\n",
    "#### Instead of using get dummies which explodes the number of nodes for the input layer\n",
    "The List of those columns is short and supplied to a function that converts them. Upon completion of the operation, sample the dataframe to confirm the strings have been turned into values.\n",
    "\n",
    "#### Then sample the dataframe to confirm the change"
   ]
  },
  {
   "cell_type": "code",
   "execution_count": 68,
   "metadata": {},
   "outputs": [],
   "source": [
    "def Fn_Convert_Categoricals(df):\n",
    "# Get the column data types\n",
    "    column_types = df.dtypes\n",
    "\n",
    "    print(column_types)\n",
    "\n",
    "    # Identify categorical columns\n",
    "    categorical_columns = column_types[column_types == 'object'].index.tolist()\n",
    "\n",
    "    # Print the list of categorical columns\n",
    "    print(\"Categorical Columns:\", categorical_columns)\n",
    "\n",
    "    #migrating to a different variable to \n",
    "    return(pd.get_dummies(df, \n",
    "                     columns=categorical_columns))"
   ]
  },
  {
   "cell_type": "code",
   "execution_count": 69,
   "metadata": {},
   "outputs": [],
   "source": [
    "def Fn_Categorical_to_integer(df, column_list):\n",
    "    for column_name in column_list:\n",
    "        unique_categories = df[column_name].unique()\n",
    "        category_mapping = {category: index for index, category in enumerate(unique_categories)}\n",
    "        df[column_name] = df[column_name].map(category_mapping)\n",
    "    return df"
   ]
  },
  {
   "cell_type": "code",
   "execution_count": 70,
   "metadata": {},
   "outputs": [],
   "source": [
    "dfEncoded = Fn_Categorical_to_integer(dfClean, ['sex',  'embarked', 'who'])"
   ]
  },
  {
   "cell_type": "code",
   "execution_count": 71,
   "metadata": {},
   "outputs": [
    {
     "data": {
      "text/html": [
       "<div>\n",
       "<style scoped>\n",
       "    .dataframe tbody tr th:only-of-type {\n",
       "        vertical-align: middle;\n",
       "    }\n",
       "\n",
       "    .dataframe tbody tr th {\n",
       "        vertical-align: top;\n",
       "    }\n",
       "\n",
       "    .dataframe thead th {\n",
       "        text-align: right;\n",
       "    }\n",
       "</style>\n",
       "<table border=\"1\" class=\"dataframe\">\n",
       "  <thead>\n",
       "    <tr style=\"text-align: right;\">\n",
       "      <th></th>\n",
       "      <th>survived</th>\n",
       "      <th>pclass</th>\n",
       "      <th>sex</th>\n",
       "      <th>age</th>\n",
       "      <th>sibsp</th>\n",
       "      <th>parch</th>\n",
       "      <th>fare</th>\n",
       "      <th>embarked</th>\n",
       "      <th>who</th>\n",
       "      <th>adult_male</th>\n",
       "      <th>alone</th>\n",
       "    </tr>\n",
       "  </thead>\n",
       "  <tbody>\n",
       "    <tr>\n",
       "      <th>849</th>\n",
       "      <td>1</td>\n",
       "      <td>1</td>\n",
       "      <td>1</td>\n",
       "      <td>38.233441</td>\n",
       "      <td>1</td>\n",
       "      <td>0</td>\n",
       "      <td>89.1042</td>\n",
       "      <td>1</td>\n",
       "      <td>1</td>\n",
       "      <td>0</td>\n",
       "      <td>0</td>\n",
       "    </tr>\n",
       "    <tr>\n",
       "      <th>484</th>\n",
       "      <td>1</td>\n",
       "      <td>1</td>\n",
       "      <td>0</td>\n",
       "      <td>25.000000</td>\n",
       "      <td>1</td>\n",
       "      <td>0</td>\n",
       "      <td>91.0792</td>\n",
       "      <td>1</td>\n",
       "      <td>0</td>\n",
       "      <td>1</td>\n",
       "      <td>0</td>\n",
       "    </tr>\n",
       "    <tr>\n",
       "      <th>96</th>\n",
       "      <td>0</td>\n",
       "      <td>1</td>\n",
       "      <td>0</td>\n",
       "      <td>71.000000</td>\n",
       "      <td>0</td>\n",
       "      <td>0</td>\n",
       "      <td>34.6542</td>\n",
       "      <td>1</td>\n",
       "      <td>0</td>\n",
       "      <td>1</td>\n",
       "      <td>1</td>\n",
       "    </tr>\n",
       "    <tr>\n",
       "      <th>72</th>\n",
       "      <td>0</td>\n",
       "      <td>2</td>\n",
       "      <td>0</td>\n",
       "      <td>21.000000</td>\n",
       "      <td>0</td>\n",
       "      <td>0</td>\n",
       "      <td>73.5000</td>\n",
       "      <td>0</td>\n",
       "      <td>0</td>\n",
       "      <td>1</td>\n",
       "      <td>1</td>\n",
       "    </tr>\n",
       "    <tr>\n",
       "      <th>450</th>\n",
       "      <td>0</td>\n",
       "      <td>2</td>\n",
       "      <td>0</td>\n",
       "      <td>36.000000</td>\n",
       "      <td>1</td>\n",
       "      <td>2</td>\n",
       "      <td>27.7500</td>\n",
       "      <td>0</td>\n",
       "      <td>0</td>\n",
       "      <td>1</td>\n",
       "      <td>0</td>\n",
       "    </tr>\n",
       "  </tbody>\n",
       "</table>\n",
       "</div>"
      ],
      "text/plain": [
       "     survived  pclass  sex        age  sibsp  parch     fare  embarked  who  \\\n",
       "849         1       1    1  38.233441      1      0  89.1042         1    1   \n",
       "484         1       1    0  25.000000      1      0  91.0792         1    0   \n",
       "96          0       1    0  71.000000      0      0  34.6542         1    0   \n",
       "72          0       2    0  21.000000      0      0  73.5000         0    0   \n",
       "450         0       2    0  36.000000      1      2  27.7500         0    0   \n",
       "\n",
       "     adult_male  alone  \n",
       "849           0      0  \n",
       "484           1      0  \n",
       "96            1      1  \n",
       "72            1      1  \n",
       "450           1      0  "
      ]
     },
     "execution_count": 71,
     "metadata": {},
     "output_type": "execute_result"
    }
   ],
   "source": [
    "dfEncoded.sample(5)"
   ]
  },
  {
   "cell_type": "markdown",
   "metadata": {},
   "source": [
    "### Rerun missing values to make sure all feature columns are numeric."
   ]
  },
  {
   "cell_type": "code",
   "execution_count": 72,
   "metadata": {},
   "outputs": [
    {
     "name": "stdout",
     "output_type": "stream",
     "text": [
      "MissingValues2 isna\n",
      " survived      0\n",
      "pclass        0\n",
      "sex           0\n",
      "age           0\n",
      "sibsp         0\n",
      "parch         0\n",
      "fare          0\n",
      "embarked      0\n",
      "who           0\n",
      "adult_male    0\n",
      "alone         0\n",
      "dtype: int64\n",
      "<class 'pandas.core.frame.DataFrame'>\n",
      "Index: 889 entries, 0 to 890\n",
      "Data columns (total 11 columns):\n",
      " #   Column      Non-Null Count  Dtype  \n",
      "---  ------      --------------  -----  \n",
      " 0   survived    889 non-null    int64  \n",
      " 1   pclass      889 non-null    int64  \n",
      " 2   sex         889 non-null    int64  \n",
      " 3   age         889 non-null    float64\n",
      " 4   sibsp       889 non-null    int64  \n",
      " 5   parch       889 non-null    int64  \n",
      " 6   fare        889 non-null    float64\n",
      " 7   embarked    889 non-null    int64  \n",
      " 8   who         889 non-null    int64  \n",
      " 9   adult_male  889 non-null    int64  \n",
      " 10  alone       889 non-null    int64  \n",
      "dtypes: float64(2), int64(9)\n",
      "memory usage: 83.3 KB\n"
     ]
    }
   ],
   "source": [
    "missingValues = dfEncoded.isna()\n",
    "\n",
    "print(\"MissingValues2 isna\\n\", missingValues.sum())\n",
    "\n",
    "dfEncoded.info()"
   ]
  },
  {
   "cell_type": "markdown",
   "metadata": {},
   "source": [
    "### Scale the data using Min Max Scaler \n",
    "\n",
    "Only two columns need this scaling age and fare the rest are converted categoricals.\n",
    "\n",
    "And rerun missing values to make sure the scaling took place."
   ]
  },
  {
   "cell_type": "code",
   "execution_count": 73,
   "metadata": {},
   "outputs": [],
   "source": [
    "def Fn_scalingDatasetData(num_features_list, df):\n",
    "    # 1. Create an instance of StandardScaler\n",
    "    scaler = MinMaxScaler()\n",
    "    df[num_features_list] = scaler.fit_transform(df[num_features_list])\n",
    "    return df"
   ]
  },
  {
   "cell_type": "code",
   "execution_count": 74,
   "metadata": {},
   "outputs": [
    {
     "data": {
      "text/html": [
       "<div>\n",
       "<style scoped>\n",
       "    .dataframe tbody tr th:only-of-type {\n",
       "        vertical-align: middle;\n",
       "    }\n",
       "\n",
       "    .dataframe tbody tr th {\n",
       "        vertical-align: top;\n",
       "    }\n",
       "\n",
       "    .dataframe thead th {\n",
       "        text-align: right;\n",
       "    }\n",
       "</style>\n",
       "<table border=\"1\" class=\"dataframe\">\n",
       "  <thead>\n",
       "    <tr style=\"text-align: right;\">\n",
       "      <th></th>\n",
       "      <th>survived</th>\n",
       "      <th>pclass</th>\n",
       "      <th>sex</th>\n",
       "      <th>age</th>\n",
       "      <th>sibsp</th>\n",
       "      <th>parch</th>\n",
       "      <th>fare</th>\n",
       "      <th>embarked</th>\n",
       "      <th>who</th>\n",
       "      <th>adult_male</th>\n",
       "      <th>alone</th>\n",
       "    </tr>\n",
       "  </thead>\n",
       "  <tbody>\n",
       "    <tr>\n",
       "      <th>78</th>\n",
       "      <td>1</td>\n",
       "      <td>2</td>\n",
       "      <td>0</td>\n",
       "      <td>0.005152</td>\n",
       "      <td>0</td>\n",
       "      <td>2</td>\n",
       "      <td>0.056604</td>\n",
       "      <td>0</td>\n",
       "      <td>2</td>\n",
       "      <td>0</td>\n",
       "      <td>0</td>\n",
       "    </tr>\n",
       "    <tr>\n",
       "      <th>55</th>\n",
       "      <td>1</td>\n",
       "      <td>1</td>\n",
       "      <td>0</td>\n",
       "      <td>0.475163</td>\n",
       "      <td>0</td>\n",
       "      <td>0</td>\n",
       "      <td>0.069291</td>\n",
       "      <td>0</td>\n",
       "      <td>0</td>\n",
       "      <td>1</td>\n",
       "      <td>1</td>\n",
       "    </tr>\n",
       "    <tr>\n",
       "      <th>168</th>\n",
       "      <td>0</td>\n",
       "      <td>1</td>\n",
       "      <td>0</td>\n",
       "      <td>0.475163</td>\n",
       "      <td>0</td>\n",
       "      <td>0</td>\n",
       "      <td>0.050602</td>\n",
       "      <td>0</td>\n",
       "      <td>0</td>\n",
       "      <td>1</td>\n",
       "      <td>1</td>\n",
       "    </tr>\n",
       "    <tr>\n",
       "      <th>235</th>\n",
       "      <td>0</td>\n",
       "      <td>3</td>\n",
       "      <td>1</td>\n",
       "      <td>0.310639</td>\n",
       "      <td>0</td>\n",
       "      <td>0</td>\n",
       "      <td>0.014737</td>\n",
       "      <td>0</td>\n",
       "      <td>1</td>\n",
       "      <td>0</td>\n",
       "      <td>1</td>\n",
       "    </tr>\n",
       "    <tr>\n",
       "      <th>23</th>\n",
       "      <td>1</td>\n",
       "      <td>1</td>\n",
       "      <td>0</td>\n",
       "      <td>0.346569</td>\n",
       "      <td>0</td>\n",
       "      <td>0</td>\n",
       "      <td>0.069291</td>\n",
       "      <td>0</td>\n",
       "      <td>0</td>\n",
       "      <td>1</td>\n",
       "      <td>1</td>\n",
       "    </tr>\n",
       "  </tbody>\n",
       "</table>\n",
       "</div>"
      ],
      "text/plain": [
       "     survived  pclass  sex       age  sibsp  parch      fare  embarked  who  \\\n",
       "78          1       2    0  0.005152      0      2  0.056604         0    2   \n",
       "55          1       1    0  0.475163      0      0  0.069291         0    0   \n",
       "168         0       1    0  0.475163      0      0  0.050602         0    0   \n",
       "235         0       3    1  0.310639      0      0  0.014737         0    1   \n",
       "23          1       1    0  0.346569      0      0  0.069291         0    0   \n",
       "\n",
       "     adult_male  alone  \n",
       "78            0      0  \n",
       "55            1      1  \n",
       "168           1      1  \n",
       "235           0      1  \n",
       "23            1      1  "
      ]
     },
     "execution_count": 74,
     "metadata": {},
     "output_type": "execute_result"
    }
   ],
   "source": [
    "scaleDatasetData = True\n",
    "\n",
    "if scaleDatasetData:\n",
    "    numerical_features_list = ['age', 'fare']\n",
    "    dfScaled = Fn_scalingDatasetData(numerical_features_list, dfEncoded)\n",
    "    \n",
    "else:\n",
    "    dfScaled = dfEncoded.copy()\n",
    "    \n",
    "dfScaled.sample(5)"
   ]
  },
  {
   "cell_type": "code",
   "execution_count": 75,
   "metadata": {},
   "outputs": [
    {
     "name": "stdout",
     "output_type": "stream",
     "text": [
      "MissingValues2 isna\n",
      " survived      0\n",
      "pclass        0\n",
      "sex           0\n",
      "age           0\n",
      "sibsp         0\n",
      "parch         0\n",
      "fare          0\n",
      "embarked      0\n",
      "who           0\n",
      "adult_male    0\n",
      "alone         0\n",
      "dtype: int64\n",
      "<class 'pandas.core.frame.DataFrame'>\n",
      "Index: 889 entries, 0 to 890\n",
      "Data columns (total 11 columns):\n",
      " #   Column      Non-Null Count  Dtype  \n",
      "---  ------      --------------  -----  \n",
      " 0   survived    889 non-null    int64  \n",
      " 1   pclass      889 non-null    int64  \n",
      " 2   sex         889 non-null    int64  \n",
      " 3   age         889 non-null    float64\n",
      " 4   sibsp       889 non-null    int64  \n",
      " 5   parch       889 non-null    int64  \n",
      " 6   fare        889 non-null    float64\n",
      " 7   embarked    889 non-null    int64  \n",
      " 8   who         889 non-null    int64  \n",
      " 9   adult_male  889 non-null    int64  \n",
      " 10  alone       889 non-null    int64  \n",
      "dtypes: float64(2), int64(9)\n",
      "memory usage: 83.3 KB\n"
     ]
    }
   ],
   "source": [
    "missingValues = dfScaled.isna()\n",
    "\n",
    "print(\"MissingValues2 isna\\n\", missingValues.sum())\n",
    "\n",
    "dfScaled.info()"
   ]
  },
  {
   "cell_type": "markdown",
   "metadata": {},
   "source": [
    "## Before Creating the Deep Neural Network Model\n",
    "\n",
    "Perform a train test split\n",
    "\n",
    "Print out the relative number of rows"
   ]
  },
  {
   "cell_type": "code",
   "execution_count": 76,
   "metadata": {},
   "outputs": [
    {
     "name": "stdout",
     "output_type": "stream",
     "text": [
      "train_dataframe.shape (711, 11)\n"
     ]
    },
    {
     "data": {
      "text/html": [
       "<div>\n",
       "<style scoped>\n",
       "    .dataframe tbody tr th:only-of-type {\n",
       "        vertical-align: middle;\n",
       "    }\n",
       "\n",
       "    .dataframe tbody tr th {\n",
       "        vertical-align: top;\n",
       "    }\n",
       "\n",
       "    .dataframe thead th {\n",
       "        text-align: right;\n",
       "    }\n",
       "</style>\n",
       "<table border=\"1\" class=\"dataframe\">\n",
       "  <thead>\n",
       "    <tr style=\"text-align: right;\">\n",
       "      <th></th>\n",
       "      <th>survived</th>\n",
       "      <th>pclass</th>\n",
       "      <th>sex</th>\n",
       "      <th>age</th>\n",
       "      <th>sibsp</th>\n",
       "      <th>parch</th>\n",
       "      <th>fare</th>\n",
       "      <th>embarked</th>\n",
       "      <th>who</th>\n",
       "      <th>adult_male</th>\n",
       "      <th>alone</th>\n",
       "    </tr>\n",
       "  </thead>\n",
       "  <tbody>\n",
       "    <tr>\n",
       "      <th>703</th>\n",
       "      <td>0</td>\n",
       "      <td>3</td>\n",
       "      <td>0</td>\n",
       "      <td>0.308872</td>\n",
       "      <td>0</td>\n",
       "      <td>0</td>\n",
       "      <td>0.015111</td>\n",
       "      <td>2</td>\n",
       "      <td>0</td>\n",
       "      <td>1</td>\n",
       "      <td>1</td>\n",
       "    </tr>\n",
       "    <tr>\n",
       "      <th>72</th>\n",
       "      <td>0</td>\n",
       "      <td>2</td>\n",
       "      <td>0</td>\n",
       "      <td>0.258608</td>\n",
       "      <td>0</td>\n",
       "      <td>0</td>\n",
       "      <td>0.143462</td>\n",
       "      <td>0</td>\n",
       "      <td>0</td>\n",
       "      <td>1</td>\n",
       "      <td>1</td>\n",
       "    </tr>\n",
       "    <tr>\n",
       "      <th>836</th>\n",
       "      <td>0</td>\n",
       "      <td>3</td>\n",
       "      <td>0</td>\n",
       "      <td>0.258608</td>\n",
       "      <td>0</td>\n",
       "      <td>0</td>\n",
       "      <td>0.016908</td>\n",
       "      <td>0</td>\n",
       "      <td>0</td>\n",
       "      <td>1</td>\n",
       "      <td>1</td>\n",
       "    </tr>\n",
       "    <tr>\n",
       "      <th>224</th>\n",
       "      <td>1</td>\n",
       "      <td>1</td>\n",
       "      <td>0</td>\n",
       "      <td>0.472229</td>\n",
       "      <td>1</td>\n",
       "      <td>0</td>\n",
       "      <td>0.175668</td>\n",
       "      <td>0</td>\n",
       "      <td>0</td>\n",
       "      <td>1</td>\n",
       "      <td>0</td>\n",
       "    </tr>\n",
       "    <tr>\n",
       "      <th>581</th>\n",
       "      <td>1</td>\n",
       "      <td>1</td>\n",
       "      <td>1</td>\n",
       "      <td>0.484795</td>\n",
       "      <td>1</td>\n",
       "      <td>1</td>\n",
       "      <td>0.216430</td>\n",
       "      <td>1</td>\n",
       "      <td>1</td>\n",
       "      <td>0</td>\n",
       "      <td>0</td>\n",
       "    </tr>\n",
       "  </tbody>\n",
       "</table>\n",
       "</div>"
      ],
      "text/plain": [
       "     survived  pclass  sex       age  sibsp  parch      fare  embarked  who  \\\n",
       "703         0       3    0  0.308872      0      0  0.015111         2    0   \n",
       "72          0       2    0  0.258608      0      0  0.143462         0    0   \n",
       "836         0       3    0  0.258608      0      0  0.016908         0    0   \n",
       "224         1       1    0  0.472229      1      0  0.175668         0    0   \n",
       "581         1       1    1  0.484795      1      1  0.216430         1    1   \n",
       "\n",
       "     adult_male  alone  \n",
       "703           1      1  \n",
       "72            1      1  \n",
       "836           1      1  \n",
       "224           1      0  \n",
       "581           0      0  "
      ]
     },
     "execution_count": 76,
     "metadata": {},
     "output_type": "execute_result"
    }
   ],
   "source": [
    "train_dataframe, test_dataframe = train_test_split(dfScaled, test_size=0.2)\n",
    "print(\"train_dataframe.shape\", train_dataframe.shape)\n",
    "train_dataframe.sample(5)"
   ]
  },
  {
   "cell_type": "code",
   "execution_count": 77,
   "metadata": {},
   "outputs": [
    {
     "name": "stdout",
     "output_type": "stream",
     "text": [
      "test_dataframe.shape (178, 11)\n"
     ]
    }
   ],
   "source": [
    "print(\"test_dataframe.shape\", test_dataframe.shape)\n",
    "test_dataframe.sample(5)\n",
    "input_size = 10"
   ]
  },
  {
   "cell_type": "markdown",
   "metadata": {},
   "source": [
    "### Create Data Loader objects for the split train and test data components \n",
    "\n",
    "Create a class that provides utility functions to the transforms.\n",
    "\n",
    "The call the custom class with a transform library function. This produces a dataloader ready object"
   ]
  },
  {
   "cell_type": "code",
   "execution_count": 78,
   "metadata": {},
   "outputs": [],
   "source": [
    "from torch.utils.data import Dataset, DataLoader\n",
    "from torchvision import transforms  # Import the transforms module from torchvision\n",
    "\n",
    "class CustomDataset(Dataset):\n",
    "    def __init__(self, dataframe, target_column, transform=None):\n",
    "        self.dataframe = dataframe\n",
    "        self.transform = transform\n",
    "        self.target_column = target_column\n",
    "\n",
    "    def __len__(self):\n",
    "        return len(self.dataframe)\n",
    "\n",
    "    def __getitem__(self, idx):\n",
    "        sample = self.dataframe.iloc[idx]\n",
    "\n",
    "        #print(\"idx\", idx, \"sample shape\", sample.shape, type(sample))\n",
    "    \n",
    "        # Select all feature columns (excluding the target column if present)\n",
    "        feature_columns = sample.drop(labels=[self.target_column])\n",
    "    \n",
    "        # Convert feature_columns into a PyTorch tensor\n",
    "        features = torch.tensor(feature_columns.values, dtype=torch.float32)\n",
    "        target = torch.tensor(sample[self.target_column], dtype=torch.float32)\n",
    "        #print(\"__getitem__ features.shape\", features.shape)\n",
    "        #print(\"__getitem__ target.shape\", target.shape)\n",
    "        return features, target\n"
   ]
  },
  {
   "cell_type": "code",
   "execution_count": 79,
   "metadata": {},
   "outputs": [],
   "source": [
    "train_dataset = CustomDataset(train_dataframe, 'survived', transform=transforms.Compose([transforms.ToTensor()]))\n",
    "test_dataset = CustomDataset(test_dataframe, 'survived', transform=transforms.Compose([transforms.ToTensor()]))\n"
   ]
  },
  {
   "cell_type": "markdown",
   "metadata": {},
   "source": [
    "### Then use the DataLoader module to produce objects that can be fed into the DNN"
   ]
  },
  {
   "cell_type": "code",
   "execution_count": 80,
   "metadata": {},
   "outputs": [
    {
     "name": "stdout",
     "output_type": "stream",
     "text": [
      "<class 'torch.utils.data.dataloader.DataLoader'>\n"
     ]
    }
   ],
   "source": [
    "from torch.utils.data import DataLoader\n",
    "\n",
    "# Assuming you have already created train_dataset and test_dataset\n",
    "# You can create DataLoader objects for both datasets as follows:\n",
    "\n",
    "batch_size = 16\n",
    "\n",
    "# Create train_loader\n",
    "train_loader = DataLoader(train_dataset, batch_size=batch_size, shuffle=True)\n",
    "\n",
    "# Create test_loader\n",
    "test_loader = DataLoader(test_dataset, batch_size=batch_size, shuffle=False)\n",
    "\n",
    "print(type(train_loader))"
   ]
  },
  {
   "cell_type": "markdown",
   "metadata": {},
   "source": [
    "### Run through the model to see how its layers are working. \n",
    "\n",
    "This provides a useful diagnostic on the code developed to this point. If the plots fail or look incorrect, double check the code.\n",
    "\n",
    "Obviously for a very large dataset and very large DNN this is impractical. Small counts of rows would be recommended.\n"
   ]
  },
  {
   "cell_type": "code",
   "execution_count": 81,
   "metadata": {},
   "outputs": [],
   "source": [
    "# Import Seaborn\n",
    "import seaborn as sns\n",
    "\n",
    "def plot_gradients_seaborn(named_parameters, act_fn_name, color=\"C0\"):\n",
    "    \"\"\"\n",
    "    Visualizes the gradients across different layers using Seaborn.\n",
    "    \n",
    "    Args:\n",
    "        named_parameters (iterator): An iterator yielding both the name of the parameter \n",
    "                                     as well as the parameter itself.\n",
    "        act_fn_name (str): The name of the activation function used in the model.\n",
    "        color (str): Color in which we want to visualize the histogram.\n",
    "        \n",
    "    Returns:\n",
    "        None. Displays histograms for gradient magnitudes of each layer.\n",
    "    \"\"\"\n",
    "    grads = {name: params.grad.data.view(-1).cpu().clone().numpy() \n",
    "             for name, params in named_parameters if \"weight\" in name}\n",
    "    \n",
    "    columns = len(grads)\n",
    "    print(\"columns\", columns)\n",
    "    fig, ax = plt.subplots(1, columns, figsize=(columns*3.5, 2.5))\n",
    "    fig_index = 0\n",
    "    for key in grads:\n",
    "        #print(\"data\", grads[key])\n",
    "        key_ax = ax[fig_index%columns]\n",
    "        sns.histplot(data=grads[key], bins=30, ax=key_ax, color=color, kde=True)\n",
    "        key_ax.set_title(str(key))\n",
    "        key_ax.set_xlabel(\"Grad magnitude\")\n",
    "        fig_index += 1\n",
    "    fig.suptitle(f\"Gradient magnitude distribution for activation function {act_fn_name}\", fontsize=14, y=1.05)\n",
    "    fig.subplots_adjust(wspace=0.45)\n",
    "    titlestr = f\"Gradient magnitude distribution for activation function {act_fn_name}.jpg\"\n",
    "    plt.savefig(titlestr)\n",
    "    plt.show()\n",
    "    plt.close()"
   ]
  },
  {
   "cell_type": "code",
   "execution_count": 82,
   "metadata": {},
   "outputs": [],
   "source": [
    "def train_and_inspect_gradients(model, train_loader, criterion, optimizer, act_fn_name, color=\"C0\"):\n",
    "    \"\"\"\n",
    "    Train the model and inspect gradient flow.\n",
    "    \n",
    "    Args:\n",
    "        model (DeepNN): The DeepNN model to train.\n",
    "        train_loader (torch.utils.data.DataLoader): The data loader.\n",
    "        criterion (callable): The loss function.\n",
    "        optimizer (torch.optim.Optimizer): The optimizer.\n",
    "        act_fn_name (str): The name of the activation function used in the model.\n",
    "        color (str): Color for gradient visualization.\n",
    "        \n",
    "    Returns:\n",
    "        None. Trains the model and displays gradient histograms.\n",
    "    \"\"\"\n",
    "\n",
    "    # Use only one epoch for demonstration\n",
    "    model.train()\n",
    "    for batch_idx, (data, target) in enumerate(train_loader):\n",
    "        data, target = data.to(device), target.to(device)\n",
    "        #target = target.to(torch.long)\n",
    "        target2 = target.to(torch.long)\n",
    "        target = target.unsqueeze(1)\n",
    "        #print(\"target2 type\", type(target2), target2.shape, target2)\n",
    "        \n",
    "        optimizer.zero_grad()\n",
    "        output = model(data.view(-1, 10))\n",
    "        #print(\"output type\", type(output), output.shape, output)\n",
    "        loss = criterion(output, target)\n",
    "        loss.backward()\n",
    "        \n",
    "        optimizer.step()\n",
    "        \n",
    "        # For demonstration, inspect gradient after first batch\n",
    "        if batch_idx == 0:\n",
    "            plot_gradients_seaborn(model.named_parameters(), act_fn_name, color=color)\n",
    "            break"
   ]
  },
  {
   "cell_type": "markdown",
   "metadata": {},
   "source": [
    "### Train and run the DNN, collecting outputs for inspecting the weights and gradient magnitudes.\n",
    "\n",
    "#### Show plots of gradients and weights\n",
    "\n",
    "#### The plots initially showed a single bar at 0. The original target output shape was incompatible with the criterion functions."
   ]
  },
  {
   "cell_type": "code",
   "execution_count": 83,
   "metadata": {},
   "outputs": [
    {
     "name": "stdout",
     "output_type": "stream",
     "text": [
      "DeepNN 10 10 1\n",
      "columns 3\n"
     ]
    },
    {
     "data": {
      "image/png": "[encoded data removed]",
      "text/plain": [
       "<Figure size 1050x250 with 3 Axes>"
      ]
     },
     "metadata": {},
     "output_type": "display_data"
    },
    {
     "name": "stdout",
     "output_type": "stream",
     "text": [
      "DeepNN 10 10 1\n",
      "columns 3\n"
     ]
    },
    {
     "data": {
      "image/png": "[encoded data removed]",
      "text/plain": [
       "<Figure size 1050x250 with 3 Axes>"
      ]
     },
     "metadata": {},
     "output_type": "display_data"
    },
    {
     "name": "stdout",
     "output_type": "stream",
     "text": [
      "DeepNN 10 10 1\n",
      "columns 3\n"
     ]
    },
    {
     "data": {
      "image/png": "[encoded data removed]",
      "text/plain": [
       "<Figure size 1050x250 with 3 Axes>"
      ]
     },
     "metadata": {},
     "output_type": "display_data"
    },
    {
     "name": "stdout",
     "output_type": "stream",
     "text": [
      "DeepNN 10 10 1\n",
      "columns 3\n"
     ]
    },
    {
     "data": {
      "image/png": "[encoded data removed]",
      "text/plain": [
       "<Figure size 1050x250 with 3 Axes>"
      ]
     },
     "metadata": {},
     "output_type": "display_data"
    }
   ],
   "source": [
    "# We'll test the gradient flow for multiple activation functions to compare their behavior.\n",
    "# The activation functions we'll be experimenting with are:\n",
    "# ReLU, LeakyReLU, ELU, and Sigmoid.\n",
    "\n",
    "\n",
    "#learning_rate = 0.0001  # you might want to tune this value - best accuracy was ELU @ 77.53\n",
    "#learning_rate = 0.0005  # you might want to tune this value - best accuraxcy was ELU @ 80.47\n",
    "learning_rate = 0.001  # you might want to tune this value - best accuracy was ELU @ 80.72\n",
    "#learning_rate = 0.01  # accuracy was terrible best was RELU at 64.34\n",
    "\n",
    "# List of activation functions to be used in our neural network\n",
    "act_fn_list = [nn.ReLU(), nn.LeakyReLU(), nn.ELU(), nn.Sigmoid()]\n",
    "\n",
    "# Corresponding names of the activation functions for display purposes\n",
    "act_fn_names = [\"ReLU\", \"LeakyReLU\", \"ELU\", \"Sigmoid\"]\n",
    "\n",
    "# Iterating over each activation function to:\n",
    "# 1. Initialize our deep neural network with the given activation function.\n",
    "# 2. Define the optimizer for training.\n",
    "# 3. Train the network.\n",
    "\n",
    "#optimizer_list = [optim.Adam, optim.SGD, optim.RMSprop] \n",
    "\n",
    "train_loader2 = train_loader\n",
    "\n",
    "for i, act_fn in enumerate(act_fn_list):\n",
    "    # Initialize the neural network with the current activation function and move it to the specified device\n",
    "    \n",
    "    net = DeepNN(input_size=input_size, hidden_size=hidden_size, output_size=1, activation_func=act_fn)\n",
    "    \n",
    "    # Define the optimizer for training. Here, we're using the Adam optimizer.\n",
    "    \n",
    "    #optimizer = torch.optim.Adam(net.parameters(), lr=learning_rate)\n",
    "    optimizer = torch.optim.Adam(net.parameters(), lr=learning_rate)\n",
    "    \n",
    "    # Train the network and visualize the gradient magnitudes using our custom function.\n",
    "    # We also specify a unique color for each activation function's visualization for clarity.\n",
    "    train_and_inspect_gradients(net, train_loader, torch.nn.functional.binary_cross_entropy, optimizer, act_fn_names[i], color=f\"C{i}\")"
   ]
  },
  {
   "cell_type": "markdown",
   "metadata": {},
   "source": [
    "### Train and run several epochs then verifying those runs against the test set\n",
    "\n",
    "#### Calculate and print accuracy scores.\n",
    "\n",
    "#### Non-trivial debug time was spend on verifying the predicted output was legitimate.\n",
    "#### Then comparing predicted output with actual output required additional correction to generate valid accuracy counts.\n",
    "\n",
    "#### Number of epochs in original source code was 1.\n",
    "#### Adding a run of 10 epochs showed better model performance in multi-epoch runs.\n",
    "#### More than 10 epochs and the models showed repeated examples of overfitting.\n",
    "\n",
    "#### Out of scope of this project is writing early stopping code. Something recommended if this code is intended for production."
   ]
  },
  {
   "cell_type": "code",
   "execution_count": 84,
   "metadata": {},
   "outputs": [
    {
     "name": "stdout",
     "output_type": "stream",
     "text": [
      "Training with ReLU()\n",
      "DeepNN 10 10 1\n",
      "epochs 1\n",
      "correct_preds 5.0\n",
      "Epoch 1/1, Loss: 0.6653, Accuracy: 0.70%\n",
      "Epoch 1/1, Best Loss: -1.0000, Best Accuracy: -1.00%\n",
      "--\n",
      "epochs 10\n",
      "correct_preds 7.0\n",
      "Epoch 1/10, Loss: 0.6497, Accuracy: 0.98%\n",
      "correct_preds 4.0\n",
      "Epoch 2/10, Loss: 0.6294, Accuracy: 0.56%\n",
      "correct_preds 3.0\n",
      "Epoch 3/10, Loss: 0.5982, Accuracy: 0.42%\n",
      "correct_preds 6.0\n",
      "Epoch 4/10, Loss: 0.5568, Accuracy: 0.84%\n",
      "correct_preds 6.0\n",
      "Epoch 5/10, Loss: 0.5203, Accuracy: 0.84%\n",
      "correct_preds 5.0\n",
      "Epoch 6/10, Loss: 0.4951, Accuracy: 0.70%\n",
      "correct_preds 6.0\n",
      "Epoch 7/10, Loss: 0.4750, Accuracy: 0.84%\n",
      "correct_preds 5.0\n",
      "Epoch 8/10, Loss: 0.4670, Accuracy: 0.70%\n",
      "correct_preds 5.0\n",
      "Epoch 9/10, Loss: 0.4587, Accuracy: 0.70%\n",
      "correct_preds 4.0\n",
      "Epoch 10/10, Loss: 0.4567, Accuracy: 0.56%\n",
      "Epoch 10/10, Best Loss: -1.0000, Best Accuracy: -1.00%\n",
      "Training with LeakyReLU(negative_slope=0.01)\n",
      "DeepNN 10 10 1\n",
      "epochs 1\n",
      "correct_preds 2.0\n",
      "Epoch 1/1, Loss: 0.7267, Accuracy: 0.28%\n",
      "Epoch 1/1, Best Loss: -1.0000, Best Accuracy: -1.00%\n",
      "--\n",
      "epochs 10\n",
      "correct_preds 3.0\n",
      "Epoch 1/10, Loss: 0.6859, Accuracy: 0.42%\n",
      "correct_preds 7.0\n",
      "Epoch 2/10, Loss: 0.6255, Accuracy: 0.98%\n",
      "correct_preds 5.0\n",
      "Epoch 3/10, Loss: 0.5784, Accuracy: 0.70%\n",
      "correct_preds 4.0\n",
      "Epoch 4/10, Loss: 0.5398, Accuracy: 0.56%\n",
      "correct_preds 6.0\n",
      "Epoch 5/10, Loss: 0.5016, Accuracy: 0.84%\n",
      "correct_preds 5.0\n",
      "Epoch 6/10, Loss: 0.4789, Accuracy: 0.70%\n",
      "correct_preds 4.0\n",
      "Epoch 7/10, Loss: 0.4691, Accuracy: 0.56%\n",
      "correct_preds 6.0\n",
      "Epoch 8/10, Loss: 0.4592, Accuracy: 0.84%\n",
      "correct_preds 7.0\n",
      "Epoch 9/10, Loss: 0.4502, Accuracy: 0.98%\n",
      "correct_preds 4.0\n",
      "Epoch 10/10, Loss: 0.4533, Accuracy: 0.56%\n",
      "Epoch 10/10, Best Loss: -1.0000, Best Accuracy: -1.00%\n",
      "Training with ELU(alpha=1.0)\n",
      "DeepNN 10 10 1\n",
      "epochs 1\n",
      "correct_preds 5.0\n",
      "Epoch 1/1, Loss: 0.6687, Accuracy: 0.70%\n",
      "Epoch 1/1, Best Loss: -1.0000, Best Accuracy: -1.00%\n",
      "--\n",
      "epochs 10\n",
      "correct_preds 5.0\n",
      "Epoch 1/10, Loss: 0.6467, Accuracy: 0.70%\n",
      "correct_preds 7.0\n",
      "Epoch 2/10, Loss: 0.6111, Accuracy: 0.98%\n",
      "correct_preds 6.0\n",
      "Epoch 3/10, Loss: 0.5550, Accuracy: 0.84%\n",
      "correct_preds 4.0\n",
      "Epoch 4/10, Loss: 0.4931, Accuracy: 0.56%\n",
      "correct_preds 5.0\n",
      "Epoch 5/10, Loss: 0.4617, Accuracy: 0.70%\n",
      "correct_preds 5.0\n",
      "Epoch 6/10, Loss: 0.4463, Accuracy: 0.70%\n",
      "correct_preds 6.0\n",
      "Epoch 7/10, Loss: 0.4401, Accuracy: 0.84%\n",
      "correct_preds 6.0\n",
      "Epoch 8/10, Loss: 0.4345, Accuracy: 0.84%\n",
      "correct_preds 6.0\n",
      "Epoch 9/10, Loss: 0.4344, Accuracy: 0.84%\n",
      "correct_preds 5.0\n",
      "Epoch 10/10, Loss: 0.4327, Accuracy: 0.70%\n",
      "Epoch 10/10, Best Loss: -1.0000, Best Accuracy: -1.00%\n",
      "Training with Sigmoid()\n",
      "DeepNN 10 10 1\n",
      "epochs 1\n",
      "correct_preds 3.0\n",
      "Epoch 1/1, Loss: 0.7063, Accuracy: 0.42%\n",
      "Epoch 1/1, Best Loss: -1.0000, Best Accuracy: -1.00%\n",
      "--\n",
      "epochs 10\n",
      "correct_preds 4.0\n",
      "Epoch 1/10, Loss: 0.6875, Accuracy: 0.56%\n",
      "correct_preds 6.0\n",
      "Epoch 2/10, Loss: 0.6759, Accuracy: 0.84%\n",
      "correct_preds 3.0\n",
      "Epoch 3/10, Loss: 0.6714, Accuracy: 0.42%\n",
      "correct_preds 1.0\n",
      "Epoch 4/10, Loss: 0.6695, Accuracy: 0.14%\n",
      "correct_preds 4.0\n",
      "Epoch 5/10, Loss: 0.6644, Accuracy: 0.56%\n",
      "correct_preds 3.0\n",
      "Epoch 6/10, Loss: 0.6623, Accuracy: 0.42%\n",
      "correct_preds 6.0\n",
      "Epoch 7/10, Loss: 0.6562, Accuracy: 0.84%\n",
      "correct_preds 5.0\n",
      "Epoch 8/10, Loss: 0.6523, Accuracy: 0.70%\n",
      "correct_preds 6.0\n",
      "Epoch 9/10, Loss: 0.6460, Accuracy: 0.84%\n",
      "correct_preds 4.0\n",
      "Epoch 10/10, Loss: 0.6404, Accuracy: 0.56%\n",
      "Epoch 10/10, Best Loss: -1.0000, Best Accuracy: -1.00%\n"
     ]
    }
   ],
   "source": [
    "def train_several_epochs(model, train_loader, criterion, optimizer, act_fn_name, color=\"C0\", epochs=1):\n",
    "    \"\"\"\n",
    "    Train the model and inspect gradient flow.\n",
    "    \n",
    "    Args:\n",
    "        model (DeepNN): The DeepNN model to train.\n",
    "        train_loader (torch.utils.data.DataLoader): The data loader.\n",
    "        criterion (callable): The loss function.\n",
    "        optimizer (torch.optim.Optimizer): The optimizer.\n",
    "        act_fn_name (str): The name of the activation function used in the model.\n",
    "        color (str): Color for gradient visualization.\n",
    "        epochs (int): Number of training epochs.\n",
    "        \n",
    "    Returns:\n",
    "        None. Trains the model and displays gradient histograms.\n",
    "    \"\"\"\n",
    "    #print(\"len(train_loader.dataset)\", len(train_loader.dataset))\n",
    "    print(\"epochs\", epochs)\n",
    "    batch_count = 0\n",
    "    model.train()\n",
    "    cur_avg_loss = -1.0\n",
    "    cur_accuracy = -1.0\n",
    "    for epoch in range(epochs):\n",
    "        epoch_loss = 0\n",
    "        correct_preds = 0\n",
    "        \n",
    "        for batch_idx, (data, target) in enumerate(train_loader):\n",
    "            data, target = data.to(device), target.to(device)\n",
    "\n",
    "            #print(\"data\", data)\n",
    "            targetX = target.unsqueeze(1)\n",
    "            optimizer.zero_grad()\n",
    "            output = model(data.view(-1, 10))\n",
    "            loss = criterion(output, targetX)\n",
    "            loss.backward()\n",
    "            \n",
    "            optimizer.step()\n",
    "\n",
    "            # Update epoch loss\n",
    "            epoch_loss += loss.item()\n",
    "            \n",
    "            # Update correct predictions\n",
    "            #_, predicted = output.max(1)\n",
    "            predicted = (output > 0.5).float()\n",
    "\n",
    "\n",
    "            correct_preds = (predicted.squeeze() == target).float()\n",
    "            correct_preds = correct_preds.sum().item()\n",
    "\n",
    "            #correct_preds += (predicted == target).sum().item()\n",
    "            #print(\"output\", output)\n",
    "            #print(\"target\", target)\n",
    "            #print(\"\\ntargetX\", targetX)\n",
    "            #print(\"predicted\", predicted)\n",
    "            #print(\"correct_preds\", correct_preds)\n",
    "            #print(\"\\noutput.max(1)\", output.max(1),\"\\nend output.max\")\n",
    "            #print(\"epoch\", epoch, \"correct_preds\", correct_preds, \"(predicted == target).sum()\", (predicted == target).sum().item())\n",
    "            batch_count += 1\n",
    "        \n",
    "        # Calculate average loss and accuracy over the epoch\n",
    "        #print(\"batch_count\", batch_count, \"len(output)\", len(output), \"len(target)\", len(target))\n",
    "        print(\"correct_preds\", correct_preds)\n",
    "        #print(\"len(train_loader)\", len(train_loader))\n",
    "        #print(\"epoch_loss\", epoch_loss)\n",
    "        avg_loss = epoch_loss / len(train_loader)\n",
    "        accuracy = 100. * correct_preds / len(train_loader.dataset)\n",
    "        \n",
    "        print(f\"Epoch {epoch+1}/{epochs}, Loss: {avg_loss:.4f}, Accuracy: {accuracy:.2f}%\")\n",
    "        \n",
    "    print(f\"Epoch {epoch+1}/{epochs}, Best Loss: {cur_avg_loss:.4f}, Best Accuracy: {cur_accuracy:.2f}%\")\n",
    "\n",
    "\n",
    "# List of activation functions to be used in our neural network\n",
    "act_fn_list = [nn.ReLU(), nn.LeakyReLU(), nn.ELU(), nn.Sigmoid()]\n",
    "\n",
    "# Corresponding names of the activation functions for display purposes\n",
    "act_fn_names = [\"ReLU\", \"LeakyReLU\", \"ELU\", \"Sigmoid\"]\n",
    "\n",
    "# List of activation functions to be used in our neural network\n",
    "#act_fn_list = [nn.ReLU(), nn.LeakyReLU(), nn.Sigmoid()]\n",
    "\n",
    "# Corresponding names of the activation functions for display purposes\n",
    "#act_fn_names = [\"ReLU\", \"LeakyReLU\", \"Sigmoid\"]\n",
    "\n",
    "#learning_rate = 0.0001  # you might want to tune this value - best accuracy was ELU @ 77.53\n",
    "#learning_rate = 0.0005  # you might want to tune this value - best accuraxcy was ELU @ 80.47\n",
    "learning_rate = 0.001  # you might want to tune this value - best accuracy was ELU @ 80.72\n",
    "#learning_rate = 0.01  # accuracy was terrible best was RELU at 64.34\n",
    "# Train and visualize for each activation function.\n",
    "for i, act_fn in enumerate(act_fn_list):\n",
    "    print(\"Training with \" + str(act_fn))\n",
    "    net = DeepNN(input_size=input_size, hidden_size=hidden_size, output_size=1, activation_func=act_fn).to(device)\n",
    "    optimizer = optim.Adam(net.parameters(), lr=learning_rate)\n",
    "    train_several_epochs(net, train_loader2, torch.nn.functional.binary_cross_entropy, optimizer, act_fn_names[i], color=f\"C{i}\", epochs=1)\n",
    "    print(\"--\")\n",
    "    train_several_epochs(net, train_loader2, torch.nn.functional.binary_cross_entropy, optimizer, act_fn_names[i], color=f\"C{i}\", epochs=10)"
   ]
  },
  {
   "cell_type": "markdown",
   "metadata": {},
   "source": [
    "## Conclusions\n",
    "\n",
    "With more than one epoch but some number at or below 10 epochs, for this dataset, reasonable accuracy numbers are produced.\n",
    "\n",
    "A properly coded Deep Neural Network can compete with simpler Machine Learning models. However, the substantial tuning and hyperparameter experiments would be needed in order to attain similar results to a potentially unsupervised Machine Learning code base. \n",
    "\n",
    "The Goal of this project was not to explore a complex dataset with a Deep Neural Network, but to determine how much work and what are potential problem coding areas.\n",
    "\n",
    "Issue number one: make sure your understand what type of model you're building Binary Categorcal Output or a Ranged Output Model. This requires properly setting up the dataset target column and the loss function for back propagation.\n",
    "\n",
    "Issue number two: examine the objects being processed. Some comparisons or calculations will fail if the shape of those objects do not match. \n",
    "but other operations quietly fail and produce nonsense results rather than failing.\n",
    "\n",
    "Issue number three: binary categorical outputs need a sigmoid output function for the output layer. Though model performance and output layer restuls should immediately indicate there is a problem.\n",
    "\n",
    "Issue number four: additional tuning and hyperparameter exploration will be needed after initial prototyping, and that is just to get the model running well enough to start producing results comparable to the simpler model systems."
   ]
  }
 ],
 "metadata": {
  "kernelspec": {
   "display_name": "Python 3 (ipykernel)",
   "language": "python",
   "name": "python3"
  },
  "language_info": {
   "codemirror_mode": {
    "name": "ipython",
    "version": 3
   },
   "file_extension": ".py",
   "mimetype": "text/x-python",
   "name": "python",
   "nbconvert_exporter": "python",
   "pygments_lexer": "ipython3",
   "version": "3.11.3"
  }
 },
 "nbformat": 4,
 "nbformat_minor": 4
}
